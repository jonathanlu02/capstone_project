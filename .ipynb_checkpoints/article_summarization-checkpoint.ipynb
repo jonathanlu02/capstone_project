{
 "cells": [
  {
   "cell_type": "markdown",
   "id": "c588f0a3",
   "metadata": {},
   "source": [
    "# Read in the data"
   ]
  },
  {
   "cell_type": "code",
   "execution_count": 1,
   "id": "2ad49145",
   "metadata": {},
   "outputs": [],
   "source": [
    "import os\n",
    "import sys\n",
    "import re"
   ]
  },
  {
   "cell_type": "code",
   "execution_count": 47,
   "id": "916f0f14",
   "metadata": {},
   "outputs": [],
   "source": [
    "def read_data(file):\n",
    "    '''\n",
    "    Read each text file into a string\n",
    "    '''\n",
    "    f = open(file, 'r', encoding='utf-8', errors='ignore')\n",
    "    text = f.read()\n",
    "    f.close()\n",
    "    return text\n",
    "\n",
    "def folder_list(path):\n",
    "    '''\n",
    "    Reads each text file in a folder and concatenates each file into a bigger string\n",
    "    Parameter 'path' is the path of your local folder\n",
    "    '''\n",
    "    filelist = os.listdir(path)\n",
    "    text = []\n",
    "    for infile in filelist:\n",
    "        file = os.path.join(path, infile)\n",
    "        text_data = read_data(file)\n",
    "        text += [text_data]\n",
    "    return text"
   ]
  },
  {
   "cell_type": "code",
   "execution_count": 67,
   "id": "9987b689",
   "metadata": {},
   "outputs": [],
   "source": [
    "data = folder_list('clustered_articles/')\n",
    "#data = read_data('clustered_articles/cluster_9.txt')"
   ]
  },
  {
   "cell_type": "code",
   "execution_count": 78,
   "id": "9d35860f",
   "metadata": {},
   "outputs": [
    {
     "data": {
      "text/plain": [
       "'The FDA booster decision shows the process worked: Fauci Dr. Anthony Fauci defended the White House\\'s plan to provide COVID-19 vaccine booster shots before the Food and Drug Administration voted to only provide those shots to Americans 65 and older and immunocompromised. Fauci told ABC \"This Week\" co-anchor Martha Raddatz that he was not disappointed by the panel\\'s decision and he thinks the process worked. \"The goal of this particular decision was to prevent people from getting serious disease who are at risk, such as the elderly and those that have underlying conditions,\" he said. When pressed whether the president\\'s premature announcement would confuse Americans, Fauci said that people need to understand that such decisions depend on science and approvals by the appropriate health agencies. \"The plan was that we have to be ready to do this as soon as the decision is made and when you have a plan, you put a date on it and you say we want to be able to get ready to roll out on the week of September the 20th,\" he said. \"So giving that date, I don\\'t think was confusing.\" -ABC News\\' Julia Cherner\\n\\n'"
      ]
     },
     "execution_count": 78,
     "metadata": {},
     "output_type": "execute_result"
    }
   ],
   "source": [
    "data[37]"
   ]
  },
  {
   "cell_type": "markdown",
   "id": "633f7976",
   "metadata": {},
   "source": [
    "# TF-IDF"
   ]
  },
  {
   "cell_type": "code",
   "execution_count": 64,
   "id": "2236fe2c",
   "metadata": {},
   "outputs": [],
   "source": [
    "## run once ##\n",
    "#!pip install nltk"
   ]
  },
  {
   "cell_type": "code",
   "execution_count": 1,
   "id": "f796c046",
   "metadata": {},
   "outputs": [
    {
     "name": "stdout",
     "output_type": "stream",
     "text": [
      "showing info https://raw.githubusercontent.com/nltk/nltk_data/gh-pages/index.xml\n"
     ]
    },
    {
     "data": {
      "text/plain": [
       "True"
      ]
     },
     "execution_count": 1,
     "metadata": {},
     "output_type": "execute_result"
    }
   ],
   "source": [
    "## run once, install everything ##\n",
    "import nltk\n",
    "import ssl\n",
    "\n",
    "try:\n",
    "    _create_unverified_https_context = ssl._create_unverified_context\n",
    "except AttributeError:\n",
    "    pass\n",
    "else:\n",
    "    ssl._create_default_https_context = _create_unverified_https_context\n",
    "\n",
    "nltk.download()"
   ]
  },
  {
   "cell_type": "code",
   "execution_count": 4,
   "id": "1c91a345",
   "metadata": {},
   "outputs": [],
   "source": [
    "import math\n",
    "\n",
    "from nltk import sent_tokenize, word_tokenize, PorterStemmer\n",
    "from nltk.corpus import stopwords"
   ]
  },
  {
   "cell_type": "code",
   "execution_count": 5,
   "id": "ebf44c55",
   "metadata": {},
   "outputs": [],
   "source": [
    "# sourced from - https://towardsdatascience.com/text-summarization-using-tf-idf-e64a0644ace3\n",
    "def _create_frequency_table(text_string) -> dict:\n",
    "    \"\"\"\n",
    "    we create a dictionary for the word frequency table.\n",
    "    For this, we should only use the words that are not part of the stopWords array.\n",
    "    Removing stop words and making frequency table\n",
    "    Stemmer - an algorithm to bring words to its root word.\n",
    "    :rtype: dict\n",
    "    \"\"\"\n",
    "    stopWords = set(stopwords.words(\"english\"))\n",
    "    words = word_tokenize(text_string)\n",
    "    ps = PorterStemmer()\n",
    "\n",
    "    freqTable = dict()\n",
    "    for word in words:\n",
    "        word = ps.stem(word)\n",
    "        if word in stopWords:\n",
    "            continue\n",
    "        if word in freqTable:\n",
    "            freqTable[word] += 1\n",
    "        else:\n",
    "            freqTable[word] = 1\n",
    "\n",
    "    return freqTable\n",
    "\n",
    "\n",
    "def _create_frequency_matrix(sentences):\n",
    "    frequency_matrix = {}\n",
    "    stopWords = set(stopwords.words(\"english\"))\n",
    "    ps = PorterStemmer()\n",
    "\n",
    "    for sent in sentences:\n",
    "        freq_table = {}\n",
    "        words = word_tokenize(sent)\n",
    "        for word in words:\n",
    "            word = word.lower()\n",
    "            word = ps.stem(word)\n",
    "            if word in stopWords:\n",
    "                continue\n",
    "\n",
    "            if word in freq_table:\n",
    "                freq_table[word] += 1\n",
    "            else:\n",
    "                freq_table[word] = 1\n",
    "\n",
    "        frequency_matrix[sent[:15]] = freq_table\n",
    "\n",
    "    return frequency_matrix\n",
    "\n",
    "\n",
    "def _create_tf_matrix(freq_matrix):\n",
    "    tf_matrix = {}\n",
    "\n",
    "    for sent, f_table in freq_matrix.items():\n",
    "        tf_table = {}\n",
    "\n",
    "        count_words_in_sentence = len(f_table)\n",
    "        for word, count in f_table.items():\n",
    "            tf_table[word] = count / count_words_in_sentence\n",
    "\n",
    "        tf_matrix[sent] = tf_table\n",
    "\n",
    "    return tf_matrix\n",
    "\n",
    "\n",
    "def _create_documents_per_words(freq_matrix):\n",
    "    word_per_doc_table = {}\n",
    "\n",
    "    for sent, f_table in freq_matrix.items():\n",
    "        for word, count in f_table.items():\n",
    "            if word in word_per_doc_table:\n",
    "                word_per_doc_table[word] += 1\n",
    "            else:\n",
    "                word_per_doc_table[word] = 1\n",
    "\n",
    "    return word_per_doc_table\n",
    "\n",
    "\n",
    "def _create_idf_matrix(freq_matrix, count_doc_per_words, total_documents):\n",
    "    idf_matrix = {}\n",
    "\n",
    "    for sent, f_table in freq_matrix.items():\n",
    "        idf_table = {}\n",
    "\n",
    "        for word in f_table.keys():\n",
    "            idf_table[word] = math.log10(total_documents/float(count_doc_per_words[word]))\n",
    "\n",
    "        idf_matrix[sent] = idf_table\n",
    "\n",
    "    return idf_matrix\n",
    "\n",
    "\n",
    "def _create_tf_idf_matrix(tf_matrix, idf_matrix):\n",
    "    tf_idf_matrix = {}\n",
    "\n",
    "    for (sent1, f_table1), (sent2, f_table2) in zip(tf_matrix.items(),idf_matrix.items()):\n",
    "\n",
    "        tf_idf_table = {}\n",
    "\n",
    "        for (word1, value1), (word2, value2) in zip(f_table1.items(),\n",
    "                                                    f_table2.items()):  # here, keys are the same in both the table\n",
    "            tf_idf_table[word1] = float(value1 * value2)\n",
    "\n",
    "        tf_idf_matrix[sent1] = tf_idf_table\n",
    "\n",
    "    return tf_idf_matrix"
   ]
  },
  {
   "cell_type": "code",
   "execution_count": 6,
   "id": "7dbc0e33",
   "metadata": {},
   "outputs": [],
   "source": [
    "def _score_sentences(tf_idf_matrix) -> dict:\n",
    "    \"\"\"\n",
    "    score a sentence by its word's TF\n",
    "    Basic algorithm: adding the TF frequency of every non-stop word in a sentence divided by total no of words in a sentence.\n",
    "    :rtype: dict\n",
    "    \"\"\"\n",
    "\n",
    "    sentenceValue = {}\n",
    "\n",
    "    for sent, f_table in tf_idf_matrix.items():\n",
    "        total_score_per_sentence = 0\n",
    "\n",
    "        count_words_in_sentence = len(f_table)\n",
    "        for word, score in f_table.items():\n",
    "            total_score_per_sentence += score\n",
    "\n",
    "        sentenceValue[sent] = total_score_per_sentence/count_words_in_sentence\n",
    "\n",
    "    return sentenceValue\n",
    "\n",
    "\n",
    "def _find_average_score(sentenceValue) -> int:\n",
    "    \"\"\"\n",
    "    Find the average score from the sentence value dictionary\n",
    "    :rtype: int\n",
    "    \"\"\"\n",
    "    sumValues = 0\n",
    "    for entry in sentenceValue:\n",
    "        sumValues += sentenceValue[entry]\n",
    "\n",
    "    # Average value of a sentence from original summary_text\n",
    "    average = (sumValues/len(sentenceValue))\n",
    "\n",
    "    return average\n",
    "\n",
    "\n",
    "def _generate_summary(sentences, sentenceValue, threshold):\n",
    "    sentence_count = 0\n",
    "    summary = ''\n",
    "\n",
    "    for sentence in sentences:\n",
    "        if sentence[:15] in sentenceValue and sentenceValue[sentence[:15]]>=(threshold):\n",
    "            summary += \" \" + sentence\n",
    "            sentence_count += 1\n",
    "\n",
    "    return summary\n",
    "\n",
    "# s is a scale for the threshold -> higher values means only higher rated TF-IDF \n",
    "# sentences get chosen (more strict).\n",
    "def run_summarization(text, s):\n",
    "    \"\"\"\n",
    "    :param text: Plain summary_text of long article\n",
    "    :return: summarized summary_text\n",
    "    \"\"\"\n",
    "\n",
    "    '''\n",
    "    We already have a sentence tokenizer, so we just need \n",
    "    to run the sent_tokenize() method to create the array of sentences.\n",
    "    '''\n",
    "    # 1 Sentence Tokenize\n",
    "    sentences = sent_tokenize(text)\n",
    "    total_documents = len(sentences)\n",
    "    #print(sentences)\n",
    "\n",
    "    # 2 Create the Frequency matrix of the words in each sentence.\n",
    "    freq_matrix = _create_frequency_matrix(sentences)\n",
    "    #print(freq_matrix)\n",
    "\n",
    "    '''\n",
    "    Term frequency (TF) is how often a word appears in a document, divided by how many words are there in a document.\n",
    "    '''\n",
    "    # 3 Calculate TermFrequency and generate a matrix\n",
    "    tf_matrix = _create_tf_matrix(freq_matrix)\n",
    "    #print(tf_matrix)\n",
    "\n",
    "    # 4 creating table for documents per words\n",
    "    count_doc_per_words = _create_documents_per_words(freq_matrix)\n",
    "    #print(count_doc_per_words)\n",
    "\n",
    "    '''\n",
    "    Inverse document frequency (IDF) is how unique or rare a word is.\n",
    "    '''\n",
    "    # 5 Calculate IDF and generate a matrix\n",
    "    idf_matrix = _create_idf_matrix(freq_matrix, count_doc_per_words, total_documents)\n",
    "    #print(idf_matrix)\n",
    "\n",
    "    # 6 Calculate TF-IDF and generate a matrix\n",
    "    tf_idf_matrix = _create_tf_idf_matrix(tf_matrix, idf_matrix)\n",
    "    #print(tf_idf_matrix)\n",
    "\n",
    "    # 7 Important Algorithm: score the sentences\n",
    "    sentence_scores = _score_sentences(tf_idf_matrix)\n",
    "    #print(sentence_scores)\n",
    "\n",
    "    # 8 Find the threshold\n",
    "    threshold = _find_average_score(sentence_scores)\n",
    "    #print(threshold)\n",
    "\n",
    "    # 9 Important Algorithm: Generate the summary\n",
    "    summary = _generate_summary(sentences, sentence_scores, s*threshold)\n",
    "    return summary"
   ]
  },
  {
   "cell_type": "code",
   "execution_count": 77,
   "id": "9ac84fee",
   "metadata": {},
   "outputs": [
    {
     "name": "stdout",
     "output_type": "stream",
     "text": [
      "0:\n",
      " Flights are restricted to daytime hours. Some of the other defendants wore paramilitary attire. \"Why create an appellate issue? Just one floor above her. He carried her shoes the rest of the way down. They helped each other out. And we knew. It all came flooding back. ET on ABC.\n",
      "\n",
      "1:\n",
      " Hinckley has been barred from having a gun. She died in July. \"And well have actual hard data. Hinckley was suffering from acute psychosis. Hes also shared his music on YouTube. She denied Blumenthal's claims. That included a demonstration of voting equipment. Former New Jersey Gov. \"It is happening across the country. Its not something that just popped up.\" A third lead attorney echoed both Sowards and Bormann. The final team deferred for now. The public portion of the proceedings will resume on Monday. \"S.B. That's what the statute is designed to do. Pitman said. \"We do contest the validity of service to date. Mr. Boies is aware of this. There was no legal explanation for the decision. There are more than 7.1 million registered voters in North Carolina. They were met by Border Patrol agents and deportation efforts. The Trump administration let that designation expire. We did not have vaccines. We did not have a robust testing capability. We have those things now.\" Jozef said. Why is that?\" Wilvens said. I was deeply troubled by it.\" Texas Gov. \"Because S.B. Sepper said. Texas Gov. David reportedly received a draft of that letter.\n",
      "\n",
      "2:\n",
      " And that's how the clubs took off. Colon recruited an accomplice named Gilberto Rivera. \"They were directly now competing with Chippendales. So what would you expect Bannerjee to do when he has a competition? \"He got out easy. Jeb Bush and Rick Scott. But everything I know is American. Some families have already experienced slow-rolling family separations under the policy. Chandler Police have confirmed two deaths. This is a developing story. Please check back for updates. Sen. Floridas GOP Lt. Gov. Both countries have recently tested ballistic missiles. Global Assembly and performed at the United Nations. Chang followed up. Chang asked. What did you think?' You understand.\" Most infected kids have mild infections or no symptoms and do not need to be hospitalized. Submit them at: FactCheck@AP.org. C.J. I recently caught up with Sr. Read my interview with K-M below! A: Where do I begin? Can you describe the collection and the inspiration behind the magic? They are so cute! K-M, what are your must-haves from the collection? A: There are too many to choose from but here are two. David reportedly received a draft of that letter.\n",
      "\n",
      "3:\n",
      " ***Disney PhotoPass is subject to the Disney PhotoPass terms and expiration policy found at Disneyland.com/photopass-terms-conditions/. Online registration required. I literally stayed until the park closed! A: Guardians of the Galaxy - MISSION: BREAKOUT! and Radiator Springs Racers. Q: What were your thoughts on the all-new Avengers Campus? So many cool details everywhere. A: Thank you guys so much! streaming now, only on Disney+! \"What If...?\" Every inch looks as beautiful as ever. But my personal favorite? Bride and groom dive into the ocean in wedding outfits A bride and groom raised eyebrows taking the plunge into the ocean in their full wedding outfits. Their reactions to these surprises were heartwarming to say the least. And our herd continues to grow. Its awesome! Theres magic everywhere. Its so hard to pick a favorite! That moment represented a pivotal shift in Steves perspective. View a list of showtimes here. For more information to start planning your voyage, click here. The decisions are up to you. For more information about all this and more, head over to starwarsgalacticstarcruiser.com, where you can also sign up to receive updates as they become available. The readers of Travel + Leisure have spoken! Its an honor to be considered among the best of the best. Its like being with family. For more information, visit DisneySprings.com/Cirque. Then, came the announcement! Watch the replay below! Beginning at 10:15 p.m. But the fun doesnt stop there! Wave hello if you see these shimmering vehicles whizzing by! Havent decided where to stay yet? Awesome, isnt it? Gil happily ate every bite. What a week this is for EPCOT! Whats this? And ... this is just the beginning! We hope to see you real soon! And that was just the tip of the iceberg. Be sure to search your Kingdom for Figment hanging around! Click here to install today! Visit disneymusic.co/DisneyHalloweenPL for more information.\n",
      "\n",
      "4:\n",
      " And that's how the clubs took off. Colon recruited an accomplice named Gilberto Rivera. \"They were directly now competing with Chippendales. So what would you expect Bannerjee to do when he has a competition? \"He got out easy. No other injuries were reported. The investigation found that in \"more than half the incidents, paramedics failed to follow ketamine monitoring protocols and administered ketamine at doses above the maximum allowable dose for the reported weight of the subject.\" \"I am greatly concerned about the radicalization of the Querdenker. Prosecutors had been seeking three months of home confinement for Mazzocco, who pleaded guilty to a single misdemeanor charge of demonstrating in the Capitol. The 2nd U.S. He is scheduled to be released in April 2024. Prosecutors declined through a spokesperson to comment. \"If we cant trust each other, if we cant trust our government, where are we?\" the judge asked. \"The cash in clipboards and in envelopes and sheds. Some witnesses claimed to hear arguing and then gunshots. The victim refused medical attention. The investigation remains ongoing. The shooter only grazed him. Prosecutors had asked for a higher bond and GPS monitoring. The investigations into the the Murdaughs started June 7, when Alex Murdaugh found the bodies of his 52-year-old wife, Maggie, and their 22-year-old son Paul shot multiple times after returning to their Colleton County home after visiting his sick father, who would die days later from cancer. I have made a lot of decisions that I truly regret. Today, he knows thats not true. I'm asking for help from the parents of Brian. \"There is nothing else that matters to me now. This girl right here. He is being held without bond. Jefferson does not permit weapons on any of its campuses. The chase continues into an alley. No arrests were made in the incident. The victim was taken to the University of Chicago Medical Center, where he was pronounced dead, police said. The victim was taken to Mt. Sinai Medical Center and pronounced dead. Importing these cards is a crime. Four firefighters were injured while responding to the scene. He did not elaborate on the initial investigation into those reports. Thao blocked bystanders from getting involved. The Pentagons Betrayal.\" The parents of U.S. Army Sgt. Dustin Wright of Lyons, Georgia, Sgt. Almost a stateless area. We are talking about numerous No. 1- and 2-ranking commanders eliminated in just months. \"Their sacrifice is not in vain. Ernst coached at Georgetown for 12 years. Giannulli was released in April. He arrived in the U.S. in 2019. --- Bajak reported from Boston. \"He took her with the intent to rape her. He attacked her. Tore her clothes. Struck her in the face. Repeated punches to the face. \"We are moving forward. I dont want any deals. Learn more at stanfordmurders.com. He pulled over and discovered the lifeless body of a woman in a shallow ditch. Her feet were bare and dry despite the wet ground beneath her. She never made it. \"We are moving forward. I dont want any deals. Cold case detective Sgt. \"It was a brutal crime... I believe she fought for her life. Cortez sent the nail clippings to a private lab. I was looking for her everywhere I went. He started to do some research online. What's next for John Getreu? Learn more at stanfordmurders.com. Kevin Stitt. Those shootings took place at Gold Spa and Aromatherapy Spa. There need to be changes. asked Judge Robert Mandelbaum. Maryland Gov. -- Maryland Gov. got back on the train. on the upper level of the train. DEA mourns the loss of our beloved colleague.\" Both Dougherty and Henon have pleaded not guilty. He has denied any wrongdoing. A predator.\" They're human beings.\" The search didn't continue. \"Abuse is abuse. Poor behavior is poor across all boards!\" The state Senate had already gathered enough signatures to do so. Republican Gov. DiMatteo, 66, remains at large. The board forwarded its recommendation to Abbott for final disposition. There were no further details about the incident. They all pleaded not guilty. David reportedly received a draft of that letter. The employee sustained a gunshot wound to the back. The school serves grades 6 through 12. No passengers on the train were injured. Louis.\" \"They had a target. The investigation is ongoing.\n",
      "\n"
     ]
    },
    {
     "name": "stdout",
     "output_type": "stream",
     "text": [
      "5:\n",
      " Gov. That leaves very limited options. Bronsons office released a statement after the meeting. That never happened. It was a move that shocked and angered parents. Iowas Republican Gov. Four firefighters were injured while responding to the scene. He did not elaborate on the initial investigation into those reports. They were both in incubators because they were born underweight. Neither woman was identified. But everything I know is American. Some families have already experienced slow-rolling family separations under the policy. Nursing homes were limiting admissions. \"Weve been planning all along. Carrington said. ------ Hill reported from Albany. A similar condition can occur in adults. Submit them at: FactCheck@AP.org. Read more here: What is the mu variant of the coronavirus? What can employers do if workers avoid COVID-19 vaccines? Do I need a booster if I got the Johnson & Johnson vaccine?\n",
      "\n",
      "6:\n",
      " Anybody could have been hurt.\" No other injuries were reported. Another man had died in floodwaters in Passaic. Ben Beall told reporters. Texas ranks No. The victim refused medical attention. The investigation remains ongoing. \"Our goal is to serve our customers great food, offer excellent service and hospitality while keeping our employees and customers safe as we comply with the government-mandated COVID-19 protocols,\" a Carmine's Italian Restaurant spokesperson said. \"Our goal is to get answers. We love to be able to find Gabby. Her timeline is plausible.\" We ask for calm! No charges were filed. \"I worry about him. \"We send teams. Each team is responsible for their own grid.\" \"I have relayed all my information to them. No other remains were found. The cause was not disclosed. \"And what did we get in return? We got the government to agree not to kill us. Navy Capt. We remember 9/11 every day. 2 to No. ET on Sept. 15. \"But it is always is a possibility. Her age has not been released. It is not luxurious. There is a neighbor only on one side. A school is across the street. They blocked traffic. But they didnt find Guzman there. It started the bidding at about $130,000. There were no takers. The proceeds are to go to Mexicos Olympic athletes. \"I see it as perfectly fine. Many bathed and washed clothing in the river. Unaccompanied children are exempt from fast-track expulsions. He will be deeply missed.\" He never let me settle for less. Utah Gov.\n",
      "\n",
      "7:\n",
      " The prince has denied her allegations. I mean that with the utmost sincerity. State police are investigating. Lawmakers will be in Capitol on Tuesday. \"We are doing all we can to remedy the unprecedented crisis we are experiencing in our jails. Since then, its been criticized for overcrowding. Most of the trouble has been concentrated on Rikers Island. He was given CPR but later pronounced dead. ------ Follow Michael Sisak on Twitter at twitter.com/mikesisak and Michelle L. Price at twitter.com/michellelprice\n",
      "\n",
      "A former senior Department of Homeland Security official who once accused the Trump administration of politicizing intelligence said Sunday that a return of President Donald Trump to the White House in 2024 \"would be a disaster\" for the U.S. intelligence community. The biggest obstacle was the disagreement from police unions. I gave an answer. Cold. Then it will be sent to Gov. Five others were wounded. \"Why are we fighting over this? But the clock is ticking. That's your expectations?\" one reporter asked. But a 'pause' is insufficient.\" Here is what to know about the outage that brought the internet to its knees. What caused the outage and why did it last for so long? Was any personal data compromised? Were hackers or malicious actors involved? Why is it such a big deal for some that social networks are offline? She denied Blumenthal's claims. That's the stage we're in. A third lead attorney echoed both Sowards and Bormann. The final team deferred for now. The public portion of the proceedings will resume on Monday. \"We're on a path to win. \"You're moment by moment. I'm hour-by-hour.\" \"You cannot tire. You cannot concede. That is for sure. today the question is about. But progressives appear to be holding firm in opposition. In a victory for Florida Gov. \"But a 'pause' is insufficient. 8.\" 8 purports to prohibit.\" The final vote was 220-211. The path forward to avert a shutdown is unclear as of right now. What is it that we're going to take out? And it is our continuing duty to confront them.\" Bush led a failed and uninspiring presidency. He shouldnt be lecturing anybody!\" Cheney was ousted from her leadership position as the No. She has denied any wrongdoing. A new sentencing is set for Oct. 8. The coronavirus is only making matters worse. We did not have vaccines. We did not have a robust testing capability. Jozef said. Why is that?\" Wilvens said. Texas Gov. He is the first Latino to represent Ohio in Congress. Trump rallied for Miller this summer. Islam first.\" Californians removed Democratic Gov. Gray Davis in 2003 and replaced him with Republican Arnold Schwarzenegger. There has been no confirmed evidence of widespread fraud. ------ Ronayne reported from Sacramento. \"So were there others killed? Yes, there are others killed. Who they are we don't know. We'll try to sort through all that. The wolf holds a sacred place in their creation story. The U.S. \"I think that he is erratic. I think that he can be delusional. I think that he is a narcissist and cares about himself first and foremost. I believe that he wanted to help the country in the beginning; I believe he wants to help himself now.\" Chang asked Grisham, who responded, \"Definitely not overnight. Chang asked Grisham about her role as press secretary. Chang followed up. Chang asked. \"What I do know is that he behaved inappropriately. What did you think?' Chang asked Grisham. You understand.\" Borrell then met Wednesday with Blinken. The Nets home opener is scheduled for Oct. 24. Out-of-town players are exempt from executive orders. The line devised by the court has been viability. I suggest you close your doors.\" David reportedly received a draft of that letter. 1 going into effect. The U.S. abandoned its embassy building that same weekend. Those ambitions are now more difficult to achieve. But there are roadblocks. International efforts to end the war have been fruitless. I believe that my dad was right. And my sister and I have had that conversation ... Freedom means freedom for everybody.\" I dont know how you explain that to your children. Mark Gordon said Thursday. Circuit Court of Appeals in 2020. ------ Follow Mead Gruver at https://twitter.com/meadgruver\n",
      "\n",
      "8:\n",
      " Saulter said. Please respect my space. It's COVID. \"Respect your space? \"Ultimately. Tim chuckled. \"Its complicated -- and magical!\" Hinckley has been barred from having a gun. She died in July. Hinckley was suffering from acute psychosis. \"I woke up to the train derailing. And then I thought that was crazy. \"They held on really tightly. And others were less fortunate for the positions that they were. Our voters are on them. She denied Blumenthal's claims. Others include surveillance video and body cameras. It's a weather thing. Click here to find the show on your favorite app. Navy Capt. We remember 9/11 every day. It means violence, it means dangerous. \"What distinguished you as an American Muslim? Could you be fully both, or did you have to choose? ------ But being warriors often carries a price. \"I remember having tears in my eyes. Whats the reason behind the attacks? Henao covers faith & youth for the team. The AP is solely responsible for this content. \"Abuse is abuse. Poor behavior is poor across all boards!\" What happens next is largely up to the discretion of the judge. Inside each is a mounted bed with a foam cushion resting on a mattress. \"But it is always is a possibility. He had some minor charges in his criminal history. Thank you.\" \"I ran, ran, ran. Rapid succession, just pow, pow, pow, pow, pow.\" That's when her nurse instincts kicked in. What do you need me to do? Resources were brought in to safely inspect the vehicle. Collierville is about 30 miles from Memphis. This is a developing story. Please check back for updates. \"So were there others killed? Yes, there are others killed. Who they are we don't know. We'll try to sort through all that. Some are to strangers, but fellow Americans. ]/>\n",
      "\n",
      "9:\n",
      " \"This is not hyperbole. Now I really mean it. And he's leading the other team. We need science. We need courage. We need leadership. We need Gavin Newsom. The governor will follow science. And if so, who should replace him? Maryland Gov. -- Maryland Gov. And he questioned the alleged bribes at the heart of the case. The trial is expected to last about six weeks. Both Dougherty and Henon have pleaded not guilty. \"Immigration is tough. We have borders. The legislation was reintroduced in 2021. The trial is expected to last a few weeks. mainland.\"\n",
      "\n"
     ]
    },
    {
     "name": "stdout",
     "output_type": "stream",
     "text": [
      "10:\n",
      " He attacked her. Tore her clothes. Struck her in the face. Learn more at stanfordmurders.com.\n",
      "\n",
      "11:\n",
      " No, but there might be delays. Do we know for sure what services will stop? Yes, and no. How many workers will be affected? \"They have rent to pay. Will a shutdown affect the economy? \"But it is always is a possibility.\n",
      "\n",
      "12:\n",
      " My mom when she picked me up... she was just so frantic... Thats how life got to be without him.\n",
      "\n",
      "13:\n",
      " They helped each other out. And we knew. It all came flooding back. ET on ABC.\n",
      "\n",
      "14:\n",
      " Are you a teacher? Do you inspire imagination in your classroom? NO PURCHASE NECESSARY. Void where prohibited. 1. 2. The best news? 4. NO PURCHASE NECESSARY. Void where prohibited. 5. 6. The figure is available now at Target. The collection is available now at us.ciatelondon.com. The set is available at BoxLunch.com. NO PURCHASE NECESSARY. ET. Void where prohibited. NO PURCHASE NECESSARY. ET. Void where prohibited. NO PURCHASE NECESSARY. ET. Void where prohibited. \"Thats not my job. Maybe easier. It's no bull. And cows do pee a lot. 2. The AP is solely responsible for all content.\n",
      "\n",
      "15:\n",
      " ET. \"I can deal with that. It was a game. It was a game. \"We have a lot of similarities. \"Its a different volume. She likes to be around like smaller kids. now streaming on Disney+. Funding will be raised through private donations. But everything I know is American. \"We think that some kind of immigration law will pass through. And our herd continues to grow. He did his mission. He did his job. Capt. ET on Sept. 15. \"Shame, shame, shame!\" Some booed and waved their fists at the Trump landmark. \"Shes doing better. It quickly grabbed the attention of her clients. \"We think that they're a burden to society but they're not a burden to society. Just one floor above her. He carried her shoes the rest of the way down. They helped each other out. And we knew. It all came flooding back. He told me those words from Florence were a gift. ET on ABC.\n",
      "\n",
      "16:\n",
      " I mean that with the utmost sincerity. State police are investigating. Lawmakers will be in Capitol on Tuesday. The company paused the project after it came under public scrutiny. The victim refused medical attention. The investigation remains ongoing. The heat will then shift over parts of the central Rockies on Friday. South Dakota GOP Gov. What more do you need to see?\" That included a demonstration of voting equipment. Former New Jersey Gov. The results were upheld following recounts in Milwaukee and Dane counties and through numerous state and federal lawsuits filed by Trump and his supporters. Its not something that just popped up.\" ------ Gera reported from Warsaw. What is Title 42? Who is being deported under Title 42? Each death is individual heartbreak.\" \"'My 15-year-old daughter loved her body at 14. Was on Instagram constantly and maybe posting too much. Suddenly she started hating her body. He is the first Latino to represent Ohio in Congress. Trump rallied for Miller this summer. It gave no other details. The Democratic-only legislation faces an uphill battle in Congress. ------ Knickmeyer reported from Oklahoma City. Progressives had threatened to tank the measure over the military support. To be honest, things look really, really dark right now. are honest and good people. I urge them not to put up with the cowardice of their bosses.\" Gavin Newsom loses. \"So the politicians are using it. The results were \"alarming\" and \"surprising.\" Tensions have been high between North and South Korea. Global Assembly and performed at the United Nations. The office of Gov. Democrats and immigrant advocates praised the ruling. Some proponents say that they are a hedge against the encroachment of liberal policymakers. Ron DeSantis. It happens in a lot of different cases. These laws are about suppressing the rights of other people. Thats the thread that we see running through these laws.\" Texas Gov. \"The most precious freedom is life itself. \"Where are we now? C.J. \"Theres an interesting government interest in the government saying something and confirming something.\" Strauss said. No issue is bigger than abortion. The line devised by the court has been viability. forces.\" And I offer my sincere apology.\" ISIS-K claimed responsibility for the suicide bombing.\n",
      "\n",
      "17:\n",
      " She died in July. \"We did not have missiles. We were on a suicide mission. And there were no tears. He did not elaborate on the initial investigation into those reports. The U.S. Please contact the U.S. Is she being harmed? Is she dead or alive?\"\n",
      "\n",
      "18:\n",
      " Visiting Disney Springs? And the fun doesnt stop there! Cheers! Yum! Hiya, foodies! Yum! Mix in grated potatoes. Reduce oven heat to 350degF. Sprinkle with cheese. Please supervise children who are helping or nearby. And it continues to dazzle and impress all these years later! Delicious! Peruse the full menu below. Enjoy! Happy Halloween! And desserts? Love a tasty lunch as I do? Craving something other than a steak? The recalled pizza products were produced on Jun. Visiting EPCOT before October? Love to prepare dishes at home? #DisneyWorld50! Yes, theres a mallet to break your pinata! Serves two. Read more below. Thats right amigos! Kids can even participate in an ultraviolet scavenger hunt. Looking for dinner with the show?\n",
      "\n",
      "19:\n",
      " The total sum hasn't been disclosed. Some said they were raped. But Schyck says he's undeterred. If we have to keep going, well keep going.\" \"We remain in touch with them. That investigation will have integrity. Brooks is now running for the Senate. Here is what to know about the outage that brought the internet to its knees. What caused the outage and why did it last for so long? Was any personal data compromised? Were hackers or malicious actors involved? Why is it such a big deal for some that social networks are offline? She denied Blumenthal's claims. \"How can such a huge mistake happen?\" Raddatz asked Mullen. A third lead attorney echoed both Sowards and Bormann. The final team deferred for now. The public portion of the proceedings will resume on Monday. She now lives in Mexico. \"Do I agree with him on all points? He is the better candidate. He is the better man.\" Voting concludes Tuesday. Maryland Gov. -- Maryland Gov. The Trump administration let that designation expire. We did not have vaccines. We did not have a robust testing capability. Jozef said. Why is that?\" Wilvens said. Texas Gov. \"We inherited a deadline. But he acknowledged that there had been problems. \"Could things have been done differently? My students were unfairly and unlawfully victimized. Do you think that those tactics are crossing a line?\" a reporter asked. \"He never once did so. His positions were and his views were put forward. They were valued. They were heard. They've heard the warnings.\" Gov. she said of the collapse. Where can you go beyond that?\" It wasnt immediately clear who created it. Here's a closer look at the facts. The price fell just as fast a few minutes later. Learn more about fact-checking at AP.\n",
      "\n",
      "20:\n",
      " Both men appeared in court Monday. Wead attorney Jay Sekulow said Wead pleaded not guilty. It is illegal to solicit campaign contributions from foreigners. Trump had a fundraiser in Pittsburgh on Sept. 22. \"Global tax evasion fuels global inequality. We need to expand and sharpen the countermeasures now.\" Babis has denied any wrongdoing. \"Everybody is free to do what they want. Ive got a job to do and that is my focus.\" California Gov. Arnold Schwarzenegger. Elizabeth Warren and Bernie Sanders. \"This is not hyperbole. \"This is not hyperbole. Now I really mean it. And he's leading the other team. We need science. We need courage. We need leadership. We need Gavin Newsom. The governor will follow science. And if so, who should replace him? You listen to the parliamentarian. You have no power.\" That included a demonstration of voting equipment. Former New Jersey Gov. Its not something that just popped up.\" He was 74. His comments sparked an outcry. Mike Huckabee. McCaskill's moves paid off. Funeral information has not been announced. ------ Hanna reported from Topeka, Kansas. Salter reported from O'Fallon, Missouri. ------ Gera reported from Warsaw. The primary is in June. Whites account for about 30% of residents. Maryland Gov. -- Maryland Gov. And it is our continuing duty to confront them.\" Bush led a failed and uninspiring presidency. He shouldnt be lecturing anybody!\" Cheney was ousted from her leadership position as the No. The area was declared a no-fly and no-fishing zone. The killings are being investigated by the International Criminal Court. And he questioned the alleged bribes at the heart of the case. The trial is expected to last about six weeks. Both Dougherty and Henon have pleaded not guilty. Californians removed Democratic Gov. ------ Ronayne reported from Sacramento. Floridas GOP Lt. Gov. Tax the Rich.\" Democrats blame the unfettered conservativism on Trumpism. DeSantis -- theyve threaded that needle very nicely. ------ Weissert reported from Washington. \"The evidence is clear. We can stop it from getting worse.\" \"Climate change is here. The TIP with Quinn Scanlan Georgia Lt. Gov. Jones was one of them. Please check back tomorrow for the latest. Gavin Newsom. Please check back tomorrow for the latest. Please check back Monday for the latest. I do that 6 days a week. We ask and will work for your support. Will you join us?\"\n",
      "\n"
     ]
    },
    {
     "name": "stdout",
     "output_type": "stream",
     "text": [
      "21:\n",
      " Keep reading for some inspiration you wont want to miss! Rocio said. What is Sidneys favorite attraction at Disneyland? Sidney said. What was the goal of the book? What is your favorite section of the book? That might surprise a few readers. TIM: I love all of it! I also love our 15-pages of endnotes. All have one thing in common. For more information, visit www.DisneyBooks.com. Funding will be raised through private donations. Im no exception.\" The family didn't. Congratulations Lily and Tony! Its an honor to be considered among the best of the best. Its like being with family. For more information, visit DisneySprings.com/Cirque. Carla noted. She is a fox with an inquisitive mind and the intelligence that supports it. The possibilities are endless!\" Ask yourself, 'what drives you? The rest will come. Talk about a full circle!\n",
      "\n",
      "22:\n",
      " That is down from 3,805 a year earlier and 3,785 in 2018. It peaked at 31,255 in 1967. This birth is a true milestone for this endangered species. And our herd continues to grow. Her 8-year-old son has Down syndrome. \"If we can do that ... But some criticized Republican Gov. The final day to vote is Tuesday. Republican Arnold Schwarzenegger jumped into the race and won handily. Nursing homes were limiting admissions. \"We are concerned. \"Weve been planning all along. Carrington said. ------ Hill reported from Albany. There is also no evidence that they have an advantage. ... Each death is a unique tragedy and an irreparable loss. It's free, it's safe, it's easy. Most infected kids have mild infections or no symptoms and do not need to be hospitalized. Submit them at: FactCheck@AP.org. Can I get 'long COVID if Im infected after vaccination? Can kids be harmed wearing masks to protect against COVID? They urged more effort to reverse the trend. I fully realize we have more work to do.\"\n",
      "\n",
      "23:\n",
      " Not more federal taxes, state taxes, but they have the federal money to be able to do that. \"I could not do anything but blink. \"COVID doesnt care. \"We did not have missiles. We were on a suicide mission. Anyone who had been in our position would have been willing to do the same thing. And there were no tears. But Penney did not complete her suicide mission. \"We have to make a commitment to stability. Move beyond ourselves.\" Here is what to know about the outage that brought the internet to its knees. What caused the outage and why did it last for so long? Was any personal data compromised? Were hackers or malicious actors involved? Why is it such a big deal for some that social networks are offline? \"Theres serious corruption potential. The law contemplates that.\" But the group has had a decidedly low profile. But they are prohibited from donating to nonprofits that they operate. But in 2020 that income dropped to $20,000. The study looked at data between 2008 and 2017. Republican Arnold Schwarzenegger jumped into the race and won handily. ET on Sept. 15.\n",
      "\n",
      "24:\n",
      " Moderate Sens. Karl pressed. We just have to ensure.\" Some Democrats say they'd support using reconciliation if it meant a swift resolution of the debt limit issue. Some Democrats were more emphatic. We've shown the best way to go. The political implications for both parties are unclear. \"Why are we fighting over this? But the clock is ticking. That's your expectations?\" one reporter asked. What is Evergrande? Why now? Is this a 'Lehman Brothers moment'? \"China is the second-largest economy and second-largest importer of the world. \"Now is this response justified or is it an overreaction? Why is this impacting cryptocurrencies? Just get out of the way. \"We have no list of demands. Democratic Sens. Floridas GOP Lt. Gov. Yellen painted a grim picture again Tuesday. I believe that it would be catastrophic not to do so. The 2021 to 2022 winter season is forecast to be drier than average. Biden seized on that point. Now they won't raise it. I don't believe that. But can I guarantee it? \"We have no list of demands. Period. Here's what it is and some of the real-world impacts it can have. What is the debt ceiling? Why should I care about this? Yes. This would be uncharted territory. Why are we hitting the debt ceiling? Nope. We can no longer afford the costs of neglect and inaction. They include Sens. The idea is that entire package should pay for itself. Zero.\" Democratic moderates are jockeying for advantage against their liberal counterparts.\n",
      "\n",
      "25:\n",
      " CNN first reported the incident. But not all of them offer online sports betting. \"Flares are safety devices and the flares are functioning as intended. ET on Sept. 15. And if so -- what if anything did you do?\" McCaul pressed. \"They are lucid. They are strong. I still hear airplanes flying overhead. I hear the screams. And our descendants do not.\" ASM Global manages the Superdome. Some are to strangers, but fellow Americans. Consumers have felt that crush at checkout.\n",
      "\n",
      "26:\n",
      " Georgia Gov. It's hard to believe that they're there. Navy Capt. We remember 9/11 every day. \"But it is always is a possibility.\n",
      "\n",
      "27:\n",
      " Which one took the longest? We know the guests will love it! @DisneylandAmbassador | @WDW.Ambassador | @DLPAmbassador\n",
      "\n",
      "California Gov. That's less than a tenth of registered voters. Some Democrats are also leaning national. California Gov. New Jersey Gov. \"She'll be the governor. But everything I know is American. Some families have already experienced slow-rolling family separations under the policy. Texas Gov. The justices did not address those questions. The Trump administration let that designation expire. We did not have vaccines. We did not have a robust testing capability. We have those things now.\" Jozef said. Why is that?\" Wilvens said. Texas Gov. Ron DeSantis. Texas Gov. Please check back tomorrow for the latest. Maryland Gov. -- Maryland Gov.\n",
      "\n",
      "28:\n",
      " Anything in the world. You just have to do something. So get after it!\" NO PURCHASE NECESSARY. ET. Void where prohibited. ET. Happy trading! Ready for another reason to celebrate? No Purchase Necessary To Enter/Win A Prize. A Purchase Will Not Increase Chances Of Winning. ET. Void where prohibited. Limit 1 prize/participant. ET. ET. ET. Beginning at 9:00 p.m. Rules NO PURCHASE NECESSARY. ET. Void where prohibited. ET. Go, go, go. But there was a near-constant anxiety that ate at her. And there were night tremors and flashes of light while driving. But her troubles weren't over. But the horse had a magical effect on her. \"They have a sixth sense. He just kept going. His pockets picked. His shoes and socks stolen. She had died overnight. It hit me really, really hard. A French documentary maker had asked her about it. Stapleton agreed to try. And I've reflected on that and I regret that. How long should the pause last? As of Thursday, there were more than 45. \"We are overwhelmed. ... Everyone is so tired.\" ... Some people just refuse. ... \"Some emphasize more text. ... Gov. Weve got to fix the problems. This is not some one-time fix. This is not a Band-Aid. ... But what do you do? Daniels said. Maybe easier. It's no bull. And cows do pee a lot. There are a couple caveats to this experiment. 2. The AP is solely responsible for all content. This is a developing story. Please check back for updates. So who is the real Sorokin? But she is determined to stay in the U.S. So whats next for Anna Sorokin? My students were unfairly and unlawfully victimized. a reporter asked. Chang followed up. Chang asked. What did you think?'\n",
      "\n",
      "29:\n",
      " Search and rescue crews had searched through the river throughout the week. Another man had died in floodwaters in Passaic. CNN first reported the incident. Buyer to do due diligence. House being sold as is.\" \"I did get caught up in the moment ... We need more resources deployed ASAP. It is not yet clear what caused the spill. Flights are restricted to daytime hours. The two others died of carbon monoxide poisoning. None of those have been confirmed to be storm-related. \"We did not have missiles. We were on a suicide mission. Anyone who had been in our position would have been willing to do the same thing. And there were no tears. But Penney did not complete her suicide mission. Move beyond ourselves.\" John Bel Edwards said. Maryland Gov. -- Maryland Gov. And if so -- what if anything did you do?\" McCaul pressed. \"They are lucid. They are strong. I still hear airplanes flying overhead. I hear the screams. And our descendants do not.\" The Trump administration let that designation expire. We did not have vaccines. We did not have a robust testing capability. Jozef said. Why is that?\" Wilvens said. Texas Gov. Most are made in Mexico with China supplying the chemicals. Only those sold on the black market. Both Dougherty and Henon have pleaded not guilty. This is a developing story. Please check back for updates. Sen. Three passengers were killed. What exactly are we trying to accomplish? But who to fight? Where to start? Are you missing Thanksgiving, Christmas, or are you missing Fourth of July? The fall of Baghdad had happened swiftly. \"Nobody should have died there. Nobody needed to die there. My god.\" \"What did the Army do?\" Sharrett asked. And I think I'd leave the 'f***ing' in there for emphasis.\n",
      "\n",
      "30:\n",
      " A cause of death was also undetermined. Jones declined to comment further on the investigation. No further details were disclosed. But everything I know is American. Some families have already experienced slow-rolling family separations under the policy.\n",
      "\n",
      "31:\n",
      " It paid off. Much of the country remains largely COVID-free. The real problem has been lack of supply. I hate that this is now normal and that we have to be OK with it. How are we still in this position?\" Here is what to know about the outage that brought the internet to its knees. What caused the outage and why did it last for so long? Was any personal data compromised? Were hackers or malicious actors involved? Why is it such a big deal for some that social networks are offline?\n",
      "\n"
     ]
    },
    {
     "name": "stdout",
     "output_type": "stream",
     "text": [
      "32:\n",
      " Other experts have stressed that size isn't everything. Sony Salzman is the unit's coordinating producer. They certainly are. Maybe easier. It's no bull. Some kids take quite a bit longer. And cows do pee a lot. \"The critical question is can it and will it scale?\" There are a couple caveats to this experiment. 2, they didnt do No. 2. The AP is solely responsible for all content. Submit them at: FactCheck@AP.org. We have children. Whos going to raise these kids?\" They work by interfering with the viruss ability to replicate in human cells. They would be another tool to fight covid. Atea and Pfizer have not released similar estimates. Even more promising? Kaiser Health News is a nonprofit news service covering health issues. We owe them a commitment to follow the science.\n",
      "\n",
      "33:\n",
      " Hinckley has been barred from having a gun. She died in July. Hinckley was suffering from acute psychosis. Hes also shared his music on YouTube. \"Everybody is frustrated. Two. We have the responsibility and the opportunity to do so. \"It doesnt matter when. No strategy. \"We need to be real. Not more federal taxes, state taxes, but they have the federal money to be able to do that. He declined further comment. The memorial plaza with its twin reflecting pools opened in 2011. An underground transit hub and shopping mall opened in 2016. They would like all of the apartments to be affordable. They were down for more than six hours. Some of you may have had an issue seeing replies and DMs as a result. This has been fixed. Sorry about that!\" Twitter Support tweeted. Our engineers are working on it. Sorry for the inconvenience.\" Facebook defended itself against the bipartisan scrutiny at the hearing. Funding will be raised through private donations. Obamas presidential papers will be available in digital form. Four firefighters were injured while responding to the scene. He did not elaborate on the initial investigation into those reports. But it wasnt game over for Democrats just yet. Holmes.\" Click here to find the show on your favorite app. Maryland Gov. -- Maryland Gov. She has denied any wrongdoing. What is it that we're going to take out? It's a very big agenda. Sen. Ralph Northam to order the removal of the enormous Lee statue. The search didn't continue. The four city-owned statues were taken down last summer. And the president is working on that piece. But we're not there yet.\" ASM Global manages the Superdome. Tensions have been high between North and South Korea. Gavin Newsom framed the recall race explicitly against Trumpism. There is no indication that any widespread fraud occurred. Please check back tomorrow for the latest. Greg Abbott and Florida's Gov. Ron DeSantis. Texas Gov. Please check back tomorrow for the latest. A vote is expected at about 4:45 p.m. ET, if they stay on schedule. Calls to the Beta Operating Company were not answered. There was, however, a caveat. I suggest you close your doors.\" Leahy asked.\n",
      "\n",
      "34:\n",
      " We're worried about it. That never happened. It was a move that shocked and angered parents. Iowas Republican Gov. Paid time off is key. These acts of proactive leadership are essential to reduce risks for all. Benjy Renton is an analyst at Ariadne Labs. She has denied any wrongdoing. -ABC News' Ahmad Hemingway\n",
      "\n",
      "35:\n",
      " But my personal favorite? As a nation our adjustments have been profound. That is the America I know. God bless. Its like being with family.\n",
      "\n",
      "36:\n",
      " Now I really mean it. We need science. We need courage. We need leadership. The governor will follow science. And if so, who should replace him? -ABC News' Julia Cherner\n",
      "\n",
      "37:\n",
      " -ABC News' Julia Cherner\n",
      "\n",
      "38:\n",
      " Maryland Gov. -- Maryland Gov. Tell them don't be afraid.' She is a fox with an inquisitive mind and the intelligence that supports it.\n",
      "\n",
      "39:\n",
      " California Gov. She was out Saturday knocking on doors in Los Angeles County. Arnold Schwarzenegger, the winner of the 2003 recall. The environmentalist Greens gained more support than anticipated early on. \"Both are transatlantically oriented parties. The legislation will continue to allow voter roll purges but requires changes to be \"done on the basis of reliable and objective evidence and prohibits the use of returned mail sent by third parties to remove voters.\" \"There is now no substitute for action. Redistricting can carry significant consequences. Democrats on the panel called the maps unfair. \"Were going to be able to look back on this sort of experiment and see what works and what doesnt work,\" he said. ------ Lieb reported from Jefferson City, Missouri. They're all Democrats. \"Were going to blink and were going to be in 2022.\" But there are differences over how much such a measure should cost and how it should be paid for. Democratic Sens. There are also divides over how to impose levies on top earners. We won the White House. Democrats have been here before. But it's unclear whether that equilibrium can be maintained. Manchin is so far unmoved. What is it that we're going to take out? The legislation also provides billions in aid for emergency disaster relief and Afghan evacuees. It also suspends the debt limit to December 2022. Breyer was not asked about and did not comment on the connection with McConnell. The legislation was reintroduced in 2021. The effectiveness of no-knock warrants also was to be studied. He allowed for renewals to continue but prohibited new enrollments. --- Spagat contributed from San Diego. California Gov. But on Tuesday, he did more than survive. Hicks told ABC News. She never had a birth certificate. Her daughter has helped her apply for one.\n",
      "\n",
      "40:\n",
      " They would like all of the apartments to be affordable. ET on Sept. 15. That was a simple statement of fact. Why? Please check back tomorrow for the latest. The owners and the members of that club. \"The most common problems are weather intrusions. One that is most common that we see is failing to maintain. The recalled pizza products were produced on Jun.\n",
      "\n",
      "41:\n",
      " A spokesperson for the FEC declined to comment on the litigation. Police then brought in crisis negotiation officers. \"But it is always is a possibility. \"Theres serious corruption potential. The law contemplates that.\" Theyre too smart. On Facebook the groups seem harmless. \"Exploring nature. Enjoying home!\" Battle of the Nibelungs declined to comment. The trial is expected to last a few weeks. It is not luxurious. There is a neighbor only on one side. A school is across the street. They blocked traffic. But they didnt find Guzman there. It started the bidding at about $130,000. There were no takers. The proceeds are to go to Mexicos Olympic athletes. \"I see it as perfectly fine.\n",
      "\n",
      "42:\n",
      " I cant wait to see these spaces come to life in person and better yet start my shopping! Congratulations Mika! Visiting Disney Springs? And the fun doesnt stop there! Cheers! I hope youll check it out! Come discover what you can learn. Lets be curious together! All courses are presented in English. But my personal favorite? No worries! Jenna said. I cant wait to photograph the Tree of Life once again during the 50th anniversary celebration, when it transforms into a Beacon of Magic at night. It measures 175 feet tall and 300 feet in diameter. Which one took the longest? We know the guests will love it! Dont wait! And speaking of Magic Kingdom ... Mark your calendar! What will you brew in yours? It even includes a chocolate broom stirrer! Which mouthwatering flavor will be your favorite? Enjoy! New! Sink Your Fangs Into... Eerie Entertainment! And our herd continues to grow. Its awesome! Theres magic everywhere. Its so hard to pick a favorite! Check them out! Can you blame her? Look at these super cute items! Which one is more your style? Its just Rafaels optical trickery! What do you think of these reimaginings of Mickey Mouse? I cant wait to mix and match them! It wasnt until they were adults that they reconnected and fell in love. Explore opportunities at DCLjobs.com! explained Mallory. Please supervise children who are helping or nearby. Oooh! His cauldron is over 4-feet tall! Not valid on previously booked rooms. Advance reservations required. Excludes applicable fees and taxes. We even threw in a few new surprises! Welcome Aboard! We look forward to welcoming you to Tenaya Stone Spa! What does Tenaya mean? Who were the ancestors? What materials did they use? What stones were important? What tools? It had to be authentic. What were your guiding principles in design elements? The tree root chandelier is eye-catching! The wood flooring! Instead of wood planks, we cut wood rounds. Advance appointments are now available. Its like being with family. Then, came the announcement! She is a fox with an inquisitive mind and the intelligence that supports it. But the fun doesnt stop there! Wave hello if you see these shimmering vehicles whizzing by! Havent decided where to stay yet? We look forward to answering your planning questions.\n",
      "\n",
      "43:\n",
      " He did not elaborate on the initial investigation into those reports. Additional information was not immediately available. There will be consequences. It's an embarrassment, beyond an embarrassment. It's dangerous. And 8,000 more returned south to Mexico. There will be consequences. It's an embarrassment, beyond an embarrassment. It's dangerous. It's dangerous.\n",
      "\n"
     ]
    },
    {
     "name": "stdout",
     "output_type": "stream",
     "text": [
      "44:\n",
      " The victim refused medical attention. The investigation remains ongoing. He stood by his confirmation of the plan. That never happened. It was a move that shocked and angered parents. Iowas Republican Gov. Paid time off is key. These acts of proactive leadership are essential to reduce risks for all. Benjy Renton is an analyst at Ariadne Labs. \"I could not do anything but blink. I could not talk, did not raise my head up off the pillow. \"COVID doesnt care. But some criticized Republican Gov. U.S. \"This is not an unusual phenomenon. he asked. But it really does depend on us and what we do together.\" \"S.B.\n",
      "\n",
      "45:\n",
      " They would like all of the apartments to be affordable.\n",
      "\n",
      "46:\n",
      " Most of the trouble has been concentrated on Rikers Island. Hinckley has been barred from having a gun. She died in July. Hinckley was suffering from acute psychosis. Hes also shared his music on YouTube. The victim refused medical attention. The investigation remains ongoing. \"I dont care if theyre gay. I work with everybody.\" You can see the anguish on both sides. The ban does not apply to students. But human beings should never be treated that way. Period.\" I have also seen the video. Benjamin Siegel contributed to this report. Walker wrote. North Carolina Democratic Gov. Maryland Gov. -- Maryland Gov. -- McDonald reported from Beijing. Sen. Democratic Gov. Some chanted \"Whose streets? Our streets!\" and sang, \"Hey, hey, hey, goodbye.\" Del. Hate crimes against Muslims rose 1617% from 2000 to 2001, according to the FBI marking some of the highest numbers of Islamophobic hate crimes ever in the U.S. Islam is peace. These terrorists don't represent peace. Not good.\" There's a tremendous hatred. We have to get to the bottom of it. I suggest you close your doors.\" David reportedly received a draft of that letter. The sky was clear and blue. And still others were simply at the wrong place at the wrong time. Guantanamo Bay was the answer. Wholly illegal.\" I couldn't run with them. \"He really just rolled it off. Why is standing limited to 4 hours?\" U.S. Air Force Reserve Capt. The Pentagon ignored them. McCary redeployed back home. I struggled immensely with all of that.\" Others feel differently. The sky was clear and blue. The blue lights are meant to be seen. A scarred nation largely acquiesced. Hate crimes against Muslims skyrocketed. Mosques became inundated with threats. Blue-light cameras flooded crime-prone streets. Absolutely there's racism. Jones is not alone in her support for the programs. Is the crime rate in Baltimore getting better? \"Kids are very media savvy. They've heard the warnings.\" Neither will serve time in jail. It is a deep feeling of shame.\" He admitted abusing more than 75 boys for decades.\n",
      "\n",
      "47:\n",
      " Raddatz asked. The district employs around 73,000 people. ------ Gera reported from Warsaw. Is that a good idea?\" Stephanopoulos asked. \"But we don't know. Greg Abbott and Florida Gov. Ron DeSantis. This is totally unacceptable.\" What more do you need to see? We've been patient, but our patience is wearing thin. And your refusal has cost all of us. California Gov. We are all exhausted by it. Here's what we know. There's been a lot of debate as the process plays out. What's the controversy? Are booster shots safe? But there were other signs that immunity waned with time. It's obviously less than non-vaccinated [people]. Both are scheduled to attend Friday's discussion. Other NFL teams may be without starters for their openers. He was activated Saturday and was on the field Monday. The sum for Ida-related expenses is rough as much of the damage is still being assessed. The 2021 to 2022 winter season is forecast to be drier than average. \"Kids are very media savvy. \"They have heard about what the future looks like. They've heard the warnings.\" Those numbers are at roughly the 10-year average for number of wildfires and area burned.\n",
      "\n",
      "48:\n",
      " Opposition could form again. \"They get to tell their stories. They need to have a platform to be heard on. About 2,000 have been moved so far. U.S. he asked.\n",
      "\n"
     ]
    }
   ],
   "source": [
    "for cluster_idx in range(len(corpus)):\n",
    "    result = run_summarization(corpus[cluster_idx], 2)\n",
    "    print(str(cluster_idx) + ':')\n",
    "    print(result)\n",
    "    print()"
   ]
  },
  {
   "cell_type": "markdown",
   "id": "6a48cec5",
   "metadata": {},
   "source": [
    "# Sklearn tf-idf"
   ]
  },
  {
   "cell_type": "code",
   "execution_count": 21,
   "id": "7d3333f7",
   "metadata": {},
   "outputs": [],
   "source": [
    "import matplotlib.pyplot as plt\n",
    "import seaborn as sns\n",
    "from sklearn.feature_extraction.text import CountVectorizer\n",
    "from sklearn.feature_extraction.text import TfidfVectorizer"
   ]
  },
  {
   "cell_type": "code",
   "execution_count": 15,
   "id": "95fd60af",
   "metadata": {},
   "outputs": [
    {
     "name": "stderr",
     "output_type": "stream",
     "text": [
      "/Library/Frameworks/Python.framework/Versions/3.8/lib/python3.8/site-packages/sklearn/utils/deprecation.py:87: FutureWarning: Function get_feature_names is deprecated; get_feature_names is deprecated in 1.0 and will be removed in 1.2. Please use get_feature_names_out instead.\n",
      "  warnings.warn(msg, category=FutureWarning)\n"
     ]
    }
   ],
   "source": [
    "vectorizer = CountVectorizer()\n",
    "term_frequencies = vectorizer.fit_transform([data])\n",
    "\n",
    "vocab = vectorizer.get_feature_names()"
   ]
  },
  {
   "cell_type": "code",
   "execution_count": 16,
   "id": "ba769d88",
   "metadata": {},
   "outputs": [],
   "source": [
    "tfidf_vectorizer = TfidfVectorizer()\n",
    "tfidf = tfidf_vectorizer.fit_transform(corpus).toarray()"
   ]
  },
  {
   "cell_type": "code",
   "execution_count": 27,
   "id": "493c77ec",
   "metadata": {},
   "outputs": [],
   "source": [
    "def get_average(values) :\n",
    "    greater_than_zero_count = total = 0\n",
    "    for value in values :\n",
    "        if value != 0 :\n",
    "            greater_than_zero_count += 1\n",
    "            total += value \n",
    "    return total / greater_than_zero_count\n",
    "\n",
    "def get_threshold(tfidf_results) :\n",
    "    i = total = 0\n",
    "    while i < (tfidf_results.shape[0]) :\n",
    "        total += get_average(tfidf_results[i, :].toarray()[0])\n",
    "        i += 1\n",
    "    return total / tfidf_results.shape[0]\n",
    "\n",
    "def get_summary(documents, tfidf_results) :\n",
    "    summary = \"\"\n",
    "    i = 0\n",
    "    while i < (tfidf_results.shape[0]) :\n",
    "        if (get_average(tfidf_results[i, :].toarray()[0])) >= get_threshold(tfidf_results) * HANDICAP :\n",
    "                summary += ' ' + documents[i]\n",
    "        i += 1\n",
    "    return summary"
   ]
  },
  {
   "cell_type": "code",
   "execution_count": 28,
   "id": "2fe3d8d6",
   "metadata": {},
   "outputs": [
    {
     "ename": "TypeError",
     "evalue": "'numpy.float64' object is not iterable",
     "output_type": "error",
     "traceback": [
      "\u001b[0;31m---------------------------------------------------------------------------\u001b[0m",
      "\u001b[0;31mTypeError\u001b[0m                                 Traceback (most recent call last)",
      "\u001b[0;32m/var/folders/90/thhbp1f51ll8qhsc_rh_jjk00000gp/T/ipykernel_8131/3621707626.py\u001b[0m in \u001b[0;36m<module>\u001b[0;34m\u001b[0m\n\u001b[0;32m----> 1\u001b[0;31m \u001b[0mprint\u001b[0m\u001b[0;34m(\u001b[0m\u001b[0mget_summary\u001b[0m\u001b[0;34m(\u001b[0m\u001b[0;34m[\u001b[0m\u001b[0mdata\u001b[0m\u001b[0;34m]\u001b[0m\u001b[0;34m,\u001b[0m\u001b[0mtfidf\u001b[0m\u001b[0;34m)\u001b[0m\u001b[0;34m)\u001b[0m\u001b[0;34m\u001b[0m\u001b[0;34m\u001b[0m\u001b[0m\n\u001b[0m",
      "\u001b[0;32m/var/folders/90/thhbp1f51ll8qhsc_rh_jjk00000gp/T/ipykernel_8131/3238409452.py\u001b[0m in \u001b[0;36mget_summary\u001b[0;34m(documents, tfidf_results)\u001b[0m\n\u001b[1;32m     18\u001b[0m     \u001b[0mi\u001b[0m \u001b[0;34m=\u001b[0m \u001b[0;36m0\u001b[0m\u001b[0;34m\u001b[0m\u001b[0;34m\u001b[0m\u001b[0m\n\u001b[1;32m     19\u001b[0m     \u001b[0;32mwhile\u001b[0m \u001b[0mi\u001b[0m \u001b[0;34m<\u001b[0m \u001b[0;34m(\u001b[0m\u001b[0mtfidf_results\u001b[0m\u001b[0;34m.\u001b[0m\u001b[0mshape\u001b[0m\u001b[0;34m[\u001b[0m\u001b[0;36m0\u001b[0m\u001b[0;34m]\u001b[0m\u001b[0;34m)\u001b[0m \u001b[0;34m:\u001b[0m\u001b[0;34m\u001b[0m\u001b[0;34m\u001b[0m\u001b[0m\n\u001b[0;32m---> 20\u001b[0;31m         \u001b[0;32mif\u001b[0m \u001b[0;34m(\u001b[0m\u001b[0mget_average\u001b[0m\u001b[0;34m(\u001b[0m\u001b[0mtfidf_results\u001b[0m\u001b[0;34m[\u001b[0m\u001b[0mi\u001b[0m\u001b[0;34m,\u001b[0m \u001b[0;34m:\u001b[0m\u001b[0;34m]\u001b[0m\u001b[0;34m[\u001b[0m\u001b[0;36m0\u001b[0m\u001b[0;34m]\u001b[0m\u001b[0;34m)\u001b[0m\u001b[0;34m)\u001b[0m \u001b[0;34m>=\u001b[0m \u001b[0mget_threshold\u001b[0m\u001b[0;34m(\u001b[0m\u001b[0mtfidf_results\u001b[0m\u001b[0;34m)\u001b[0m \u001b[0;34m*\u001b[0m \u001b[0mHANDICAP\u001b[0m \u001b[0;34m:\u001b[0m\u001b[0;34m\u001b[0m\u001b[0;34m\u001b[0m\u001b[0m\n\u001b[0m\u001b[1;32m     21\u001b[0m                 \u001b[0msummary\u001b[0m \u001b[0;34m+=\u001b[0m \u001b[0;34m' '\u001b[0m \u001b[0;34m+\u001b[0m \u001b[0mdocuments\u001b[0m\u001b[0;34m[\u001b[0m\u001b[0mi\u001b[0m\u001b[0;34m]\u001b[0m\u001b[0;34m\u001b[0m\u001b[0;34m\u001b[0m\u001b[0m\n\u001b[1;32m     22\u001b[0m         \u001b[0mi\u001b[0m \u001b[0;34m+=\u001b[0m \u001b[0;36m1\u001b[0m\u001b[0;34m\u001b[0m\u001b[0;34m\u001b[0m\u001b[0m\n",
      "\u001b[0;32m/var/folders/90/thhbp1f51ll8qhsc_rh_jjk00000gp/T/ipykernel_8131/3238409452.py\u001b[0m in \u001b[0;36mget_average\u001b[0;34m(values)\u001b[0m\n\u001b[1;32m      1\u001b[0m \u001b[0;32mdef\u001b[0m \u001b[0mget_average\u001b[0m\u001b[0;34m(\u001b[0m\u001b[0mvalues\u001b[0m\u001b[0;34m)\u001b[0m \u001b[0;34m:\u001b[0m\u001b[0;34m\u001b[0m\u001b[0;34m\u001b[0m\u001b[0m\n\u001b[1;32m      2\u001b[0m     \u001b[0mgreater_than_zero_count\u001b[0m \u001b[0;34m=\u001b[0m \u001b[0mtotal\u001b[0m \u001b[0;34m=\u001b[0m \u001b[0;36m0\u001b[0m\u001b[0;34m\u001b[0m\u001b[0;34m\u001b[0m\u001b[0m\n\u001b[0;32m----> 3\u001b[0;31m     \u001b[0;32mfor\u001b[0m \u001b[0mvalue\u001b[0m \u001b[0;32min\u001b[0m \u001b[0mvalues\u001b[0m \u001b[0;34m:\u001b[0m\u001b[0;34m\u001b[0m\u001b[0;34m\u001b[0m\u001b[0m\n\u001b[0m\u001b[1;32m      4\u001b[0m         \u001b[0;32mif\u001b[0m \u001b[0mvalue\u001b[0m \u001b[0;34m!=\u001b[0m \u001b[0;36m0\u001b[0m \u001b[0;34m:\u001b[0m\u001b[0;34m\u001b[0m\u001b[0;34m\u001b[0m\u001b[0m\n\u001b[1;32m      5\u001b[0m             \u001b[0mgreater_than_zero_count\u001b[0m \u001b[0;34m+=\u001b[0m \u001b[0;36m1\u001b[0m\u001b[0;34m\u001b[0m\u001b[0;34m\u001b[0m\u001b[0m\n",
      "\u001b[0;31mTypeError\u001b[0m: 'numpy.float64' object is not iterable"
     ]
    }
   ],
   "source": [
    "print(get_summary([data],tfidf))"
   ]
  },
  {
   "cell_type": "markdown",
   "id": "2f8759bb",
   "metadata": {},
   "source": [
    "# Transformers"
   ]
  },
  {
   "cell_type": "code",
   "execution_count": 8,
   "id": "915d8441",
   "metadata": {},
   "outputs": [],
   "source": [
    "## run once ##\n",
    "#!pip install tensorflow torch  # make sure either tensorflow or torch is installed\n",
    "#!pip install transformers"
   ]
  },
  {
   "cell_type": "code",
   "execution_count": 9,
   "id": "a4602a44",
   "metadata": {},
   "outputs": [],
   "source": [
    "from transformers import pipeline"
   ]
  },
  {
   "cell_type": "code",
   "execution_count": 37,
   "id": "187ffd60",
   "metadata": {},
   "outputs": [
    {
     "name": "stderr",
     "output_type": "stream",
     "text": [
      "No model was supplied, defaulted to sshleifer/distilbart-cnn-12-6 (https://huggingface.co/sshleifer/distilbart-cnn-12-6)\n"
     ]
    },
    {
     "name": "stdout",
     "output_type": "stream",
     "text": [
      "[{'summary_text': ' Muslim Americans who grew up under the shadow of 9/11 have faced hostility and surveillance . Many have faced suspicion, questions about their faith, doubts over their Americanness . They\\'ve also found ways to fight back against bias, to craft nuanced personal narratives about their identities . Some Muslims chose to dispel misconceptions about personal connections through personal connections . \"There is this sense of being Muslim as a kind of important identity marker,\" says one sociologist .'}]\n"
     ]
    }
   ],
   "source": [
    "# Initialize the HuggingFace summarization pipeline\n",
    "summarizer = pipeline(\"summarization\", max_length=2**31, truncation=True) # summarization uses BART model\n",
    "summarized = summarizer(data, min_length=75, max_length=300)\n",
    "\n",
    "# Print summarized text\n",
    "print(summarized)"
   ]
  },
  {
   "cell_type": "markdown",
   "id": "61424e92",
   "metadata": {},
   "source": [
    "# Transformer Translation (Extra)"
   ]
  },
  {
   "cell_type": "code",
   "execution_count": 41,
   "id": "a5e8ff6e",
   "metadata": {},
   "outputs": [
    {
     "name": "stderr",
     "output_type": "stream",
     "text": [
      "No model was supplied, defaulted to t5-base (https://huggingface.co/t5-base)\n"
     ]
    },
    {
     "name": "stdout",
     "output_type": "stream",
     "text": [
      "[{'translation_text': 'Die muslimischen Amerikaner, die unter dem Schatten des 11. September aufwuchsen, waren mit Feindseligkeit und Überwachung konfrontiert. Viele waren mit Verdacht, Fragen über ihren Glauben und Zweifeln über ihre Amerikanerschaft konfrontiert.'}]\n"
     ]
    }
   ],
   "source": [
    "# some translation testing with transformer\n",
    "translator = pipeline(\"translation_en_to_de\")\n",
    "print(translator(\"\".join(list(summarized[0].values())), max_length=300))"
   ]
  },
  {
   "cell_type": "code",
   "execution_count": null,
   "id": "fd0f0f32",
   "metadata": {},
   "outputs": [],
   "source": []
  }
 ],
 "metadata": {
  "kernelspec": {
   "display_name": "Python 3 (ipykernel)",
   "language": "python",
   "name": "python3"
  },
  "language_info": {
   "codemirror_mode": {
    "name": "ipython",
    "version": 3
   },
   "file_extension": ".py",
   "mimetype": "text/x-python",
   "name": "python",
   "nbconvert_exporter": "python",
   "pygments_lexer": "ipython3",
   "version": "3.8.0"
  }
 },
 "nbformat": 4,
 "nbformat_minor": 5
}
