{
 "cells": [
  {
   "cell_type": "code",
   "execution_count": 5,
   "metadata": {},
   "outputs": [],
   "source": [
    "import numpy as np\n",
    "import nltk\n",
    "from sentence_transformers import SentenceTransformer\n",
    "import pandas as pd\n",
    "\n",
    "from gensim.models import Word2Vec"
   ]
  },
  {
   "cell_type": "code",
   "execution_count": 6,
   "metadata": {},
   "outputs": [],
   "source": [
    "df_raw = pd.read_json('news_articles_with_text_3_sources.json')"
   ]
  },
  {
   "cell_type": "code",
   "execution_count": 7,
   "metadata": {},
   "outputs": [
    {
     "data": {
      "text/html": [
       "<div>\n",
       "<style scoped>\n",
       "    .dataframe tbody tr th:only-of-type {\n",
       "        vertical-align: middle;\n",
       "    }\n",
       "\n",
       "    .dataframe tbody tr th {\n",
       "        vertical-align: top;\n",
       "    }\n",
       "\n",
       "    .dataframe thead th {\n",
       "        text-align: right;\n",
       "    }\n",
       "</style>\n",
       "<table border=\"1\" class=\"dataframe\">\n",
       "  <thead>\n",
       "    <tr style=\"text-align: right;\">\n",
       "      <th></th>\n",
       "      <th>source</th>\n",
       "      <th>author</th>\n",
       "      <th>title</th>\n",
       "      <th>url</th>\n",
       "      <th>publishedAt</th>\n",
       "      <th>article_text</th>\n",
       "    </tr>\n",
       "  </thead>\n",
       "  <tbody>\n",
       "    <tr>\n",
       "      <th>0</th>\n",
       "      <td>{'id': 'abc-news', 'name': 'ABC News'}</td>\n",
       "      <td>MARIAM FAM, DEEPTI HAJELA and LUIS ANDRES HENA...</td>\n",
       "      <td>Two decades after 9/11, Muslim Americans still...</td>\n",
       "      <td>https://abcnews.go.com/Lifestyle/wireStory/dec...</td>\n",
       "      <td>2021-09-07T07:27:55Z</td>\n",
       "      <td>Muslim Americans who grew up under the shadow ...</td>\n",
       "    </tr>\n",
       "    <tr>\n",
       "      <th>1</th>\n",
       "      <td>{'id': 'abc-news', 'name': 'ABC News'}</td>\n",
       "      <td>TERESA M. WALKER AP Pro Football Writer</td>\n",
       "      <td>Titans' outbreak nears end, other NFL teams de...</td>\n",
       "      <td>https://abcnews.go.com/Sports/wireStory/titans...</td>\n",
       "      <td>2021-09-07T03:31:36Z</td>\n",
       "      <td>The Tennessee Titans COVID-19 outbreak is near...</td>\n",
       "    </tr>\n",
       "    <tr>\n",
       "      <th>2</th>\n",
       "      <td>{'id': 'abc-news', 'name': 'ABC News'}</td>\n",
       "      <td>Dr. Priscilla Hanudel</td>\n",
       "      <td>COVID-19 infection after vaccination and what ...</td>\n",
       "      <td>https://abcnews.go.com/Health/covid-19-infecti...</td>\n",
       "      <td>2021-09-07T14:28:39Z</td>\n",
       "      <td>Vaccines work to dramatically reduce the risk ...</td>\n",
       "    </tr>\n",
       "    <tr>\n",
       "      <th>3</th>\n",
       "      <td>{'id': 'abc-news', 'name': 'ABC News'}</td>\n",
       "      <td>Alisa Wiersema</td>\n",
       "      <td>Texas governor signs GOP-backed 'election inte...</td>\n",
       "      <td>https://abcnews.go.com/Politics/texas-governor...</td>\n",
       "      <td>2021-09-07T17:34:12Z</td>\n",
       "      <td>Three months and two special sessions after Te...</td>\n",
       "    </tr>\n",
       "    <tr>\n",
       "      <th>4</th>\n",
       "      <td>{'id': 'abc-news', 'name': 'ABC News'}</td>\n",
       "      <td>The Associated Press</td>\n",
       "      <td>Spanish hospital baby switch discovered two de...</td>\n",
       "      <td>https://abcnews.go.com/Lifestyle/wireStory/spa...</td>\n",
       "      <td>2021-09-07T17:07:13Z</td>\n",
       "      <td>Health authorities in Spain are blaming human ...</td>\n",
       "    </tr>\n",
       "  </tbody>\n",
       "</table>\n",
       "</div>"
      ],
      "text/plain": [
       "                                   source  \\\n",
       "0  {'id': 'abc-news', 'name': 'ABC News'}   \n",
       "1  {'id': 'abc-news', 'name': 'ABC News'}   \n",
       "2  {'id': 'abc-news', 'name': 'ABC News'}   \n",
       "3  {'id': 'abc-news', 'name': 'ABC News'}   \n",
       "4  {'id': 'abc-news', 'name': 'ABC News'}   \n",
       "\n",
       "                                              author  \\\n",
       "0  MARIAM FAM, DEEPTI HAJELA and LUIS ANDRES HENA...   \n",
       "1            TERESA M. WALKER AP Pro Football Writer   \n",
       "2                              Dr. Priscilla Hanudel   \n",
       "3                                     Alisa Wiersema   \n",
       "4                               The Associated Press   \n",
       "\n",
       "                                               title  \\\n",
       "0  Two decades after 9/11, Muslim Americans still...   \n",
       "1  Titans' outbreak nears end, other NFL teams de...   \n",
       "2  COVID-19 infection after vaccination and what ...   \n",
       "3  Texas governor signs GOP-backed 'election inte...   \n",
       "4  Spanish hospital baby switch discovered two de...   \n",
       "\n",
       "                                                 url           publishedAt  \\\n",
       "0  https://abcnews.go.com/Lifestyle/wireStory/dec...  2021-09-07T07:27:55Z   \n",
       "1  https://abcnews.go.com/Sports/wireStory/titans...  2021-09-07T03:31:36Z   \n",
       "2  https://abcnews.go.com/Health/covid-19-infecti...  2021-09-07T14:28:39Z   \n",
       "3  https://abcnews.go.com/Politics/texas-governor...  2021-09-07T17:34:12Z   \n",
       "4  https://abcnews.go.com/Lifestyle/wireStory/spa...  2021-09-07T17:07:13Z   \n",
       "\n",
       "                                        article_text  \n",
       "0  Muslim Americans who grew up under the shadow ...  \n",
       "1  The Tennessee Titans COVID-19 outbreak is near...  \n",
       "2  Vaccines work to dramatically reduce the risk ...  \n",
       "3  Three months and two special sessions after Te...  \n",
       "4  Health authorities in Spain are blaming human ...  "
      ]
     },
     "execution_count": 7,
     "metadata": {},
     "output_type": "execute_result"
    }
   ],
   "source": [
    "df_raw.head()"
   ]
  },
  {
   "cell_type": "code",
   "execution_count": 8,
   "metadata": {},
   "outputs": [],
   "source": [
    "df = df_raw.copy()\n",
    "df[\"article_text\"] = df[\"article_text\"].fillna(\"\")"
   ]
  },
  {
   "cell_type": "code",
   "execution_count": 9,
   "metadata": {},
   "outputs": [
    {
     "name": "stdout",
     "output_type": "stream",
     "text": [
      "Original dataframe: (1500, 6)\n",
      "Pre-processed dataframe: (570, 2)\n"
     ]
    }
   ],
   "source": [
    "df[\"sentence_tokens\"] = df[\"article_text\"].map(lambda x: nltk.tokenize.sent_tokenize(x))\n",
    "# Remove duplicated after preprocessing\n",
    "_, idx = np.unique(df[\"sentence_tokens\"], return_index=True)\n",
    "df = df.iloc[idx, :]\n",
    "\n",
    "# Remove empty values and keep relevant columns\n",
    "df = df.loc[df.sentence_tokens.map(lambda x: len(x) > 0), [\"article_text\", \"sentence_tokens\"]]\n",
    "\n",
    "print(f\"Original dataframe: {df_raw.shape}\")\n",
    "print(f\"Pre-processed dataframe: {df.shape}\")"
   ]
  },
  {
   "cell_type": "code",
   "execution_count": 10,
   "metadata": {},
   "outputs": [],
   "source": [
    "df = df.explode('sentence_tokens').reset_index()"
   ]
  },
  {
   "cell_type": "code",
   "execution_count": 11,
   "metadata": {},
   "outputs": [
    {
     "data": {
      "text/plain": [
       "(16377, 3)"
      ]
     },
     "execution_count": 11,
     "metadata": {},
     "output_type": "execute_result"
    }
   ],
   "source": [
    "df.shape"
   ]
  },
  {
   "cell_type": "code",
   "execution_count": 12,
   "metadata": {},
   "outputs": [
    {
     "data": {
      "text/html": [
       "<div>\n",
       "<style scoped>\n",
       "    .dataframe tbody tr th:only-of-type {\n",
       "        vertical-align: middle;\n",
       "    }\n",
       "\n",
       "    .dataframe tbody tr th {\n",
       "        vertical-align: top;\n",
       "    }\n",
       "\n",
       "    .dataframe thead th {\n",
       "        text-align: right;\n",
       "    }\n",
       "</style>\n",
       "<table border=\"1\" class=\"dataframe\">\n",
       "  <thead>\n",
       "    <tr style=\"text-align: right;\">\n",
       "      <th></th>\n",
       "      <th>index</th>\n",
       "      <th>article_text</th>\n",
       "      <th>sentence_tokens</th>\n",
       "    </tr>\n",
       "  </thead>\n",
       "  <tbody>\n",
       "    <tr>\n",
       "      <th>0</th>\n",
       "      <td>31</td>\n",
       "      <td>\"Disney Enchantment,\" the brand-new nighttime ...</td>\n",
       "      <td>\"Disney Enchantment,\" the brand-new nighttime ...</td>\n",
       "    </tr>\n",
       "    <tr>\n",
       "      <th>1</th>\n",
       "      <td>31</td>\n",
       "      <td>\"Disney Enchantment,\" the brand-new nighttime ...</td>\n",
       "      <td>The show takes you on an emotional journey, em...</td>\n",
       "    </tr>\n",
       "    <tr>\n",
       "      <th>2</th>\n",
       "      <td>31</td>\n",
       "      <td>\"Disney Enchantment,\" the brand-new nighttime ...</td>\n",
       "      <td>Philip Lawrence who wrote the original song fo...</td>\n",
       "    </tr>\n",
       "    <tr>\n",
       "      <th>3</th>\n",
       "      <td>31</td>\n",
       "      <td>\"Disney Enchantment,\" the brand-new nighttime ...</td>\n",
       "      <td>Philip got his start as a cast member at Walt ...</td>\n",
       "    </tr>\n",
       "    <tr>\n",
       "      <th>4</th>\n",
       "      <td>31</td>\n",
       "      <td>\"Disney Enchantment,\" the brand-new nighttime ...</td>\n",
       "      <td>Through hard work and determination, he went o...</td>\n",
       "    </tr>\n",
       "    <tr>\n",
       "      <th>...</th>\n",
       "      <td>...</td>\n",
       "      <td>...</td>\n",
       "      <td>...</td>\n",
       "    </tr>\n",
       "    <tr>\n",
       "      <th>16372</th>\n",
       "      <td>838</td>\n",
       "      <td>You may have recently heard that an all-new or...</td>\n",
       "      <td>You might spot a familiar face floating around...</td>\n",
       "    </tr>\n",
       "    <tr>\n",
       "      <th>16373</th>\n",
       "      <td>838</td>\n",
       "      <td>You may have recently heard that an all-new or...</td>\n",
       "      <td>Disney Music Group: Disney Music Group will fe...</td>\n",
       "    </tr>\n",
       "    <tr>\n",
       "      <th>16374</th>\n",
       "      <td>838</td>\n",
       "      <td>You may have recently heard that an all-new or...</td>\n",
       "      <td>Visit disneymusic.co/DisneyHalloweenPL for mor...</td>\n",
       "    </tr>\n",
       "    <tr>\n",
       "      <th>16375</th>\n",
       "      <td>838</td>\n",
       "      <td>You may have recently heard that an all-new or...</td>\n",
       "      <td>And make sure to watch \"Muppets Haunted Mansio...</td>\n",
       "    </tr>\n",
       "    <tr>\n",
       "      <th>16376</th>\n",
       "      <td>838</td>\n",
       "      <td>You may have recently heard that an all-new or...</td>\n",
       "      <td>For additional information on Disney+, please ...</td>\n",
       "    </tr>\n",
       "  </tbody>\n",
       "</table>\n",
       "<p>16377 rows × 3 columns</p>\n",
       "</div>"
      ],
      "text/plain": [
       "       index                                       article_text  \\\n",
       "0         31  \"Disney Enchantment,\" the brand-new nighttime ...   \n",
       "1         31  \"Disney Enchantment,\" the brand-new nighttime ...   \n",
       "2         31  \"Disney Enchantment,\" the brand-new nighttime ...   \n",
       "3         31  \"Disney Enchantment,\" the brand-new nighttime ...   \n",
       "4         31  \"Disney Enchantment,\" the brand-new nighttime ...   \n",
       "...      ...                                                ...   \n",
       "16372    838  You may have recently heard that an all-new or...   \n",
       "16373    838  You may have recently heard that an all-new or...   \n",
       "16374    838  You may have recently heard that an all-new or...   \n",
       "16375    838  You may have recently heard that an all-new or...   \n",
       "16376    838  You may have recently heard that an all-new or...   \n",
       "\n",
       "                                         sentence_tokens  \n",
       "0      \"Disney Enchantment,\" the brand-new nighttime ...  \n",
       "1      The show takes you on an emotional journey, em...  \n",
       "2      Philip Lawrence who wrote the original song fo...  \n",
       "3      Philip got his start as a cast member at Walt ...  \n",
       "4      Through hard work and determination, he went o...  \n",
       "...                                                  ...  \n",
       "16372  You might spot a familiar face floating around...  \n",
       "16373  Disney Music Group: Disney Music Group will fe...  \n",
       "16374  Visit disneymusic.co/DisneyHalloweenPL for mor...  \n",
       "16375  And make sure to watch \"Muppets Haunted Mansio...  \n",
       "16376  For additional information on Disney+, please ...  \n",
       "\n",
       "[16377 rows x 3 columns]"
      ]
     },
     "execution_count": 12,
     "metadata": {},
     "output_type": "execute_result"
    }
   ],
   "source": [
    "df"
   ]
  },
  {
   "cell_type": "code",
   "execution_count": 13,
   "metadata": {},
   "outputs": [],
   "source": [
    "articles_list = df[\"sentence_tokens\"].values.tolist()\n",
    "# articles_corpus = \" \"\n",
    "# articles_corpus = articles_corpus.join(articles_list[0:50])"
   ]
  },
  {
   "cell_type": "code",
   "execution_count": 13,
   "metadata": {},
   "outputs": [],
   "source": [
    "sbert_model = SentenceTransformer('bert-base-nli-mean-tokens')"
   ]
  },
  {
   "cell_type": "code",
   "execution_count": 14,
   "metadata": {},
   "outputs": [],
   "source": [
    "sentence_embeddings = sbert_model.encode(articles_list)"
   ]
  },
  {
   "cell_type": "code",
   "execution_count": 14,
   "metadata": {},
   "outputs": [],
   "source": [
    "from sklearn.cluster import MiniBatchKMeans\n",
    "from sklearn.metrics import silhouette_samples, silhouette_score"
   ]
  },
  {
   "cell_type": "code",
   "execution_count": 16,
   "metadata": {},
   "outputs": [],
   "source": [
    "def mbkmeans_clusters(X, k, mb, print_silhouette_values):\n",
    "    km = MiniBatchKMeans(n_clusters=k, batch_size=mb).fit(X)\n",
    "    print(f\"For n_clusters = {k}\")\n",
    "    print(f\"Silhouette coefficient: {silhouette_score(X, km.labels_):0.2f}\")\n",
    "    print(f\"Inertia:{km.inertia_}\")\n",
    "\n",
    "    if print_silhouette_values:\n",
    "        sample_silhouette_values = silhouette_samples(X, km.labels_)\n",
    "        print(f\"Silhouette values:\")\n",
    "        silhouette_values = []\n",
    "        for i in range(k):\n",
    "            cluster_silhouette_values = sample_silhouette_values[km.labels_ == i]\n",
    "            silhouette_values.append(\n",
    "                (\n",
    "                    i,\n",
    "                    cluster_silhouette_values.shape[0],\n",
    "                )\n",
    "            )\n",
    "        silhouette_values = sorted(\n",
    "            silhouette_values, key=lambda tup: tup[1], reverse=True\n",
    "        )\n",
    "        for s in silhouette_values:\n",
    "            print(\n",
    "                f\"    Cluster {s[0]}: Size:{s[1]}\"\n",
    "            )\n",
    "    return km, km.labels_"
   ]
  },
  {
   "cell_type": "code",
   "execution_count": 17,
   "metadata": {},
   "outputs": [
    {
     "name": "stdout",
     "output_type": "stream",
     "text": [
      "For n_clusters = 50\n",
      "Silhouette coefficient: 0.03\n",
      "Inertia:1806666.25\n",
      "Silhouette values:\n",
      "    Cluster 38: Size:635\n",
      "    Cluster 14: Size:630\n",
      "    Cluster 23: Size:574\n",
      "    Cluster 39: Size:564\n",
      "    Cluster 1: Size:543\n",
      "    Cluster 5: Size:538\n",
      "    Cluster 26: Size:508\n",
      "    Cluster 18: Size:493\n",
      "    Cluster 29: Size:454\n",
      "    Cluster 10: Size:453\n",
      "    Cluster 41: Size:449\n",
      "    Cluster 15: Size:423\n",
      "    Cluster 27: Size:415\n",
      "    Cluster 3: Size:413\n",
      "    Cluster 17: Size:388\n",
      "    Cluster 19: Size:383\n",
      "    Cluster 8: Size:377\n",
      "    Cluster 2: Size:360\n",
      "    Cluster 40: Size:360\n",
      "    Cluster 25: Size:349\n",
      "    Cluster 47: Size:348\n",
      "    Cluster 28: Size:323\n",
      "    Cluster 24: Size:316\n",
      "    Cluster 43: Size:315\n",
      "    Cluster 36: Size:311\n",
      "    Cluster 11: Size:309\n",
      "    Cluster 4: Size:295\n",
      "    Cluster 48: Size:293\n",
      "    Cluster 31: Size:286\n",
      "    Cluster 42: Size:281\n",
      "    Cluster 33: Size:269\n",
      "    Cluster 45: Size:267\n",
      "    Cluster 22: Size:265\n",
      "    Cluster 21: Size:255\n",
      "    Cluster 0: Size:254\n",
      "    Cluster 16: Size:254\n",
      "    Cluster 37: Size:251\n",
      "    Cluster 44: Size:227\n",
      "    Cluster 46: Size:227\n",
      "    Cluster 34: Size:226\n",
      "    Cluster 6: Size:217\n",
      "    Cluster 7: Size:194\n",
      "    Cluster 12: Size:191\n",
      "    Cluster 32: Size:190\n",
      "    Cluster 30: Size:162\n",
      "    Cluster 49: Size:141\n",
      "    Cluster 13: Size:133\n",
      "    Cluster 9: Size:132\n",
      "    Cluster 35: Size:117\n",
      "    Cluster 20: Size:19\n"
     ]
    }
   ],
   "source": [
    "clustering, cluster_labels = mbkmeans_clusters(\n",
    "\tX=sentence_embeddings,\n",
    "    k=50,\n",
    "    mb=500,\n",
    "    print_silhouette_values=True,\n",
    ")\n",
    "df_clusters = pd.DataFrame({\n",
    "    \"sentence_tokens\": articles_list,\n",
    "    \"cluster\": cluster_labels\n",
    "})"
   ]
  },
  {
   "cell_type": "code",
   "execution_count": 18,
   "metadata": {},
   "outputs": [],
   "source": [
    "df_clustered = pd.merge(df, df_clusters, on=\"sentence_tokens\")"
   ]
  },
  {
   "cell_type": "code",
   "execution_count": 19,
   "metadata": {},
   "outputs": [
    {
     "data": {
      "text/html": [
       "<div>\n",
       "<style scoped>\n",
       "    .dataframe tbody tr th:only-of-type {\n",
       "        vertical-align: middle;\n",
       "    }\n",
       "\n",
       "    .dataframe tbody tr th {\n",
       "        vertical-align: top;\n",
       "    }\n",
       "\n",
       "    .dataframe thead th {\n",
       "        text-align: right;\n",
       "    }\n",
       "</style>\n",
       "<table border=\"1\" class=\"dataframe\">\n",
       "  <thead>\n",
       "    <tr style=\"text-align: right;\">\n",
       "      <th></th>\n",
       "      <th>index</th>\n",
       "      <th>article_text</th>\n",
       "      <th>sentence_tokens</th>\n",
       "      <th>cluster</th>\n",
       "    </tr>\n",
       "  </thead>\n",
       "  <tbody>\n",
       "    <tr>\n",
       "      <th>0</th>\n",
       "      <td>31</td>\n",
       "      <td>\"Disney Enchantment,\" the brand-new nighttime ...</td>\n",
       "      <td>\"Disney Enchantment,\" the brand-new nighttime ...</td>\n",
       "      <td>18</td>\n",
       "    </tr>\n",
       "    <tr>\n",
       "      <th>1</th>\n",
       "      <td>31</td>\n",
       "      <td>\"Disney Enchantment,\" the brand-new nighttime ...</td>\n",
       "      <td>The show takes you on an emotional journey, em...</td>\n",
       "      <td>2</td>\n",
       "    </tr>\n",
       "    <tr>\n",
       "      <th>2</th>\n",
       "      <td>31</td>\n",
       "      <td>\"Disney Enchantment,\" the brand-new nighttime ...</td>\n",
       "      <td>Philip Lawrence who wrote the original song fo...</td>\n",
       "      <td>2</td>\n",
       "    </tr>\n",
       "    <tr>\n",
       "      <th>3</th>\n",
       "      <td>31</td>\n",
       "      <td>\"Disney Enchantment,\" the brand-new nighttime ...</td>\n",
       "      <td>Philip got his start as a cast member at Walt ...</td>\n",
       "      <td>15</td>\n",
       "    </tr>\n",
       "    <tr>\n",
       "      <th>4</th>\n",
       "      <td>31</td>\n",
       "      <td>\"Disney Enchantment,\" the brand-new nighttime ...</td>\n",
       "      <td>Through hard work and determination, he went o...</td>\n",
       "      <td>2</td>\n",
       "    </tr>\n",
       "    <tr>\n",
       "      <th>...</th>\n",
       "      <td>...</td>\n",
       "      <td>...</td>\n",
       "      <td>...</td>\n",
       "      <td>...</td>\n",
       "    </tr>\n",
       "    <tr>\n",
       "      <th>17160</th>\n",
       "      <td>838</td>\n",
       "      <td>You may have recently heard that an all-new or...</td>\n",
       "      <td>You might spot a familiar face floating around...</td>\n",
       "      <td>33</td>\n",
       "    </tr>\n",
       "    <tr>\n",
       "      <th>17161</th>\n",
       "      <td>838</td>\n",
       "      <td>You may have recently heard that an all-new or...</td>\n",
       "      <td>Disney Music Group: Disney Music Group will fe...</td>\n",
       "      <td>15</td>\n",
       "    </tr>\n",
       "    <tr>\n",
       "      <th>17162</th>\n",
       "      <td>838</td>\n",
       "      <td>You may have recently heard that an all-new or...</td>\n",
       "      <td>Visit disneymusic.co/DisneyHalloweenPL for mor...</td>\n",
       "      <td>18</td>\n",
       "    </tr>\n",
       "    <tr>\n",
       "      <th>17163</th>\n",
       "      <td>838</td>\n",
       "      <td>You may have recently heard that an all-new or...</td>\n",
       "      <td>And make sure to watch \"Muppets Haunted Mansio...</td>\n",
       "      <td>15</td>\n",
       "    </tr>\n",
       "    <tr>\n",
       "      <th>17164</th>\n",
       "      <td>838</td>\n",
       "      <td>You may have recently heard that an all-new or...</td>\n",
       "      <td>For additional information on Disney+, please ...</td>\n",
       "      <td>18</td>\n",
       "    </tr>\n",
       "  </tbody>\n",
       "</table>\n",
       "<p>17165 rows × 4 columns</p>\n",
       "</div>"
      ],
      "text/plain": [
       "       index                                       article_text  \\\n",
       "0         31  \"Disney Enchantment,\" the brand-new nighttime ...   \n",
       "1         31  \"Disney Enchantment,\" the brand-new nighttime ...   \n",
       "2         31  \"Disney Enchantment,\" the brand-new nighttime ...   \n",
       "3         31  \"Disney Enchantment,\" the brand-new nighttime ...   \n",
       "4         31  \"Disney Enchantment,\" the brand-new nighttime ...   \n",
       "...      ...                                                ...   \n",
       "17160    838  You may have recently heard that an all-new or...   \n",
       "17161    838  You may have recently heard that an all-new or...   \n",
       "17162    838  You may have recently heard that an all-new or...   \n",
       "17163    838  You may have recently heard that an all-new or...   \n",
       "17164    838  You may have recently heard that an all-new or...   \n",
       "\n",
       "                                         sentence_tokens  cluster  \n",
       "0      \"Disney Enchantment,\" the brand-new nighttime ...       18  \n",
       "1      The show takes you on an emotional journey, em...        2  \n",
       "2      Philip Lawrence who wrote the original song fo...        2  \n",
       "3      Philip got his start as a cast member at Walt ...       15  \n",
       "4      Through hard work and determination, he went o...        2  \n",
       "...                                                  ...      ...  \n",
       "17160  You might spot a familiar face floating around...       33  \n",
       "17161  Disney Music Group: Disney Music Group will fe...       15  \n",
       "17162  Visit disneymusic.co/DisneyHalloweenPL for mor...       18  \n",
       "17163  And make sure to watch \"Muppets Haunted Mansio...       15  \n",
       "17164  For additional information on Disney+, please ...       18  \n",
       "\n",
       "[17165 rows x 4 columns]"
      ]
     },
     "execution_count": 19,
     "metadata": {},
     "output_type": "execute_result"
    }
   ],
   "source": [
    "df_clustered"
   ]
  },
  {
   "cell_type": "code",
   "execution_count": 20,
   "metadata": {},
   "outputs": [],
   "source": [
    "df_labels = df_clustered.groupby(['index','cluster']).size().reset_index(name='counts')"
   ]
  },
  {
   "cell_type": "code",
   "execution_count": 21,
   "metadata": {},
   "outputs": [],
   "source": [
    "df_labelled = pd.merge(df_clustered, df_labels, on=[\"index\",\"cluster\"])"
   ]
  },
  {
   "cell_type": "code",
   "execution_count": 22,
   "metadata": {},
   "outputs": [],
   "source": [
    "idx = df_labelled.groupby(['index'])['counts'].transform(max) == df_labelled['counts']"
   ]
  },
  {
   "cell_type": "code",
   "execution_count": 23,
   "metadata": {},
   "outputs": [],
   "source": [
    "df = df_labelled[idx]"
   ]
  },
  {
   "cell_type": "code",
   "execution_count": 24,
   "metadata": {},
   "outputs": [
    {
     "data": {
      "text/plain": [
       "array([18, 39, 37, 10, 28, 48,  8, 47, 14, 29,  9,  7,  4, 38,  1, 32, 36,\n",
       "       26,  3,  5, 42,  0, 19, 27, 23, 21, 31, 41, 17, 24, 45,  2, 46, 15,\n",
       "       34, 22, 16, 40, 33, 44, 43, 25, 11, 12, 30, 13, 49, 35,  6],\n",
       "      dtype=int32)"
      ]
     },
     "execution_count": 24,
     "metadata": {},
     "output_type": "execute_result"
    }
   ],
   "source": [
    "df['cluster'].unique()"
   ]
  },
  {
   "cell_type": "code",
   "execution_count": 25,
   "metadata": {},
   "outputs": [
    {
     "data": {
      "text/html": [
       "<div>\n",
       "<style scoped>\n",
       "    .dataframe tbody tr th:only-of-type {\n",
       "        vertical-align: middle;\n",
       "    }\n",
       "\n",
       "    .dataframe tbody tr th {\n",
       "        vertical-align: top;\n",
       "    }\n",
       "\n",
       "    .dataframe thead th {\n",
       "        text-align: right;\n",
       "    }\n",
       "</style>\n",
       "<table border=\"1\" class=\"dataframe\">\n",
       "  <thead>\n",
       "    <tr style=\"text-align: right;\">\n",
       "      <th></th>\n",
       "      <th>index</th>\n",
       "      <th>article_text</th>\n",
       "      <th>sentence_tokens</th>\n",
       "      <th>cluster</th>\n",
       "      <th>counts</th>\n",
       "    </tr>\n",
       "  </thead>\n",
       "  <tbody>\n",
       "    <tr>\n",
       "      <th>0</th>\n",
       "      <td>31</td>\n",
       "      <td>\"Disney Enchantment,\" the brand-new nighttime ...</td>\n",
       "      <td>\"Disney Enchantment,\" the brand-new nighttime ...</td>\n",
       "      <td>18</td>\n",
       "      <td>5</td>\n",
       "    </tr>\n",
       "    <tr>\n",
       "      <th>1</th>\n",
       "      <td>31</td>\n",
       "      <td>\"Disney Enchantment,\" the brand-new nighttime ...</td>\n",
       "      <td>And they soar to emotional high points during ...</td>\n",
       "      <td>18</td>\n",
       "      <td>5</td>\n",
       "    </tr>\n",
       "    <tr>\n",
       "      <th>2</th>\n",
       "      <td>31</td>\n",
       "      <td>\"Disney Enchantment,\" the brand-new nighttime ...</td>\n",
       "      <td>Philip Lawrence not only wrote \"You Are the Ma...</td>\n",
       "      <td>18</td>\n",
       "      <td>5</td>\n",
       "    </tr>\n",
       "    <tr>\n",
       "      <th>3</th>\n",
       "      <td>31</td>\n",
       "      <td>\"Disney Enchantment,\" the brand-new nighttime ...</td>\n",
       "      <td>Check back here on Disney Parks Blog and follo...</td>\n",
       "      <td>18</td>\n",
       "      <td>5</td>\n",
       "    </tr>\n",
       "    <tr>\n",
       "      <th>4</th>\n",
       "      <td>31</td>\n",
       "      <td>\"Disney Enchantment,\" the brand-new nighttime ...</td>\n",
       "      <td>Check back here on Disney Parks Blog and follo...</td>\n",
       "      <td>18</td>\n",
       "      <td>5</td>\n",
       "    </tr>\n",
       "    <tr>\n",
       "      <th>...</th>\n",
       "      <td>...</td>\n",
       "      <td>...</td>\n",
       "      <td>...</td>\n",
       "      <td>...</td>\n",
       "      <td>...</td>\n",
       "    </tr>\n",
       "    <tr>\n",
       "      <th>17152</th>\n",
       "      <td>838</td>\n",
       "      <td>You may have recently heard that an all-new or...</td>\n",
       "      <td>Also beginning Oct. 8, you can visit an exhibi...</td>\n",
       "      <td>15</td>\n",
       "      <td>9</td>\n",
       "    </tr>\n",
       "    <tr>\n",
       "      <th>17153</th>\n",
       "      <td>838</td>\n",
       "      <td>You may have recently heard that an all-new or...</td>\n",
       "      <td>Also at Disneys Hollywood Studios, starting on...</td>\n",
       "      <td>15</td>\n",
       "      <td>9</td>\n",
       "    </tr>\n",
       "    <tr>\n",
       "      <th>17154</th>\n",
       "      <td>838</td>\n",
       "      <td>You may have recently heard that an all-new or...</td>\n",
       "      <td>Over at Magic Kingdom Park, beginning Oct. 8, ...</td>\n",
       "      <td>15</td>\n",
       "      <td>9</td>\n",
       "    </tr>\n",
       "    <tr>\n",
       "      <th>17155</th>\n",
       "      <td>838</td>\n",
       "      <td>You may have recently heard that an all-new or...</td>\n",
       "      <td>Disney Music Group: Disney Music Group will fe...</td>\n",
       "      <td>15</td>\n",
       "      <td>9</td>\n",
       "    </tr>\n",
       "    <tr>\n",
       "      <th>17156</th>\n",
       "      <td>838</td>\n",
       "      <td>You may have recently heard that an all-new or...</td>\n",
       "      <td>And make sure to watch \"Muppets Haunted Mansio...</td>\n",
       "      <td>15</td>\n",
       "      <td>9</td>\n",
       "    </tr>\n",
       "  </tbody>\n",
       "</table>\n",
       "<p>4178 rows × 5 columns</p>\n",
       "</div>"
      ],
      "text/plain": [
       "       index                                       article_text  \\\n",
       "0         31  \"Disney Enchantment,\" the brand-new nighttime ...   \n",
       "1         31  \"Disney Enchantment,\" the brand-new nighttime ...   \n",
       "2         31  \"Disney Enchantment,\" the brand-new nighttime ...   \n",
       "3         31  \"Disney Enchantment,\" the brand-new nighttime ...   \n",
       "4         31  \"Disney Enchantment,\" the brand-new nighttime ...   \n",
       "...      ...                                                ...   \n",
       "17152    838  You may have recently heard that an all-new or...   \n",
       "17153    838  You may have recently heard that an all-new or...   \n",
       "17154    838  You may have recently heard that an all-new or...   \n",
       "17155    838  You may have recently heard that an all-new or...   \n",
       "17156    838  You may have recently heard that an all-new or...   \n",
       "\n",
       "                                         sentence_tokens  cluster  counts  \n",
       "0      \"Disney Enchantment,\" the brand-new nighttime ...       18       5  \n",
       "1      And they soar to emotional high points during ...       18       5  \n",
       "2      Philip Lawrence not only wrote \"You Are the Ma...       18       5  \n",
       "3      Check back here on Disney Parks Blog and follo...       18       5  \n",
       "4      Check back here on Disney Parks Blog and follo...       18       5  \n",
       "...                                                  ...      ...     ...  \n",
       "17152  Also beginning Oct. 8, you can visit an exhibi...       15       9  \n",
       "17153  Also at Disneys Hollywood Studios, starting on...       15       9  \n",
       "17154  Over at Magic Kingdom Park, beginning Oct. 8, ...       15       9  \n",
       "17155  Disney Music Group: Disney Music Group will fe...       15       9  \n",
       "17156  And make sure to watch \"Muppets Haunted Mansio...       15       9  \n",
       "\n",
       "[4178 rows x 5 columns]"
      ]
     },
     "execution_count": 25,
     "metadata": {},
     "output_type": "execute_result"
    }
   ],
   "source": [
    "df"
   ]
  },
  {
   "cell_type": "code",
   "execution_count": 26,
   "metadata": {},
   "outputs": [],
   "source": [
    "#df_cl = df.groupby(['cluster'])['article_text'].apply(', '.join).reset_index()"
   ]
  },
  {
   "cell_type": "code",
   "execution_count": 31,
   "metadata": {},
   "outputs": [
    {
     "data": {
      "text/html": [
       "<div>\n",
       "<style scoped>\n",
       "    .dataframe tbody tr th:only-of-type {\n",
       "        vertical-align: middle;\n",
       "    }\n",
       "\n",
       "    .dataframe tbody tr th {\n",
       "        vertical-align: top;\n",
       "    }\n",
       "\n",
       "    .dataframe thead th {\n",
       "        text-align: right;\n",
       "    }\n",
       "</style>\n",
       "<table border=\"1\" class=\"dataframe\">\n",
       "  <thead>\n",
       "    <tr style=\"text-align: right;\">\n",
       "      <th></th>\n",
       "      <th>index</th>\n",
       "      <th>article_text</th>\n",
       "      <th>sentence_tokens</th>\n",
       "      <th>cluster</th>\n",
       "      <th>counts</th>\n",
       "    </tr>\n",
       "  </thead>\n",
       "  <tbody>\n",
       "    <tr>\n",
       "      <th>0</th>\n",
       "      <td>31</td>\n",
       "      <td>\"Disney Enchantment,\" the brand-new nighttime ...</td>\n",
       "      <td>\"Disney Enchantment,\" the brand-new nighttime ...</td>\n",
       "      <td>18</td>\n",
       "      <td>5</td>\n",
       "    </tr>\n",
       "    <tr>\n",
       "      <th>12</th>\n",
       "      <td>744</td>\n",
       "      <td>Its hard to believe we are only 10 days away f...</td>\n",
       "      <td>Check back here on Disney Parks Blog and follo...</td>\n",
       "      <td>18</td>\n",
       "      <td>10</td>\n",
       "    </tr>\n",
       "    <tr>\n",
       "      <th>28</th>\n",
       "      <td>121</td>\n",
       "      <td>\"I knew if he got me on the floor, I would be ...</td>\n",
       "      <td>The officer got out of his car and told her, \"...</td>\n",
       "      <td>39</td>\n",
       "      <td>9</td>\n",
       "    </tr>\n",
       "    <tr>\n",
       "      <th>37</th>\n",
       "      <td>1210</td>\n",
       "      <td>Nikkita Brown was walking her dog in a closed ...</td>\n",
       "      <td>The officer got out of his car and told her, \"...</td>\n",
       "      <td>39</td>\n",
       "      <td>6</td>\n",
       "    </tr>\n",
       "    <tr>\n",
       "      <th>79</th>\n",
       "      <td>707</td>\n",
       "      <td>\"I think it will be safe. I think it will be e...</td>\n",
       "      <td>Pfizer just released its first safety data abo...</td>\n",
       "      <td>37</td>\n",
       "      <td>12</td>\n",
       "    </tr>\n",
       "    <tr>\n",
       "      <th>...</th>\n",
       "      <td>...</td>\n",
       "      <td>...</td>\n",
       "      <td>...</td>\n",
       "      <td>...</td>\n",
       "      <td>...</td>\n",
       "    </tr>\n",
       "    <tr>\n",
       "      <th>17073</th>\n",
       "      <td>533</td>\n",
       "      <td>With the help of Mickey Mouse, Minnie Mouse, o...</td>\n",
       "      <td>Im so proud of them as they worked their way t...</td>\n",
       "      <td>2</td>\n",
       "      <td>7</td>\n",
       "    </tr>\n",
       "    <tr>\n",
       "      <th>17095</th>\n",
       "      <td>410</td>\n",
       "      <td>Women driving hundreds of miles alone for an a...</td>\n",
       "      <td>Under the law, between 85% and 95% of all abor...</td>\n",
       "      <td>24</td>\n",
       "      <td>6</td>\n",
       "    </tr>\n",
       "    <tr>\n",
       "      <th>17112</th>\n",
       "      <td>408</td>\n",
       "      <td>Wyoming's governor says the state will ask the...</td>\n",
       "      <td>Wyoming's governor says the state will ask the...</td>\n",
       "      <td>38</td>\n",
       "      <td>4</td>\n",
       "    </tr>\n",
       "    <tr>\n",
       "      <th>17138</th>\n",
       "      <td>35</td>\n",
       "      <td>You may have heard about whats new on a Disney...</td>\n",
       "      <td>You may have heard about whats new on a Disney...</td>\n",
       "      <td>18</td>\n",
       "      <td>6</td>\n",
       "    </tr>\n",
       "    <tr>\n",
       "      <th>17148</th>\n",
       "      <td>838</td>\n",
       "      <td>You may have recently heard that an all-new or...</td>\n",
       "      <td>You may have recently heard that an all-new or...</td>\n",
       "      <td>15</td>\n",
       "      <td>9</td>\n",
       "    </tr>\n",
       "  </tbody>\n",
       "</table>\n",
       "<p>799 rows × 5 columns</p>\n",
       "</div>"
      ],
      "text/plain": [
       "       index                                       article_text  \\\n",
       "0         31  \"Disney Enchantment,\" the brand-new nighttime ...   \n",
       "12       744  Its hard to believe we are only 10 days away f...   \n",
       "28       121  \"I knew if he got me on the floor, I would be ...   \n",
       "37      1210  Nikkita Brown was walking her dog in a closed ...   \n",
       "79       707  \"I think it will be safe. I think it will be e...   \n",
       "...      ...                                                ...   \n",
       "17073    533  With the help of Mickey Mouse, Minnie Mouse, o...   \n",
       "17095    410  Women driving hundreds of miles alone for an a...   \n",
       "17112    408  Wyoming's governor says the state will ask the...   \n",
       "17138     35  You may have heard about whats new on a Disney...   \n",
       "17148    838  You may have recently heard that an all-new or...   \n",
       "\n",
       "                                         sentence_tokens  cluster  counts  \n",
       "0      \"Disney Enchantment,\" the brand-new nighttime ...       18       5  \n",
       "12     Check back here on Disney Parks Blog and follo...       18      10  \n",
       "28     The officer got out of his car and told her, \"...       39       9  \n",
       "37     The officer got out of his car and told her, \"...       39       6  \n",
       "79     Pfizer just released its first safety data abo...       37      12  \n",
       "...                                                  ...      ...     ...  \n",
       "17073  Im so proud of them as they worked their way t...        2       7  \n",
       "17095  Under the law, between 85% and 95% of all abor...       24       6  \n",
       "17112  Wyoming's governor says the state will ask the...       38       4  \n",
       "17138  You may have heard about whats new on a Disney...       18       6  \n",
       "17148  You may have recently heard that an all-new or...       15       9  \n",
       "\n",
       "[799 rows x 5 columns]"
      ]
     },
     "execution_count": 31,
     "metadata": {},
     "output_type": "execute_result"
    }
   ],
   "source": [
    "df_clustered = df.drop_duplicates(subset=['index', 'article_text','cluster'])\n",
    "df_clustered"
   ]
  },
  {
   "cell_type": "code",
   "execution_count": 33,
   "metadata": {},
   "outputs": [
    {
     "data": {
      "text/plain": [
       "array([18, 39, 37, 10, 28, 48,  8, 47, 14, 29,  9,  7,  4, 38,  1, 32, 36,\n",
       "       26,  3,  5, 42,  0, 19, 27, 23, 21, 31, 41, 17, 24, 45,  2, 46, 15,\n",
       "       34, 22, 16, 40, 33, 44, 43, 25, 11, 12, 30, 13, 49, 35,  6],\n",
       "      dtype=int32)"
      ]
     },
     "execution_count": 33,
     "metadata": {},
     "output_type": "execute_result"
    }
   ],
   "source": [
    "df_clustered['cluster'].unique()"
   ]
  },
  {
   "cell_type": "code",
   "execution_count": 34,
   "metadata": {},
   "outputs": [],
   "source": [
    "df_final = df_clustered.groupby([\"cluster\"])['article_text'].apply(list).reset_index(name='article_list')"
   ]
  },
  {
   "cell_type": "code",
   "execution_count": 39,
   "metadata": {},
   "outputs": [
    {
     "data": {
      "text/plain": [
       "15"
      ]
     },
     "execution_count": 39,
     "metadata": {},
     "output_type": "execute_result"
    }
   ],
   "source": [
    "len(df_final['article_list'][0])"
   ]
  },
  {
   "cell_type": "code",
   "execution_count": 41,
   "metadata": {},
   "outputs": [],
   "source": [
    "# for i, row in df_final.iterrows():\n",
    "#     print(row['cluster'])\n",
    "#     print(row['article_list'])"
   ]
  },
  {
   "cell_type": "code",
   "execution_count": 46,
   "metadata": {},
   "outputs": [],
   "source": [
    "for i, row in df_final.iterrows():\n",
    "    if i > len(df_final):\n",
    "       break\n",
    "    else:\n",
    "       f = open('cluster_' + str(row['cluster'])+'.txt', 'w')\n",
    "       for i in range(len(row['article_list'])):\n",
    "         f.write(row['article_list'][i])\n",
    "         f.write('\\n')\n",
    "         f.write('\\n')\n",
    "       f.close()\n",
    "       i+=1"
   ]
  },
  {
   "cell_type": "code",
   "execution_count": 67,
   "metadata": {},
   "outputs": [],
   "source": [
    "def cosine(u, v):\n",
    "    return np.dot(u, v) / (np.linalg.norm(u) * np.linalg.norm(v))"
   ]
  },
  {
   "cell_type": "code",
   "execution_count": 58,
   "metadata": {},
   "outputs": [],
   "source": [
    "sent1 = \"Biden has already made significant moves in requiring vaccines among public sector workers\"\n",
    "sent2 = \"Fully vaccinated people who test positive may also be eligible for authorized COVID-19 treatments, if their doctor says it's necessary\""
   ]
  },
  {
   "cell_type": "code",
   "execution_count": 59,
   "metadata": {},
   "outputs": [],
   "source": [
    "sim = cosine(sbert_model.encode([sent1])[0], sbert_model.encode([sent2])[0])"
   ]
  },
  {
   "cell_type": "code",
   "execution_count": 60,
   "metadata": {},
   "outputs": [
    {
     "data": {
      "text/plain": [
       "0.558436"
      ]
     },
     "execution_count": 60,
     "metadata": {},
     "output_type": "execute_result"
    }
   ],
   "source": [
    "sim"
   ]
  },
  {
   "cell_type": "code",
   "execution_count": null,
   "metadata": {},
   "outputs": [],
   "source": []
  }
 ],
 "metadata": {
  "interpreter": {
   "hash": "88685c02d7179f8a0efe8dc037c0f831e3cf85f6b3b9d37e237c2190ea9297e8"
  },
  "kernelspec": {
   "display_name": "Python 3 (ipykernel)",
   "language": "python",
   "name": "python3"
  },
  "language_info": {
   "codemirror_mode": {
    "name": "ipython",
    "version": 3
   },
   "file_extension": ".py",
   "mimetype": "text/x-python",
   "name": "python",
   "nbconvert_exporter": "python",
   "pygments_lexer": "ipython3",
   "version": "3.8.0"
  }
 },
 "nbformat": 4,
 "nbformat_minor": 2
}
