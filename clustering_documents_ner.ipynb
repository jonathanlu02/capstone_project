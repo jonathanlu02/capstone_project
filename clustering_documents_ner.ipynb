{
 "cells": [
  {
   "cell_type": "code",
   "execution_count": 1,
   "metadata": {},
   "outputs": [
    {
     "name": "stderr",
     "output_type": "stream",
     "text": [
      "[nltk_data] Downloading package stopwords to\n",
      "[nltk_data]     /Users/saumyaashah/nltk_data...\n",
      "[nltk_data]   Package stopwords is already up-to-date!\n",
      "[nltk_data] Downloading package punkt to\n",
      "[nltk_data]     /Users/saumyaashah/nltk_data...\n",
      "[nltk_data]   Package punkt is already up-to-date!\n",
      "[nltk_data] Downloading package wordnet to\n",
      "[nltk_data]     /Users/saumyaashah/nltk_data...\n",
      "[nltk_data]   Package wordnet is already up-to-date!\n"
     ]
    }
   ],
   "source": [
    "import os\n",
    "import random\n",
    "import re\n",
    "import string\n",
    "\n",
    "import nltk\n",
    "import numpy as np\n",
    "import pandas as pd\n",
    "\n",
    "from gensim.models import Word2Vec\n",
    "\n",
    "from nltk import word_tokenize\n",
    "from nltk.corpus import stopwords\n",
    "import spacy\n",
    "\n",
    "from sklearn.cluster import MiniBatchKMeans\n",
    "from sklearn.metrics import silhouette_samples, silhouette_score\n",
    "from nltk.stem import WordNetLemmatizer\n",
    "\n",
    "nltk.download(\"stopwords\")\n",
    "nltk.download('punkt')\n",
    "nltk.download('wordnet')\n",
    "\n",
    "SEED = 42\n",
    "random.seed(SEED)\n",
    "os.environ[\"PYTHONHASHSEED\"] = str(SEED)\n",
    "np.random.seed(SEED)"
   ]
  },
  {
   "cell_type": "markdown",
   "metadata": {},
   "source": [
    "### Reading Data"
   ]
  },
  {
   "cell_type": "code",
   "execution_count": 2,
   "metadata": {},
   "outputs": [],
   "source": [
    "df_raw = pd.read_json('news_articles_with_text_3_sources.json')"
   ]
  },
  {
   "cell_type": "code",
   "execution_count": 3,
   "metadata": {},
   "outputs": [
    {
     "data": {
      "text/html": [
       "<div>\n",
       "<style scoped>\n",
       "    .dataframe tbody tr th:only-of-type {\n",
       "        vertical-align: middle;\n",
       "    }\n",
       "\n",
       "    .dataframe tbody tr th {\n",
       "        vertical-align: top;\n",
       "    }\n",
       "\n",
       "    .dataframe thead th {\n",
       "        text-align: right;\n",
       "    }\n",
       "</style>\n",
       "<table border=\"1\" class=\"dataframe\">\n",
       "  <thead>\n",
       "    <tr style=\"text-align: right;\">\n",
       "      <th></th>\n",
       "      <th>source</th>\n",
       "      <th>author</th>\n",
       "      <th>title</th>\n",
       "      <th>url</th>\n",
       "      <th>publishedAt</th>\n",
       "      <th>article_text</th>\n",
       "    </tr>\n",
       "  </thead>\n",
       "  <tbody>\n",
       "    <tr>\n",
       "      <th>0</th>\n",
       "      <td>{'id': 'abc-news', 'name': 'ABC News'}</td>\n",
       "      <td>MARIAM FAM, DEEPTI HAJELA and LUIS ANDRES HENA...</td>\n",
       "      <td>Two decades after 9/11, Muslim Americans still...</td>\n",
       "      <td>https://abcnews.go.com/Lifestyle/wireStory/dec...</td>\n",
       "      <td>2021-09-07T07:27:55Z</td>\n",
       "      <td>Muslim Americans who grew up under the shadow ...</td>\n",
       "    </tr>\n",
       "    <tr>\n",
       "      <th>1</th>\n",
       "      <td>{'id': 'abc-news', 'name': 'ABC News'}</td>\n",
       "      <td>TERESA M. WALKER AP Pro Football Writer</td>\n",
       "      <td>Titans' outbreak nears end, other NFL teams de...</td>\n",
       "      <td>https://abcnews.go.com/Sports/wireStory/titans...</td>\n",
       "      <td>2021-09-07T03:31:36Z</td>\n",
       "      <td>The Tennessee Titans COVID-19 outbreak is near...</td>\n",
       "    </tr>\n",
       "    <tr>\n",
       "      <th>2</th>\n",
       "      <td>{'id': 'abc-news', 'name': 'ABC News'}</td>\n",
       "      <td>Dr. Priscilla Hanudel</td>\n",
       "      <td>COVID-19 infection after vaccination and what ...</td>\n",
       "      <td>https://abcnews.go.com/Health/covid-19-infecti...</td>\n",
       "      <td>2021-09-07T14:28:39Z</td>\n",
       "      <td>Vaccines work to dramatically reduce the risk ...</td>\n",
       "    </tr>\n",
       "    <tr>\n",
       "      <th>3</th>\n",
       "      <td>{'id': 'abc-news', 'name': 'ABC News'}</td>\n",
       "      <td>Alisa Wiersema</td>\n",
       "      <td>Texas governor signs GOP-backed 'election inte...</td>\n",
       "      <td>https://abcnews.go.com/Politics/texas-governor...</td>\n",
       "      <td>2021-09-07T17:34:12Z</td>\n",
       "      <td>Three months and two special sessions after Te...</td>\n",
       "    </tr>\n",
       "    <tr>\n",
       "      <th>4</th>\n",
       "      <td>{'id': 'abc-news', 'name': 'ABC News'}</td>\n",
       "      <td>The Associated Press</td>\n",
       "      <td>Spanish hospital baby switch discovered two de...</td>\n",
       "      <td>https://abcnews.go.com/Lifestyle/wireStory/spa...</td>\n",
       "      <td>2021-09-07T17:07:13Z</td>\n",
       "      <td>Health authorities in Spain are blaming human ...</td>\n",
       "    </tr>\n",
       "  </tbody>\n",
       "</table>\n",
       "</div>"
      ],
      "text/plain": [
       "                                   source  \\\n",
       "0  {'id': 'abc-news', 'name': 'ABC News'}   \n",
       "1  {'id': 'abc-news', 'name': 'ABC News'}   \n",
       "2  {'id': 'abc-news', 'name': 'ABC News'}   \n",
       "3  {'id': 'abc-news', 'name': 'ABC News'}   \n",
       "4  {'id': 'abc-news', 'name': 'ABC News'}   \n",
       "\n",
       "                                              author  \\\n",
       "0  MARIAM FAM, DEEPTI HAJELA and LUIS ANDRES HENA...   \n",
       "1            TERESA M. WALKER AP Pro Football Writer   \n",
       "2                              Dr. Priscilla Hanudel   \n",
       "3                                     Alisa Wiersema   \n",
       "4                               The Associated Press   \n",
       "\n",
       "                                               title  \\\n",
       "0  Two decades after 9/11, Muslim Americans still...   \n",
       "1  Titans' outbreak nears end, other NFL teams de...   \n",
       "2  COVID-19 infection after vaccination and what ...   \n",
       "3  Texas governor signs GOP-backed 'election inte...   \n",
       "4  Spanish hospital baby switch discovered two de...   \n",
       "\n",
       "                                                 url           publishedAt  \\\n",
       "0  https://abcnews.go.com/Lifestyle/wireStory/dec...  2021-09-07T07:27:55Z   \n",
       "1  https://abcnews.go.com/Sports/wireStory/titans...  2021-09-07T03:31:36Z   \n",
       "2  https://abcnews.go.com/Health/covid-19-infecti...  2021-09-07T14:28:39Z   \n",
       "3  https://abcnews.go.com/Politics/texas-governor...  2021-09-07T17:34:12Z   \n",
       "4  https://abcnews.go.com/Lifestyle/wireStory/spa...  2021-09-07T17:07:13Z   \n",
       "\n",
       "                                        article_text  \n",
       "0  Muslim Americans who grew up under the shadow ...  \n",
       "1  The Tennessee Titans COVID-19 outbreak is near...  \n",
       "2  Vaccines work to dramatically reduce the risk ...  \n",
       "3  Three months and two special sessions after Te...  \n",
       "4  Health authorities in Spain are blaming human ...  "
      ]
     },
     "execution_count": 3,
     "metadata": {},
     "output_type": "execute_result"
    }
   ],
   "source": [
    "df_raw.head()"
   ]
  },
  {
   "cell_type": "markdown",
   "metadata": {},
   "source": [
    "### Pre-processing and Tokenization"
   ]
  },
  {
   "cell_type": "code",
   "execution_count": 4,
   "metadata": {},
   "outputs": [],
   "source": [
    "def clean_text(text):\n",
    "    text = str(text).lower()  # Lowercase words\n",
    "    text = re.sub(r\"\\[(.*?)\\]\", \" \", text)  # Remove [+XYZ chars] in content\n",
    "    #text = re.sub(\"^\\d+\\s|\\s\\d+\\s|\\s\\d+$\", \" \", text)  # Remove numbers in content\n",
    "    text = re.sub(r'[0-9]', '', text)\n",
    "    text = re.sub(r\"\\s+\", \" \", text)  # Remove multiple spaces in content\n",
    "    text = re.sub(r\"\\w+…|…\", \"\", text)  # Remove ellipsis (and last word)\n",
    "    text = re.sub(r\"(?<=\\w)-(?=\\w)\", \" \", text)  # Replace dash between words\n",
    "    text = re.sub(\n",
    "        f\"[{re.escape(string.punctuation)}]\", \" \", text\n",
    "    )  # Remove punctuation\n",
    "    return text\n",
    "\n",
    "def tokenize(text, tokenizer, stopwords):\n",
    "    lemmatizer = WordNetLemmatizer()\n",
    "    tokens = tokenizer(text)  # Get tokens from text\n",
    "    tokens = [t for t in tokens if not t in stopwords]  # Remove stopwords\n",
    "    tokens = [\"\" if t.isdigit() else t for t in tokens]  # Remove digits\n",
    "    tokens = [t for t in tokens if len(t) > 1]  # Remove short tokens\n",
    "    tokens = [lemmatizer.lemmatize(t, pos ='v') for t in tokens]\n",
    "    return tokens"
   ]
  },
  {
   "cell_type": "code",
   "execution_count": 5,
   "metadata": {},
   "outputs": [
    {
     "name": "stdout",
     "output_type": "stream",
     "text": [
      "Original dataframe: (1500, 6)\n",
      "Pre-processed dataframe: (570, 2)\n"
     ]
    }
   ],
   "source": [
    "custom_stopwords = set(stopwords.words(\"english\") + [\"news\", \"new\", \"top\"])\n",
    "#text_columns = [\"title\", \"author\", \"article_text\"]\n",
    "\n",
    "df = df_raw.copy()\n",
    "df[\"article_text\"] = df[\"article_text\"].fillna(\"\")\n",
    "\n",
    "df['text'] = df['article_text'].astype(str)\n",
    "\n",
    "#df[\"text\"] = df[text_columns].apply(lambda x: \" | \".join(x), axis=1)\n",
    "df[\"text\"] = df[\"text\"].map(lambda x: clean_text(x))\n",
    "df[\"tokens\"] = df[\"text\"].map(lambda x: tokenize(x, word_tokenize, custom_stopwords))\n",
    "\n",
    "# Remove duplicated after preprocessing\n",
    "_, idx = np.unique(df[\"tokens\"], return_index=True)\n",
    "df = df.iloc[idx, :]\n",
    "\n",
    "# Remove empty values and keep relevant columns\n",
    "df = df.loc[df.tokens.map(lambda x: len(x) > 0), [\"text\", \"tokens\"]]\n",
    "\n",
    "print(f\"Original dataframe: {df_raw.shape}\")\n",
    "print(f\"Pre-processed dataframe: {df.shape}\")"
   ]
  },
  {
   "cell_type": "code",
   "execution_count": 6,
   "metadata": {},
   "outputs": [
    {
     "data": {
      "text/html": [
       "<div>\n",
       "<style scoped>\n",
       "    .dataframe tbody tr th:only-of-type {\n",
       "        vertical-align: middle;\n",
       "    }\n",
       "\n",
       "    .dataframe tbody tr th {\n",
       "        vertical-align: top;\n",
       "    }\n",
       "\n",
       "    .dataframe thead th {\n",
       "        text-align: right;\n",
       "    }\n",
       "</style>\n",
       "<table border=\"1\" class=\"dataframe\">\n",
       "  <thead>\n",
       "    <tr style=\"text-align: right;\">\n",
       "      <th></th>\n",
       "      <th>text</th>\n",
       "      <th>tokens</th>\n",
       "    </tr>\n",
       "  </thead>\n",
       "  <tbody>\n",
       "    <tr>\n",
       "      <th>201</th>\n",
       "      <td>in the aftermath of president joe biden s late...</td>\n",
       "      <td>[aftermath, president, joe, biden, latest, ann...</td>\n",
       "    </tr>\n",
       "    <tr>\n",
       "      <th>1031</th>\n",
       "      <td>ahead of tuesday s groundbreaking on the obama...</td>\n",
       "      <td>[ahead, tuesday, groundbreaking, obama, presid...</td>\n",
       "    </tr>\n",
       "    <tr>\n",
       "      <th>1114</th>\n",
       "      <td>an air force veteran who pleaded guilty to a m...</td>\n",
       "      <td>[air, force, veteran, plead, guilty, misdemean...</td>\n",
       "    </tr>\n",
       "    <tr>\n",
       "      <th>633</th>\n",
       "      <td>alicia and herman lopez remember how much thei...</td>\n",
       "      <td>[alicia, herman, lopez, remember, much, son, h...</td>\n",
       "    </tr>\n",
       "    <tr>\n",
       "      <th>321</th>\n",
       "      <td>allies of former president donald trump are ca...</td>\n",
       "      <td>[ally, former, president, donald, trump, call,...</td>\n",
       "    </tr>\n",
       "  </tbody>\n",
       "</table>\n",
       "</div>"
      ],
      "text/plain": [
       "                                                   text  \\\n",
       "201   in the aftermath of president joe biden s late...   \n",
       "1031  ahead of tuesday s groundbreaking on the obama...   \n",
       "1114  an air force veteran who pleaded guilty to a m...   \n",
       "633   alicia and herman lopez remember how much thei...   \n",
       "321   allies of former president donald trump are ca...   \n",
       "\n",
       "                                                 tokens  \n",
       "201   [aftermath, president, joe, biden, latest, ann...  \n",
       "1031  [ahead, tuesday, groundbreaking, obama, presid...  \n",
       "1114  [air, force, veteran, plead, guilty, misdemean...  \n",
       "633   [alicia, herman, lopez, remember, much, son, h...  \n",
       "321   [ally, former, president, donald, trump, call,...  "
      ]
     },
     "execution_count": 6,
     "metadata": {},
     "output_type": "execute_result"
    }
   ],
   "source": [
    "df.head()"
   ]
  },
  {
   "cell_type": "code",
   "execution_count": 7,
   "metadata": {},
   "outputs": [],
   "source": [
    "nlp = spacy.load(\"en_core_web_sm\")"
   ]
  },
  {
   "cell_type": "code",
   "execution_count": 8,
   "metadata": {},
   "outputs": [],
   "source": [
    "df[\"tokenized_text\"] = df[\"tokens\"].map(lambda x: \" \".join([str(item) for item in x]))"
   ]
  },
  {
   "cell_type": "code",
   "execution_count": 9,
   "metadata": {},
   "outputs": [
    {
     "data": {
      "text/html": [
       "<div>\n",
       "<style scoped>\n",
       "    .dataframe tbody tr th:only-of-type {\n",
       "        vertical-align: middle;\n",
       "    }\n",
       "\n",
       "    .dataframe tbody tr th {\n",
       "        vertical-align: top;\n",
       "    }\n",
       "\n",
       "    .dataframe thead th {\n",
       "        text-align: right;\n",
       "    }\n",
       "</style>\n",
       "<table border=\"1\" class=\"dataframe\">\n",
       "  <thead>\n",
       "    <tr style=\"text-align: right;\">\n",
       "      <th></th>\n",
       "      <th>text</th>\n",
       "      <th>tokens</th>\n",
       "      <th>tokenized_text</th>\n",
       "    </tr>\n",
       "  </thead>\n",
       "  <tbody>\n",
       "    <tr>\n",
       "      <th>201</th>\n",
       "      <td>in the aftermath of president joe biden s late...</td>\n",
       "      <td>[aftermath, president, joe, biden, latest, ann...</td>\n",
       "      <td>aftermath president joe biden latest announcem...</td>\n",
       "    </tr>\n",
       "    <tr>\n",
       "      <th>1031</th>\n",
       "      <td>ahead of tuesday s groundbreaking on the obama...</td>\n",
       "      <td>[ahead, tuesday, groundbreaking, obama, presid...</td>\n",
       "      <td>ahead tuesday groundbreaking obama presidentia...</td>\n",
       "    </tr>\n",
       "    <tr>\n",
       "      <th>1114</th>\n",
       "      <td>an air force veteran who pleaded guilty to a m...</td>\n",
       "      <td>[air, force, veteran, plead, guilty, misdemean...</td>\n",
       "      <td>air force veteran plead guilty misdemeanor joi...</td>\n",
       "    </tr>\n",
       "    <tr>\n",
       "      <th>633</th>\n",
       "      <td>alicia and herman lopez remember how much thei...</td>\n",
       "      <td>[alicia, herman, lopez, remember, much, son, h...</td>\n",
       "      <td>alicia herman lopez remember much son hunter l...</td>\n",
       "    </tr>\n",
       "    <tr>\n",
       "      <th>321</th>\n",
       "      <td>allies of former president donald trump are ca...</td>\n",
       "      <td>[ally, former, president, donald, trump, call,...</td>\n",
       "      <td>ally former president donald trump call charge...</td>\n",
       "    </tr>\n",
       "    <tr>\n",
       "      <th>...</th>\n",
       "      <td>...</td>\n",
       "      <td>...</td>\n",
       "      <td>...</td>\n",
       "    </tr>\n",
       "    <tr>\n",
       "      <th>721</th>\n",
       "      <td>new york    former president george w  bush wi...</td>\n",
       "      <td>[york, former, president, george, bush, headli...</td>\n",
       "      <td>york former president george bush headline fun...</td>\n",
       "    </tr>\n",
       "    <tr>\n",
       "      <th>107</th>\n",
       "      <td>a young girl who was  tortured  and shot multi...</td>\n",
       "      <td>[young, girl, torture, shoot, multiple, time, ...</td>\n",
       "      <td>young girl torture shoot multiple time former ...</td>\n",
       "    </tr>\n",
       "    <tr>\n",
       "      <th>342</th>\n",
       "      <td>if youre like me and cant wait until oct  to c...</td>\n",
       "      <td>[youre, like, cant, wait, oct, celebrate, th, ...</td>\n",
       "      <td>youre like cant wait oct celebrate th annivers...</td>\n",
       "    </tr>\n",
       "    <tr>\n",
       "      <th>313</th>\n",
       "      <td>the youth feels a sense of  institutional betr...</td>\n",
       "      <td>[youth, feel, sense, institutional, betrayal, ...</td>\n",
       "      <td>youth feel sense institutional betrayal bring ...</td>\n",
       "    </tr>\n",
       "    <tr>\n",
       "      <th>324</th>\n",
       "      <td>the zapad exercises are likely russia s larges...</td>\n",
       "      <td>[zapad, exercise, likely, russia, largest, eur...</td>\n",
       "      <td>zapad exercise likely russia largest europe si...</td>\n",
       "    </tr>\n",
       "  </tbody>\n",
       "</table>\n",
       "<p>570 rows × 3 columns</p>\n",
       "</div>"
      ],
      "text/plain": [
       "                                                   text  \\\n",
       "201   in the aftermath of president joe biden s late...   \n",
       "1031  ahead of tuesday s groundbreaking on the obama...   \n",
       "1114  an air force veteran who pleaded guilty to a m...   \n",
       "633   alicia and herman lopez remember how much thei...   \n",
       "321   allies of former president donald trump are ca...   \n",
       "...                                                 ...   \n",
       "721   new york    former president george w  bush wi...   \n",
       "107   a young girl who was  tortured  and shot multi...   \n",
       "342   if youre like me and cant wait until oct  to c...   \n",
       "313   the youth feels a sense of  institutional betr...   \n",
       "324   the zapad exercises are likely russia s larges...   \n",
       "\n",
       "                                                 tokens  \\\n",
       "201   [aftermath, president, joe, biden, latest, ann...   \n",
       "1031  [ahead, tuesday, groundbreaking, obama, presid...   \n",
       "1114  [air, force, veteran, plead, guilty, misdemean...   \n",
       "633   [alicia, herman, lopez, remember, much, son, h...   \n",
       "321   [ally, former, president, donald, trump, call,...   \n",
       "...                                                 ...   \n",
       "721   [york, former, president, george, bush, headli...   \n",
       "107   [young, girl, torture, shoot, multiple, time, ...   \n",
       "342   [youre, like, cant, wait, oct, celebrate, th, ...   \n",
       "313   [youth, feel, sense, institutional, betrayal, ...   \n",
       "324   [zapad, exercise, likely, russia, largest, eur...   \n",
       "\n",
       "                                         tokenized_text  \n",
       "201   aftermath president joe biden latest announcem...  \n",
       "1031  ahead tuesday groundbreaking obama presidentia...  \n",
       "1114  air force veteran plead guilty misdemeanor joi...  \n",
       "633   alicia herman lopez remember much son hunter l...  \n",
       "321   ally former president donald trump call charge...  \n",
       "...                                                 ...  \n",
       "721   york former president george bush headline fun...  \n",
       "107   young girl torture shoot multiple time former ...  \n",
       "342   youre like cant wait oct celebrate th annivers...  \n",
       "313   youth feel sense institutional betrayal bring ...  \n",
       "324   zapad exercise likely russia largest europe si...  \n",
       "\n",
       "[570 rows x 3 columns]"
      ]
     },
     "execution_count": 9,
     "metadata": {},
     "output_type": "execute_result"
    }
   ],
   "source": [
    "df"
   ]
  },
  {
   "cell_type": "markdown",
   "metadata": {},
   "source": [
    "### Get Named Entities"
   ]
  },
  {
   "cell_type": "code",
   "execution_count": 10,
   "metadata": {},
   "outputs": [],
   "source": [
    "df[\"ner\"] = df[\"tokenized_text\"].map(lambda x: len(nlp(x).ents))"
   ]
  },
  {
   "cell_type": "code",
   "execution_count": 11,
   "metadata": {},
   "outputs": [],
   "source": [
    "df[\"ner_vals\"] = df[\"tokenized_text\"].map(lambda x: nlp(x).ents)"
   ]
  },
  {
   "cell_type": "code",
   "execution_count": 12,
   "metadata": {},
   "outputs": [],
   "source": [
    "df[\"ner_vals\"] = df[\"ner_vals\"].map(lambda x: [str(item) for t in x for item in t])\n",
    "#df[\"ner_vals\"] = df[\"ner_vals\"].map(lambda x: [str(item) for  item in t])"
   ]
  },
  {
   "cell_type": "code",
   "execution_count": 50,
   "metadata": {},
   "outputs": [
    {
     "data": {
      "text/html": [
       "<div>\n",
       "<style scoped>\n",
       "    .dataframe tbody tr th:only-of-type {\n",
       "        vertical-align: middle;\n",
       "    }\n",
       "\n",
       "    .dataframe tbody tr th {\n",
       "        vertical-align: top;\n",
       "    }\n",
       "\n",
       "    .dataframe thead th {\n",
       "        text-align: right;\n",
       "    }\n",
       "</style>\n",
       "<table border=\"1\" class=\"dataframe\">\n",
       "  <thead>\n",
       "    <tr style=\"text-align: right;\">\n",
       "      <th></th>\n",
       "      <th>text</th>\n",
       "      <th>tokens</th>\n",
       "      <th>tokenized_text</th>\n",
       "      <th>ner</th>\n",
       "      <th>ner_vals</th>\n",
       "    </tr>\n",
       "  </thead>\n",
       "  <tbody>\n",
       "    <tr>\n",
       "      <th>201</th>\n",
       "      <td>in the aftermath of president joe biden s late...</td>\n",
       "      <td>[aftermath, president, joe, biden, latest, ann...</td>\n",
       "      <td>aftermath president joe biden latest announcem...</td>\n",
       "      <td>30</td>\n",
       "      <td>[joe, biden, week, american, americans, lawren...</td>\n",
       "    </tr>\n",
       "    <tr>\n",
       "      <th>1031</th>\n",
       "      <td>ahead of tuesday s groundbreaking on the obama...</td>\n",
       "      <td>[ahead, tuesday, groundbreaking, obama, presid...</td>\n",
       "      <td>ahead tuesday groundbreaking obama presidentia...</td>\n",
       "      <td>27</td>\n",
       "      <td>[tuesday, chicago, jackson, park, chicago, fou...</td>\n",
       "    </tr>\n",
       "    <tr>\n",
       "      <th>1114</th>\n",
       "      <td>an air force veteran who pleaded guilty to a m...</td>\n",
       "      <td>[air, force, veteran, plead, guilty, misdemean...</td>\n",
       "      <td>air force veteran plead guilty misdemeanor joi...</td>\n",
       "      <td>13</td>\n",
       "      <td>[air, force, wednesday, days, mark, first, mis...</td>\n",
       "    </tr>\n",
       "    <tr>\n",
       "      <th>633</th>\n",
       "      <td>alicia and herman lopez remember how much thei...</td>\n",
       "      <td>[alicia, herman, lopez, remember, much, son, h...</td>\n",
       "      <td>alicia herman lopez remember much son hunter l...</td>\n",
       "      <td>21</td>\n",
       "      <td>[alicia, herman, disneyland, park, november, l...</td>\n",
       "    </tr>\n",
       "    <tr>\n",
       "      <th>321</th>\n",
       "      <td>allies of former president donald trump are ca...</td>\n",
       "      <td>[ally, former, president, donald, trump, call,...</td>\n",
       "      <td>ally former president donald trump call charge...</td>\n",
       "      <td>46</td>\n",
       "      <td>[donald, trump, washington, first, donald, tru...</td>\n",
       "    </tr>\n",
       "    <tr>\n",
       "      <th>...</th>\n",
       "      <td>...</td>\n",
       "      <td>...</td>\n",
       "      <td>...</td>\n",
       "      <td>...</td>\n",
       "      <td>...</td>\n",
       "    </tr>\n",
       "    <tr>\n",
       "      <th>721</th>\n",
       "      <td>new york    former president george w  bush wi...</td>\n",
       "      <td>[york, former, president, george, bush, headli...</td>\n",
       "      <td>york former president george bush headline fun...</td>\n",
       "      <td>53</td>\n",
       "      <td>[george, bush, next, month, donald, trump, liz...</td>\n",
       "    </tr>\n",
       "    <tr>\n",
       "      <th>107</th>\n",
       "      <td>a young girl who was  tortured  and shot multi...</td>\n",
       "      <td>[young, girl, torture, shoot, multiple, time, ...</td>\n",
       "      <td>young girl torture shoot multiple time former ...</td>\n",
       "      <td>27</td>\n",
       "      <td>[sharpshooter, four, thursday, year, old, flor...</td>\n",
       "    </tr>\n",
       "    <tr>\n",
       "      <th>342</th>\n",
       "      <td>if youre like me and cant wait until oct  to c...</td>\n",
       "      <td>[youre, like, cant, wait, oct, celebrate, th, ...</td>\n",
       "      <td>youre like cant wait oct celebrate th annivers...</td>\n",
       "      <td>26</td>\n",
       "      <td>[oct, one, months, week, four, one, four, day,...</td>\n",
       "    </tr>\n",
       "    <tr>\n",
       "      <th>313</th>\n",
       "      <td>the youth feels a sense of  institutional betr...</td>\n",
       "      <td>[youth, feel, sense, institutional, betrayal, ...</td>\n",
       "      <td>youth feel sense institutional betrayal bring ...</td>\n",
       "      <td>15</td>\n",
       "      <td>[first, tuesday, nearly, half, first, lisa, va...</td>\n",
       "    </tr>\n",
       "    <tr>\n",
       "      <th>324</th>\n",
       "      <td>the zapad exercises are likely russia s larges...</td>\n",
       "      <td>[zapad, exercise, likely, russia, largest, eur...</td>\n",
       "      <td>zapad exercise likely russia largest europe si...</td>\n",
       "      <td>91</td>\n",
       "      <td>[russia, europe, russia, russian, vladimir, pu...</td>\n",
       "    </tr>\n",
       "  </tbody>\n",
       "</table>\n",
       "<p>563 rows × 5 columns</p>\n",
       "</div>"
      ],
      "text/plain": [
       "                                                   text  \\\n",
       "201   in the aftermath of president joe biden s late...   \n",
       "1031  ahead of tuesday s groundbreaking on the obama...   \n",
       "1114  an air force veteran who pleaded guilty to a m...   \n",
       "633   alicia and herman lopez remember how much thei...   \n",
       "321   allies of former president donald trump are ca...   \n",
       "...                                                 ...   \n",
       "721   new york    former president george w  bush wi...   \n",
       "107   a young girl who was  tortured  and shot multi...   \n",
       "342   if youre like me and cant wait until oct  to c...   \n",
       "313   the youth feels a sense of  institutional betr...   \n",
       "324   the zapad exercises are likely russia s larges...   \n",
       "\n",
       "                                                 tokens  \\\n",
       "201   [aftermath, president, joe, biden, latest, ann...   \n",
       "1031  [ahead, tuesday, groundbreaking, obama, presid...   \n",
       "1114  [air, force, veteran, plead, guilty, misdemean...   \n",
       "633   [alicia, herman, lopez, remember, much, son, h...   \n",
       "321   [ally, former, president, donald, trump, call,...   \n",
       "...                                                 ...   \n",
       "721   [york, former, president, george, bush, headli...   \n",
       "107   [young, girl, torture, shoot, multiple, time, ...   \n",
       "342   [youre, like, cant, wait, oct, celebrate, th, ...   \n",
       "313   [youth, feel, sense, institutional, betrayal, ...   \n",
       "324   [zapad, exercise, likely, russia, largest, eur...   \n",
       "\n",
       "                                         tokenized_text  ner  \\\n",
       "201   aftermath president joe biden latest announcem...   30   \n",
       "1031  ahead tuesday groundbreaking obama presidentia...   27   \n",
       "1114  air force veteran plead guilty misdemeanor joi...   13   \n",
       "633   alicia herman lopez remember much son hunter l...   21   \n",
       "321   ally former president donald trump call charge...   46   \n",
       "...                                                 ...  ...   \n",
       "721   york former president george bush headline fun...   53   \n",
       "107   young girl torture shoot multiple time former ...   27   \n",
       "342   youre like cant wait oct celebrate th annivers...   26   \n",
       "313   youth feel sense institutional betrayal bring ...   15   \n",
       "324   zapad exercise likely russia largest europe si...   91   \n",
       "\n",
       "                                               ner_vals  \n",
       "201   [joe, biden, week, american, americans, lawren...  \n",
       "1031  [tuesday, chicago, jackson, park, chicago, fou...  \n",
       "1114  [air, force, wednesday, days, mark, first, mis...  \n",
       "633   [alicia, herman, disneyland, park, november, l...  \n",
       "321   [donald, trump, washington, first, donald, tru...  \n",
       "...                                                 ...  \n",
       "721   [george, bush, next, month, donald, trump, liz...  \n",
       "107   [sharpshooter, four, thursday, year, old, flor...  \n",
       "342   [oct, one, months, week, four, one, four, day,...  \n",
       "313   [first, tuesday, nearly, half, first, lisa, va...  \n",
       "324   [russia, europe, russia, russian, vladimir, pu...  \n",
       "\n",
       "[563 rows x 5 columns]"
      ]
     },
     "execution_count": 50,
     "metadata": {},
     "output_type": "execute_result"
    }
   ],
   "source": [
    "df"
   ]
  },
  {
   "cell_type": "markdown",
   "metadata": {},
   "source": [
    "### Filter out articles with <2 NEs"
   ]
  },
  {
   "cell_type": "code",
   "execution_count": 13,
   "metadata": {},
   "outputs": [],
   "source": [
    "df = df[df['ner'] > 2]"
   ]
  },
  {
   "cell_type": "code",
   "execution_count": 14,
   "metadata": {},
   "outputs": [],
   "source": [
    "numbered_ners = df['ner_vals'].values.tolist()"
   ]
  },
  {
   "cell_type": "code",
   "execution_count": 15,
   "metadata": {},
   "outputs": [],
   "source": [
    "tokenized_docs = df['tokens'].values.tolist()"
   ]
  },
  {
   "cell_type": "code",
   "execution_count": 16,
   "metadata": {},
   "outputs": [],
   "source": [
    "docs = df['text'].values.tolist()"
   ]
  },
  {
   "cell_type": "markdown",
   "metadata": {},
   "source": [
    "### Get NE Embeddings"
   ]
  },
  {
   "cell_type": "code",
   "execution_count": 17,
   "metadata": {},
   "outputs": [],
   "source": [
    "model = Word2Vec(sentences=numbered_ners, vector_size=100, workers=1, seed=SEED)"
   ]
  },
  {
   "cell_type": "code",
   "execution_count": 18,
   "metadata": {},
   "outputs": [
    {
     "data": {
      "text/plain": [
       "[('democratic', 0.9993303418159485),\n",
       " ('congress', 0.9993020296096802),\n",
       " ('tuesday', 0.9993001818656921),\n",
       " ('joe', 0.999247133731842),\n",
       " ('american', 0.9992201328277588),\n",
       " ('republican', 0.9992197155952454),\n",
       " ('thursday', 0.999214231967926),\n",
       " ('gop', 0.9992128610610962),\n",
       " ('wednesday', 0.9991728663444519),\n",
       " ('week', 0.9991698861122131)]"
      ]
     },
     "execution_count": 18,
     "metadata": {},
     "output_type": "execute_result"
    }
   ],
   "source": [
    "model.wv.most_similar(\"biden\")"
   ]
  },
  {
   "cell_type": "code",
   "execution_count": 19,
   "metadata": {},
   "outputs": [
    {
     "data": {
      "text/plain": [
       "(563, 100)"
      ]
     },
     "execution_count": 19,
     "metadata": {},
     "output_type": "execute_result"
    }
   ],
   "source": [
    "def vectorize(list_of_docs, model):\n",
    "    features = []\n",
    "\n",
    "    for tokens in list_of_docs:\n",
    "        zero_vector = np.zeros(model.vector_size)\n",
    "        vectors = []\n",
    "        for token in tokens:\n",
    "            if token in model.wv:\n",
    "                try:\n",
    "                    vectors.append(model.wv[token])\n",
    "                except KeyError:\n",
    "                    continue\n",
    "        if vectors:\n",
    "            vectors = np.asarray(vectors)\n",
    "            avg_vec = vectors.mean(axis=0)\n",
    "            features.append(avg_vec)\n",
    "        else:\n",
    "            features.append(zero_vector)\n",
    "    return features\n",
    "    \n",
    "vectorized_docs = vectorize(numbered_ners, model=model)\n",
    "len(vectorized_docs), len(vectorized_docs[0])"
   ]
  },
  {
   "cell_type": "markdown",
   "metadata": {},
   "source": [
    "### Clustering "
   ]
  },
  {
   "cell_type": "code",
   "execution_count": 21,
   "metadata": {},
   "outputs": [],
   "source": [
    "def mbkmeans_clusters(X, k, mb, print_silhouette_values):\n",
    "    km = MiniBatchKMeans(n_clusters=k, batch_size=mb).fit(X)\n",
    "    print(f\"For n_clusters = {k}\")\n",
    "    print(f\"Silhouette coefficient: {silhouette_score(X, km.labels_):0.2f}\")\n",
    "    print(f\"Inertia:{km.inertia_}\")\n",
    "\n",
    "    if print_silhouette_values:\n",
    "        sample_silhouette_values = silhouette_samples(X, km.labels_)\n",
    "        print(f\"Silhouette values:\")\n",
    "        silhouette_values = []\n",
    "        for i in range(k):\n",
    "            cluster_silhouette_values = sample_silhouette_values[km.labels_ == i]\n",
    "            silhouette_values.append(\n",
    "                (\n",
    "                    i,\n",
    "                    cluster_silhouette_values.shape[0],\n",
    "                    cluster_silhouette_values.mean(),\n",
    "                    cluster_silhouette_values.min(),\n",
    "                    cluster_silhouette_values.max(),\n",
    "                )\n",
    "            )\n",
    "        silhouette_values = sorted(\n",
    "            silhouette_values, key=lambda tup: tup[2], reverse=True\n",
    "        )\n",
    "        for s in silhouette_values:\n",
    "            print(\n",
    "                f\"    Cluster {s[0]}: Size:{s[1]} | Avg:{s[2]:.2f} | Min:{s[3]:.2f} | Max: {s[4]:.2f}\"\n",
    "            )\n",
    "    return km, km.labels_"
   ]
  },
  {
   "cell_type": "code",
   "execution_count": 22,
   "metadata": {},
   "outputs": [
    {
     "name": "stdout",
     "output_type": "stream",
     "text": [
      "For n_clusters = 30\n",
      "Silhouette coefficient: 0.23\n",
      "Inertia:0.6975634896281628\n",
      "Silhouette values:\n",
      "    Cluster 12: Size:2 | Avg:0.85 | Min:0.84 | Max: 0.86\n",
      "    Cluster 7: Size:3 | Avg:0.83 | Min:0.76 | Max: 0.87\n",
      "    Cluster 3: Size:5 | Avg:0.48 | Min:0.22 | Max: 0.63\n",
      "    Cluster 23: Size:5 | Avg:0.43 | Min:0.08 | Max: 0.58\n",
      "    Cluster 21: Size:4 | Avg:0.43 | Min:0.25 | Max: 0.51\n",
      "    Cluster 13: Size:15 | Avg:0.42 | Min:-0.01 | Max: 0.61\n",
      "    Cluster 8: Size:7 | Avg:0.41 | Min:0.14 | Max: 0.53\n",
      "    Cluster 20: Size:12 | Avg:0.35 | Min:0.02 | Max: 0.53\n",
      "    Cluster 1: Size:19 | Avg:0.33 | Min:0.14 | Max: 0.46\n",
      "    Cluster 16: Size:49 | Avg:0.33 | Min:0.06 | Max: 0.53\n",
      "    Cluster 24: Size:21 | Avg:0.32 | Min:0.06 | Max: 0.50\n",
      "    Cluster 27: Size:13 | Avg:0.30 | Min:0.14 | Max: 0.45\n",
      "    Cluster 18: Size:5 | Avg:0.29 | Min:0.16 | Max: 0.48\n",
      "    Cluster 2: Size:16 | Avg:0.27 | Min:-0.02 | Max: 0.48\n",
      "    Cluster 0: Size:20 | Avg:0.26 | Min:0.01 | Max: 0.51\n",
      "    Cluster 5: Size:32 | Avg:0.24 | Min:0.03 | Max: 0.44\n",
      "    Cluster 17: Size:19 | Avg:0.23 | Min:-0.02 | Max: 0.38\n",
      "    Cluster 19: Size:19 | Avg:0.21 | Min:0.06 | Max: 0.37\n",
      "    Cluster 22: Size:22 | Avg:0.20 | Min:0.06 | Max: 0.38\n",
      "    Cluster 9: Size:45 | Avg:0.19 | Min:0.01 | Max: 0.38\n",
      "    Cluster 14: Size:32 | Avg:0.19 | Min:0.01 | Max: 0.38\n",
      "    Cluster 6: Size:23 | Avg:0.19 | Min:-0.18 | Max: 0.47\n",
      "    Cluster 28: Size:19 | Avg:0.17 | Min:0.03 | Max: 0.33\n",
      "    Cluster 15: Size:5 | Avg:0.17 | Min:0.05 | Max: 0.34\n",
      "    Cluster 11: Size:46 | Avg:0.16 | Min:-0.00 | Max: 0.33\n",
      "    Cluster 25: Size:29 | Avg:0.16 | Min:-0.05 | Max: 0.34\n",
      "    Cluster 4: Size:48 | Avg:0.14 | Min:-0.07 | Max: 0.35\n",
      "    Cluster 26: Size:18 | Avg:0.07 | Min:-0.16 | Max: 0.23\n",
      "    Cluster 29: Size:9 | Avg:0.03 | Min:-0.03 | Max: 0.16\n",
      "    Cluster 10: Size:1 | Avg:0.00 | Min:0.00 | Max: 0.00\n"
     ]
    }
   ],
   "source": [
    "clustering, cluster_labels = mbkmeans_clusters(\n",
    "\tX=vectorized_docs,\n",
    "    k=30,\n",
    "    mb=500,\n",
    "    print_silhouette_values=True,\n",
    ")\n",
    "df_clusters = pd.DataFrame({\n",
    "    \"text\": docs,\n",
    "    \"tokens\": [\" \".join(text) for text in tokenized_docs],\n",
    "    \"cluster\": cluster_labels\n",
    "})"
   ]
  },
  {
   "cell_type": "markdown",
   "metadata": {},
   "source": [
    "### Get top articles per cluster"
   ]
  },
  {
   "cell_type": "code",
   "execution_count": 51,
   "metadata": {},
   "outputs": [
    {
     "name": "stdout",
     "output_type": "stream",
     "text": [
      "['hours', 'joe', 'biden', 'thursday', 'earlier', 'day', 'hundreds', 'thousands', 'hours', 'thursday', 'night', 'senate', 'chuck', 'schumer', 'republican', 'billion', 'afghan', 'senate', 'later', 'thursday', 'afternoon', 'hours', 'thursday', 'white', 'house', 'fiscal', 'year', 'december', 'republicans', 'senate', 'mcconnell', 'democrats', 'republicans', 'mcconnell', 'today', 'democrats', 'republicans', 'gop', 'week', 'thursday', 'american', 'treasury', 'janet', 'yellen', 'americans', 'oct', 'senate', 'appropriations', 'committee', 'patrick', 'vt', 'republicans', 'billions', 'mcconnell', 'democrats', 'billion', 'israel', 'democrats', 'democrats', 'abc', 'justin', 'gomez']\n",
      "['democrats', 'white', 'house', 'democratic', 'senate', 'thursday', 'white', 'house', 'democrats', 'joe', 'biden', 'white', 'house', 'next', 'monday', 'senate', 'chuck', 'schumer', 'treasury', 'janet', 'yellen', 'weekly', 'democrats', 'oct', 'republicans', 'white', 'house', 'senate', 'democrats', 'senate', 'next', 'week', 'one', 'day', 'senate', 'budget', 'committee', 'bernie', 'sanders', 'mark', 'warner', 'democrat', 'budget', 'committee', 'warner', 'ron', 'wyden', 'ore', 'america', 'dodge', 'thursday', 'republicans', 'september', 'september']\n",
      "['congress', 'treasury', 'republicans', 'democratic', 'republicans', 'republicans', 'senate', 'democrats', 'gop', 'democrats', 'republicans', 'democrats', 'tomorrow', 'democrats', 'senate', 'chuck', 'tuesday', 'republicans', 'republicans', 'months', 'democrats', 'must', 'washington', 'zero', 'republicans', 'gop', 'mcconnell', 'tuesday', 'two', 'months', 'mcconnell', 'ky', 'democrats', 'joe', 'biden', 'gop', 'abc', 'tuesday', 'republican', 'budget', 'committee', 'sen', 'bernie', 'senate', 'budget', 'committee', 'west', 'virginia', 'arizona', 'republican', 'democrats', 'wednesday', 'lisa', 'murkowski', 'alaska', 'bill', 'treasury', 'janet', 'yellen', 'oct', 'democrats', 'weeks', 'democrats', 'republicans', 'democrats', 'wednesday', 'gop', 'democrats', 'tuesday', 'american', 'one', 'democrats', 'connecticut', 'democrats', 'democrats', 'abc', 'abc', 'democrats', 'massachusetts', 'elizabeth', 'warren', 'tuesday', 'wednesday', 'white', 'house']\n",
      "['washington', 'joe', 'bidens', 'congress', 'trillion', 'decade', 'democrats', 'irs', 'democrats', 'friday', 'zero', 'white', 'house', 'zero', 'zero', 'one', 'republicans', 'democrats', 'trojan', 'senate', 'republican', 'mcconnell', 'kentucky', 'thursday', 'trillions', 'calif', 'senate', 'chuck', 'schumer', 'thursday', 'bill', 'biden', 'china', 'washington', 'friday', 'trillions', 'dollars', 'zero', 'dollar', 'washington', 'democrats', 'next', 'ten', 'years', 'august', 'two', 'less', 'year', 'democrats', 'democrats', 'earlier', 'year', 'one', 'friday', 'zero', 'year', 'earlier', 'year', 'friday', 'senate', 'key', 'democratic']\n",
      "['rick', 'klein', 'wednesday', 'senate', 'republicans', 'democrats', 'next', 'december', 'democrats', 'two', 'weeks', 'washington', 'senate', 'mitch', 'mcconnell', 'mcconnell', 'republicans', 'democrats', 'democrats', 'one', 'gop', 'democrats', 'republicans', 'democrats', 'joe', 'biden', 'tuesday', 'michigan', 'last', 'november', 'democrats', 'biden', 'gop', 'arizona', 'august', 'treasury', 'department', 'two', 'arizona', 'treasury', 'joe', 'bidens', 'gop', 'arizona', 'days', 'virginia', 'terry', 'mcauliffe', 'five', 'republican', 'glenn', 'youngkin', 'youngkin', 'taylor', 'first', 'six', 'oliveri', 'taylor', 'youngkin', 'christian', 'martinez', 'gop', 'commonwealth', 'last', 'week', 'abc', 'wednesday', 'mornings', 'abc', 'terry', 'moran', 'abc', 'josh', 'margolin', 'abc', 'white', 'house', 'today', 'joe', 'biden', 'harris', 'daily', 'biden', 'senate', 'white', 'house', 'jen', 'psaki', 'senate', 'judiciary', 'committee', 'hold', 'abc', 'day', 'daily', 'abc', 'day', 'tomorrow']\n",
      "['democrats', 'thursday', 'white', 'house', 'joe', 'bidens', 'past', 'days', 'white', 'house', 'jen', 'psaki', 'thursday', 'night', 'week', 'tomorrow', 'morning', 'first', 'democrats', 'calif', 'leave', 'capitol', 'rachel', 'scott', 'earlier', 'week', 'thursday', 'today', 'thursday', 'morning', 'democrats', 'weekly', 'capitol', 'hill', 'press', 'bill', 'face', 'thursday', 'hour', 'hour', 'respond', 'moment', 'moment', 'hour', 'hour', 'today', 'capitol', 'hill', 'thursday', 'last', 'minute', 'democrats', 'thursday', 'democrats', 'two', 'later', 'thursday', 'democrats', 'bill', 'week', 'white', 'house', 'roughly', 'half', 'west', 'virginia', 'democrat', 'congress', 'midday', 'thursday', 'thursday', 'today', 'today', 'congress', 'thursday', 'senate', 'white', 'house', 'jen', 'psaki', 'tonight', 'several', 'hours', 'leave', 'day', 'last', 'couple', 'days', 'abc', 'sunday', 'wednesday', 'night', 'last', 'minute', 'week', 'weeks', 'americans']\n",
      "['california', 'abc', 'tuesday', 'millions', 'millions', 'late', 'tuesday', 'night', 'californians', 'two', 'forty', 'six', 'larry', 'fourth', 'one', 'last', 'century', 'california', 'republicans', 'larry', 'san', 'diego', 'kevin', 'faulconer', 'john', 'cox', 'gop', 'kamala', 'harris', 'elizabeth', 'warren', 'bernie', 'sanders', 'joe', 'biden', 'california', 'monday', 'night', 'california', 'california', 'monday', 'joshua', 'spivak', 'gray', 'davis', 'wisconsin', 'gop', 'john', 'cox', 'biden', 'republicans', 'democrats', 'democrats', 'nearly', 'million', 'compare', 'million', 'republican', 'monday', 'democrats', 'republican', 'native', 'bay', 'area', 'thursday', 'texas', 'texas', 'california', 'republicans', 'donald', 'trump', 'decades', 'republican', 'last', 'week', 'abc', 'saturday', 'november', 'california']\n",
      "['democrats', 'washington', 'democrats', 'thursday', 'exxonmobil', 'bp', 'next', 'month', 'american', 'petroleum', 'institute', 'american', 'billions', 'dollars', 'carolyn', 'maloney', 'khanna', 'calif', 'khanna', 'months', 'khanna', 'exxon', 'exxon', 'joe', 'bidens', 'congress', 'washington', 'keith', 'mccoy', 'june', 'uk', 'america', 'david', 'lawler', 'michael', 'wirth', 'shell', 'gretchen', 'watkins', 'khanna', 'hundreds', 'thousands', 'americans', 'today', 'khanna', 'five', 'exxon', 'house', 'oversight', 'committee', 'advance', 'priorities', 'american', 'energy', 'mike', 'next', 'month', 'exxon', 'amanda', 'columbus', 'ohio']\n",
      "['white', 'house', 'press', 'sarah', 'sanders', 'arkansas', 'arkansas', 'white', 'house', 'press', 'sarah', 'sanders', 'hundreds', 'half', 'hour', 'donald', 'trump', 'one', 'arkansas', 'arkansas', 'arkansas', 'republican', 'joe', 'biden', 'democrats', 'arkansas', 'janine', 'parry', 'political', 'arkansas', 'republican', 'democratic', 'mike', 'beebe', 'january', 'arkansas', 'afghanistan', 'arkansas', 'michael', 'john', 'gray', 'recent', 'years', 'iowa', 'republican', 'gov', 'kim', 'reynolds', 'oklahoma', 'republican', 'kevin', 'next', 'year', 'afghanistan', 'democrats', 'california', 'earlier', 'month', 'phil', 'murphy', 'florida', 'texas', 'arkansas', 'mike', 'huckabee', 'arkansas', 'john', 'boozman', 'republican', 'bill', 'clinton', 'america', 'tour', 'month', 'john', 'rich', 'republican', 'leslie', 'rutledge', 'july', 'million', 'washington', 'last', 'several', 'years', 'democrats', 'arkansas', 'american', 'kristen', 'harrington', 'tweet', 'harold', 'glenn', 'year', 'david', 'pitt', 'marc', 'levy', 'michael', 'catalini']\n",
      "['todd', 'akin', 'missouri', 'republican', 'senate', 'gop', 'several', 'years', 'late', 'sunday', 'st', 'louis', 'annual', 'july', 'republican', 'eastern', 'missouri', 'district', 'st', 'louis', 'area', 'years', 'senate', 'gop', 'republicans', 'senate', 'less', 'two', 'weeks', 'later', 'akin', 'strong', 'st', 'louis', 'television', 'republican', 'senate', 'republicans', 'gop', 'republican', 'echo', 'remark', 'signal', 'conservative', 'party', 'two', 'years', 'later', 'gop', 'gop', 'roy', 'blunt', 'remark', 'tea', 'party', 'republicans', 'july', 'york', 'city', 'st', 'louis', 'area', 'polytechnic', 'institute', 'ibm', 'st', 'louis', 'missouri', 'missouri', 'five', 'missouri', 'republican', 'wagner', 'missouri', 'republican', 'eastern', 'missouri', 'blaine', 'luetkemeyer', 'call', 'akin', 'decades', 'senate', 'two', 'john', 'brunner', 'democrats', 'gop', 'republicans', 'gop', 'gop', 'arkansas', 'mike', 'huckabee', 'eight', 'gop', 'boe', 'four', 'two', 'kansas', 'missouri']\n"
     ]
    }
   ],
   "source": [
    "cluster_21=[]\n",
    "test_cluster = 21\n",
    "most_representative_docs = np.argsort(\n",
    "    np.linalg.norm(vectorized_docs - clustering.cluster_centers_[test_cluster], axis=1)\n",
    ")\n",
    "for d in most_representative_docs[:10]:\n",
    "    cluster_21.append(numbered_ners[d])\n",
    "print(numbered_ners[d])"
   ]
  },
  {
   "cell_type": "code",
   "execution_count": 30,
   "metadata": {},
   "outputs": [
    {
     "name": "stdout",
     "output_type": "stream",
     "text": [
      "the stopgap funding bill made it to his desk just hours before the deadline  president joe biden on thursday evening signed a deal the house and senate passed earlier in the day to avert a government shutdown that would have affected hundreds of thousands of federal workers and slammed an economy still struggling to recover from the pandemic  all with just hours left to stave off a crisis   it meets critical and urgent needs of the nation   the president said in a statement thursday night  but he also noted   theres so much more to do   under the deal  announced by senate majority leader chuck schumer  senators dispensed with a handful of republican amendments and then approved     a temporary funding bill that not only averts a shutdown until dec    but also includes    billion in disaster aid for states ravaged by extreme weather and    billion to further assist afghan refugees  the house passed the senate version of the stopgap measure later thursday afternoon     just hours before the government technically runs out of money at the end of the day thursday  according to the white house  h r     the extending government funding and delivering emergency assistance act     provides fiscal year appropriations to federal agencies through december    the bill does not include any provision to raise the nation s debt ceiling  after republicans steadfastly rejected any attempt to include it  senate minority leader mitch mcconnell has continued to insist that his conference will not help raise the borrowing limit    or even expedite democrats  ability to do so alone    citing concerns about the majority party s intention to pass trillions in new spending for social and climate policy  this  despite a debt ceiling increase paying for past  bipartisan debt   what republicans laid out all along was a clean continuing resolution without the poison pill of a debt limit increase   mcconnell said   that s exactly what we ll pass today   he said democrats  accepted reality   putting forward a  clean  continuing resolution to fund the government  and that  the same thing will need to happen on the debt limit   schumer said republicans realized a shutdown would be  catastrophic  and  they should realize that a default on the national debt would be even worse   he said the gop have spent the week  solidifying themselves as the party of default   biden hinted at the discord in his statement on the continuing resolution thursday evening  writing that  the passage of this bill reminds us that bipartisan work is possible and it gives us time to pass longer term funding to keep our government running and delivering for the american people   treasury secretary janet yellen has warned of  calamity  for the economy and average americans unless the debt limit is raised before oct    senate appropriations committee chairman patrick leahy  d vt   noted the irony of republicans refusing to raise the borrowing limit but then voting to approve billions in new spending   if there s no money in the treasury to pay for these items    what s the point   leahy asked  mcconnell  for his part  condemned democrats for not including   billion in funding for israel s anti missile iron dome system  democrats in the house balked at funding  and the measure was stripped out in that chamber  but a majority of democrats in both chambers have said they intend to pass the funding for a key u s  ally at a later date  abc news  justin gomez contributed to this report \n",
      "it comes a day after president biden met with democrats at the white house  democratic house and senate leaders on thursday announced they and the white house have reached agreement on a  framework  that will pay for most  if not all  of the massive    trillion human infrastructure bill    a move meant to mitigate concerns from moderate and centrist democrats opposed to the hefty price tag  but the leaders provided very little details on the framework a day after president joe biden met with democratic leaders  moderates and progressives at the white house in an effort to save his agenda from democratic infighting house speaker nancy pelosi also did not provide a clear outline about when the reconciliation bill will be ready for a vote  she also did not commit to putting the bipartisan infrastructure bill on the floor for a vote next monday  which she had promised moderates would happen  pelosi was joined by senate majority leader chuck schumer and treasury secretary janet yellen at her weekly press conference  as democrats also face a looming possible government shutdown on oct  and still need to deal with the debt ceiling  which republicans will not support   the white house  the house and the senate have reached agreement on a framework that will pay for any final negotiated agreement  so  the revenue side of this  we have an agreement on   schumer told reporters   we know that we can cover the provisions the president has put forward   pelosi added   it s all good   this announcement is meant to provide some relief to those moderate  centrist democrats like sens  joe manchin and kyrsten sinema  who do not support that    trillion number  but pelosi and schumer provided very little on actual details  as of right now  leaders are no closer to having a reconciliation bill    which means the fate of the bipartisan infrastructure bill hangs in the balance   we came to terms as to a framework of an array of agreements that we have  depending on what the need is  now at the same time  we re finalizing on the outlay side  so if we need more  we need less    that will impact the choices we make there   pelosi said  pelosi also did not commit to putting the bipartisan infrastructure bill that has already passed in the senate on the floor next week   we take it one day at time   pelosi told reporters   i am confident that we will pass both bills   pelosi also did not make clear if    trillion will remain the topline  or if that figure could change and drop lower   this is not about price tag  this is about what is in the bill   pelosi said  following the press conference  reporters caught up with pelosi and pressed for more details on the framework  when reporters suggested they had too few details  pelosi responded   well that s your problem  not mine   following the press conference  many senators close to the negotiation table say they are in the dark about the new framework agreement  senate budget committee chairman bernie sanders said he has  no idea  what the agreement is  he told reporters he hopes to be briefed on it soon  if there is a framework    we ve been through this a million times  there are many many approaches as to how you can raise money in a fair and progressive way and raise at least   trillion dollars   sanders said   if that s what the menu is there is nothing then nothing particularly new i think   sen  mark warner  a moderate democrat on the budget committee who has been intimately involved in negotiations with the president on the reconciliation plan told reporters he has not the  foggiest idea  what is in the framework  warner told reporters he was  as interested in getting those details as you are   senate finance committee chair ron wyden  d ore   said he was in meetings over the framework  but declined to give many details about what was discussed or decided upon   it went right to the heart of what we need in terms of tax fairness in america and that s where we are this morning   wyden said while dodging questions about a topline or any agreed to  payfors   senators said they expected to receive more information from leadership thursday on what the framework is  democratic leaders also have to contend with a potential shutdown on oct    but pelosi insisted a shutdown would be avoided  pelosi told reporters republicans could cave on raising the debt ceiling because  public sentiment is everything   but she indicated that both chambers will do everything they can to keep the government open via a so called  continuing resolution  that maintains current funding levels  which may mean they will have to deal with the debt ceiling at a later time   we will keep the government open by september     and continue the conversation about the debt ceiling  whatever it is  we will have a cr that passes both houses by september    pelosi said \n",
      "congress must raise the debt limit by oct    the treasury said  as the nation barrels toward default  republicans are poised to sink a democratic effort to suspend the federal borrowing limit  republicans in the senate are filibustering a house passed measure that would suspend the debt limit until december   at least republicans would need to join all senate democrats to break a gop filibuster and allow a simple majority vote to pass the bill  democrats argue that this would give republicans exactly what they re asking for  an increase to the nations borrowing limit approved solely by democrats   tomorrow s vote is not a vote to raise the debt ceiling  it s  rather  a procedural step to let democrats raise the debt ceiling on our own   senate majority leader chuck schumer said tuesday   we re telling republicans that we re not asking you to vote for it  just let us vote for it   but republicans aren t backing down  they ve maintained for months that democrats must act to raise the federal debt limit on their own  because they have total control of washington and are planning to pass a multi trillion social and economic package with zero input from republicans   they said they re perfectly prepared to do the job themselves   senate gop leader mitch mcconnell insisted to reporters tuesday   the easiest way to do that is through the reconciliation process as i pointed out for two months   mcconnell  r ky   has said repeatedly that democrats should have to hike the debt limit to cover the cost of potentially trillions in yet passed parts of president joe biden s agenda  though the debt limit must be raised to cover spending that already took place under the trump administration with unified gop support  sen  lindsey graham  r s c   told abc news on tuesday he won t support moving forward on a vote   we are not going to empower a radical march toward socialism   graham  the top republican on the budget committee  said  sen  bernie sanders  the senate budget committee chairman  floated a potential solution that would involve temporarily suspending the chambers filibuster rules that require votes for most legislation   where it may come down to is a demand that at least for the debt ceiling that we end the filibuster     and pass it with votes   sanders suggested  but the  member democratic caucus would have to remain unified to do this  and both moderates sen  joe manchin of west virginia and arizona sen  kyrsten sinema have balked at any changes to the filibuster rules  no republican has yet gone on the record to say he or she is prepared to join democrats to clear the way for a final vote on the debt limit wednesday  though moderate sen  lisa murkowski  r alaska  opened the door to potentially joining the majority   i want to make sure we are doing everything that we can to not send us into a situation of default  and i don t even want to get close   murkowski said   we have to make sure  we just have to ensure   the nation technically hit the debt ceiling aug    with the treasury department using extraordinary measures to pay the nations bills  but treasury secretary janet yellen said that by oct    her departments efforts would be fully exhausted and default would be all but certain  pressure is mounting alongside partisan gridlock  with no backup plan emerging  mcconnell and his conference are insisting that democrats use a fast track budget tool called reconciliation that allows the majority to break a filibuster to pass certain legislation  use of this arcane process is cumbersome  could take weeks and opens up democrats to a series of potentially politically painful votes  but there could be an added political benefit for republicans in insisting that this process be used  it would put democrats on the record raising the debt ceiling by a hefty dollar amount  whereas wednesday s vote    simply suspending the debt limit by no specified amount    does not  that would feed into the gop narrative that democrats are out of control spenders   we re very interested in a specific dollar amount   sen  mike rounds  r s d   said tuesday   they re going to have to come before the american people and say   we re going to increase the debt ceiling by x amount  because this is the amount we intend to spend   and one way or another  it puts them on the record as to their spending proposals   some democrats say they d support using reconciliation if it meant a swift resolution of the debt limit issue  manchin said the process should be considered  and sen  richard blumenthal of connecticut told reporters that  everything should be on the table  when pressed on whether the fast track budget tool should be considered  but each passing day limits the time democrats would have to fast track a debt ceiling increase through the multi step process to final passage  and democrats tell abc news that no work has begun on the reconciliation process  even behind the scenes   no  not at the moment   sanders told abc news  some democrats were more emphatic   reconciliation was never on the table   massachusetts sen  elizabeth warren said   there s not enough time to make reconciliation work   but on tuesday  schumer did not expressly rule it out  when asked if he was ruling out using the budget process  schumer repeatedly referenced the wednesday vote as the preferred way to go about hiking the debt cap   reconciliation is a drawn out  convoluted process  we ve shown the best way to go  we re moving forward in that direction   schumer said  refusing to entertain a plan b  if the nation defaults  the results are sure to be catastrophic  the white house has warned that an unprecedented default could send shockwaves through the global economy and trigger a recession  the political implications for both parties are unclear \n",
      "washington    what will it cost to enact president joe bidens massive expansion of social programs  congress has authorized spending up to    trillion over a decade  but biden is prodding democrats to fully cover the cost of the legislation    by raising taxes on corporations and the wealthy  negotiating the price of prescription drugs and dialing up other sources of federal revenue such as increased irs funding  the idea is that entire package should pay for itself  defending a bill not yet fully drafted  democrats are determined to avoid a deficit financed spending spree  they are growing frustrated by the focus on the proposed    trillion spending total  arguing far too little attention is being paid to the work they are doing to balance the books  biden on friday said he would prefer the price tag described as  zero    we pay for everything we spend   biden said at the white house   its going to be zero  zero   but the revenue side of the equation is vexing  and its emerged as a core challenge for democratic bargainers as they labor to construct one of the largest legislative efforts in a generation  their success or failure could help determine whether the bulk of bidens agenda becomes law and can withstand the political attacks to come  republicans  lockstep in opposition  arent waiting for the details  theyve trained their focus on the    trillion spending ceiling set by democrats  pillorying that sum as fiscally reckless  misguided  big government at its worst   the radical left is pushing in all their chips    they want to use this terrible but temporary pandemic as a trojan horse for permanent socialism   senate republican leader mitch mcconnell of kentucky said thursday   trillions upon trillions more in government spending when families are already facing inflation   part of the problem for democratic leaders is the lack of a consensus about which programs to fund and for how long  house speaker nancy pelosi  d calif   and senate majority leader chuck schumer  d n y   acknowledge the price will likely come down and say they have a  menu  of revenue raisers to pay for it  but without certainty on what initiatives will be included  no final decisions can be made   this is not about price tag   pelosi said thursday   this is about whats in the bill   biden and administration officials stress the plan is as much about fairness as dollars and cents  by taxing the wealthy and corporations  they hope to fund paid family leave and child tax credits that help those reaching for the middle class  all while adopting environmental and economic policies that help the u s  compete with china  but the haggling over a final spending target is overshadowing the policy goals they are trying achieve  washington rep  pramila jayapal  a lead negotiator for house progressives  said friday that reporters should not depict the measure as costing trillions of dollars when the accompanying proposed tax increases would cover the cost   i just believe that this is going to be a zero dollar bill    thats the no  priority   she said  sharron parrott  president of the center on budget and policy priorities  a liberal think tank based in washington  warned democrats that emphasizing the    trillion figure could detract from what they are trying to achieve   the debate so far has been overly focused on a single number  the    trillion in gross new investments over the next ten years    including both spending increases and tax cuts    that may be included in the package   parrott wrote in an august blog post   true fiscal stewardship requires a focus on the net cost of the package and  even more fundamentally  a focus on the merits of the investment and offset proposals themselves   what biden is really pushing are two goals that can easily come into conflict  he wants to restore the middle class to the epicenter of economic growth  but do so without worsening the national debt or raising taxes on people earning less than    a year  further complicating things is that many of his spending policies are actually tax cuts for the poor and middle class  which means he is raising taxes for one group in order to cut them for another  democrats also have to contend with how the measures are assessed by the congressional budget office  the final arbiter of how the legislation will affect the federal balance sheet  the democrats expanded child credit and dependent care credits  enacted earlier this year  are counted as costs in a cbo score  biden wants to extend these programs as part of the budget  which he is now arguing amounts to one of the largest middle class tax cuts in u s  history   its reducing taxes  not increasing taxes   biden said friday  its not entirely clear whether bidens claim of  zero  cost is feasible under the  year outlook used by the cbo to assess the economic impacts of legislation  bidens own budget officials earlier this year estimated that his agenda would increase the national debt by nearly    trillion over the decade  biden on friday described the multi tiered talks with legislators as at a  stalemate   more meetings are expected in coming days  in the evenly split senate  key democratic senators such as west virginias joe manchin and arizonas kyrsten sinema have qualms about the total spending  democratic moderates are jockeying for advantage against their liberal counterparts  with time running short  biden is asking for more patience to get the numbers right so that the votes will follow   this is a process   he said   but its just gonna take some time  \n",
      "there s a disconnect between whats being said and done about the debt ceiling  the take with rick klein the disconnect between whats being said about handling the debt ceiling and whats likely to have to get done is as wide as ever    and its not for lack of honesty from congressional leaders about what they intend to do  on wednesday  barring a major surprise  senate republicans will block an effort by democrats to suspend the debt ceiling through next december  democrats will accuse them of hypocrisy and worse  with less than two weeks of borrowing left before the treasury department runs out of cash  theyll be right on the merits  up to and including the financial calamities that could come if the united states cant pay its bills  but that wont change the governing reality    even aside from the fact that talking points and even voting strategies on the subject have reliably flipped along with control of washington  focus has been trained on senate minority leader mitch mcconnell over his absolute refusal to go along with any efforts to authorize additional debt  mcconnell  though  is representing the overwhelming  if not unanimous  view inside his conference  republicans see this moment as an opportunity to do what they can to stifle the democrats agenda  and they are relying on the party in power to do the only responsible thing  that may break norms  but it leaves democrats with only one real option  using the budget  reconciliation  process to get around the gop entirely  in what represents a tough political vote for many members  it seems inevitable that democrats will get there  unless or until attempts to shame republicans into cooperation pay off or a few minds are changed among democrats who say they wont change filibuster rules  president joe biden on tuesday used a trip to michigan to remind those watching of the  clear majority  he won last november to make the case for the balance of his domestic agenda  that was a simple statement of fact  yet the fact that democrats enjoy majority status means something to both parties    and is still shaping the political rules  the rundown with averi harper the biden administration is taking a confrontational tone with a gop governor who has sought to undermine masking guidance in schools  the treasury department has put arizona gov  doug ducey on notice  calling for the state to stop funding a grant program for schools that deliberately excludes schools with mask mandates from eligibility   our covid  educational recovery benefit will empower parents to exercise their choice when it comes to their childs education and covid  mitigation strategies   ducey said of the grants in august  a letter to ducey from the treasury department describes the programs as an impermissible use of federal funds   we are concerned that two recently created arizona grant programs undermine evidence based efforts to stop the spread of covid    deputy treasury secretary wally adeyemo wrote  it s an example of the administration making good on president joe bidens previous promise to push back on gop governors who aim to evade covid  health guidance  if arizona doesnt address the issue in days  the state could see federal funding revoked  the tip with quinn scanlan in a development unlikely to be on anyone s campaign bingo card  virginia gubernatorial candidate terry mcauliffe is now microtargeting taylor swift s loyal fan base of  swifties  in a five figure digital ad buy against his republican opponent  glenn youngkin  why  youngkin was co ceo of the carlyle group during taylor swift s public showdown with top music executive scooter braun in over him gaining the rights to the master recordings for her first six albums  the private equity firm had backed braun s deal that led to the acquisition  swift called on carlyle to help at the time  and according to reporting from the new york times  the firm brought the parties toward a resolution  mcauliffe has his own affiliation with carlyle but was only a  passive investor  in   and those investments didn t pertain to this deal  his spokesperson renzo oliveri said  the ads  which are part of a larger online get out the vote effort  will reach a  universe of persuadable voters who like taylor swift content and engage with her content   youngkin campaign spokesperson christian martinez called it  pathetic   the gop nominee s campaign has been targeting what s likely a much bigger base of voters in the commonwealth    parents    after mcauliffe said in last week s debate he doesn t  think parents should be telling schools what they should teach   the youngkin campaign is running a tv ad  with a six figure backing  highlighting that line statewide and has launched a mobilization effort to contrast him with mcauliffe on this issue  the playlist abc news   start here  podcast  wednesday mornings episode begins with abc news senior national correspondent terry moran recounting the blockbuster testimony of a facebook whistleblower and the social media platform s impact on children  then  as vaccine mandates spread  abc news chief investigative reporter josh margolin says there are concerns among public officials that the health care sector could be targeted  and  abc news white house correspondent karen travers details the crisis in the child care industry  which is facing a massive worker shortage  http   apple co hpocul what you need to know today president joe biden and vice president harris receive the presidents daily brief at a m  later  biden hosts a meeting with business leaders and ceos on the need to address the debt limit at p m  the senate will convene at a m  the senate committee on commerce  science and transportation  will convene for a full committee hearing titled  enhancing data security  at a m  white house press secretary jen psaki gives a briefing at   p m  the senate judiciary committee will hold a hearing examining the john r  lewis voting rights advancement act at p m  the senate will hold a debt limit vote at   p m  the white house covid  response team and federal public health officials will hold a press briefing at p m  download the abc news app and select  the note  as an item of interest to receive the day s sharpest political analysis  the note is a daily abc news feature that highlights the day s top stories in politics  please check back tomorrow for the latest \n",
      "house democrats scrapped plans on thursday to vote on the senates bipartisan infrastructure agreement after leadership and the white house failed to bring progressives and moderates together behind a path forward for president joe bidens broader agenda   the president is grateful to speaker pelosi and leader schumer for their extraordinary leadership  and to members from across the democratic caucus who have worked so hard the past few days to try to reach an agreement on how to proceed on the infrastructure bill and the build back better plan   white house press secretary jen psaki said in a statement thursday night   a great deal of progress has been made this week  and we are closer to an agreement than ever  but we are not there yet  and so  we will need some additional time to finish the work  starting tomorrow morning first thing    while democrats do have some differences  we share common goals of creating good union jobs  building a clean energy future  cutting taxes for working families and small businesses  helping to give those families breathing room on basic expenses  and doing it without adding to the deficit  by making those at the top pay their fair share   psaki added  house speaker nancy pelosi  d calif   left the capitol just after midnight  and told rachel scott that progressives and moderates are closer to reaching an agreement on the size of their social policy package than it appeared earlier in the week   we re not trillions of dollars apart   pelosi said  asked about the vote on the senate approved infrastructure bill that didn t take place thursday  pelosi said   there will be a vote today   in what appeared to be a reference to the legislative calendar  the decision to delay the vote came after pelosi insisted thursday morning that she planned to go ahead with a vote on the bipartisan infrastructure bill    despite progressive democrats vowing to defeat it   we re on a path to win  i don t want to even consider any options other than that   pelosi told reporters at her weekly news conference   we go in it to win it   earlier  as she arrived on capitol hill  pressed by a reporter that the bill is facing  insurmountable opposition at the moment   pelosi responded that it s  our plan  to bring the bill to vote thursday  her self imposed deadline   hour by hour   she responded   you re moment by moment  i m hour by hour    you cannot tire  you cannot concede  this is the fun part   pelosi said later at her news conference   our best interest is served by passing this bill today   yet her comments suggested the house was in a holding pattern  with no firm decision on whether to hold or cancel the vote   we are proceeding in a very positive direction   pelosi said brightly  even though the bill has not been scheduled for the house floor and her top lieutenants have said publicly that it lacks the votes to pass  meanwhile  the white house wasn t ruling out biden heading to capitol hill thursday to make a last minute push to house democrats just before the big vote  while lawmakers were expected to agree separately on a government funding resolution with hours to spare thursday  the outcome of the house vote on the    trillion bipartisan infrastructure bill    central to biden s agenda    was still in serious doubt  pelosi spent the afternoon meeting with various factions of her caucus  even as progressives left the meeting vowing to withhold support for the infrastructure bill absent progress on democrats  larger agenda  two groups of moderates left meetings with pelosi predicting a vote later thursday evening  progressive democrats have all but guaranteed that they will defeat the bipartisan bill on the floor    to the embarrassment of pelosi who vowed to pass the bill this week    absent any breakthroughs on the larger policy spending package  those breakthroughs seem unlikely as negotiations between the white house and democratic sens  kyrsten sinema and joe manchin  who oppose the package s    trillion price tag  have fallen flat  roughly half of the nearly  member progressive caucus    at least members  urged on by sen  bernie sanders    have vowed to vote no on the bipartisan bill  effectively holding it hostage until a larger infrastructure bill passes via the reconciliation process  while progressives bashed manchin and sinema over their objections to the larger package  pelosi praised manchin at her news conference  calling the west virginia democrat  a good member of congress  and said negotiations are focused on  substance  rather than  rhetoric  or  dollars   at midday  manchin told reporters his topline number for the larger bill    that he s conveyed to biden    is    trillion  something bound to harden progressive opposition and put the house vote in even more jeopardy  attempting to also sway progressives  pelosi said thursday members should  remove all doubt  that there will not be a reconciliation bill following a bipartisan vote on thursday   we will have a reconciliation bill  that is for sure  today the question is about  we are proceeding in a very positive way to bring up the bill  to bring up the  bif   the bipartisan infrastructure framework   and to do so in a way that can win  and so far so good for today  it s going in a positive direction   she said  pelosi  who met with her leadership team ahead of news conference  hinted that getting a larger human infrastructure and climate policy bill is vital to her and her legacy   i just told members of my leadership that the reconciliation bill was a culmination of my service in congress  cause it was about the children   she said  but progressives appear to be holding firm in opposition  congressional progressive caucus chair pramila jayapal  d wash   reiterated on thursday that progressives are in the  same place  and will not vote to pass the bipartisan infrastructure bill unless there is agreement with the moderate democratic senators on a larger social spending package   we will not be able to vote for the infrastructure bill until the reconciliation bill has passed   jayapal told reporters after a meeting with pelosi   it s not about trusting the speaker  it s not about trusting the president  it s really about the vote as an ironclad assurance from the senate   she added  referring to manchin and sinema  at her midafternoon white house briefing  press secretary jen psaki told reporters   we re working towards winning a vote tonight  we have several hours left in the day   she added   we know that compromise is inevitable  we ve also seen that play out over the last couple of days  and right now  we re clearly in the thick of it  pelosi told abc news  george stephanopoulos on  this week  that she s  never bringing a bill to the floor that doesn t have the votes     raising questions of whether she ll stop the vote in the th hour  asked on sunday by stephanopoulos if she was confident that progressive members would vote yes  pelosi answered   well  let me just say we re going to pass the bill this week   biden stepped out of the white house wednesday night  rubbing elbows at the congressional game with his former colleagues  appearing to be in good spirits  amid the tense legislative negotiations  while pelosi appeared to do some last minute lobbying on her cell phone  in a show of the stakes of the infrastructure bill passing this week    as opposed to later  the    trillion bill progressives insist the house passes before or at the same time as the    trillion package includes significant new investments in health care  child care  higher education  workforce training  and paid family and medical leave which would include weeks paid family and medical leave for most working americans \n",
      "california has voted not to recall gov  gavin newsom  according to a projection from abc news based on exit polls and an analysis of votes  with   of the expected vote reported so far    of electors in tuesday s special election are against recalling the democratic governor   i m humbled and grateful to the millions and millions of californians that exercise their fundamental right to vote  and express themselves so overwhelmingly by rejecting the division by rejecting the cynicism   newsom said late tuesday night in his victory speech   by rejecting  so much of the negativity that s defined our politics in this country over the course of so many years   californians were faced with a two part question    if they would like to recall newsom and who they would like to replace him with if he was recalled  newsom needed more than   of voters to vote against recalling him to keep his job as the top executive of the most populous state  forty six candidates were competing to replace him  and while the question is moot  nationally syndicated conservative radio host larry elder    the frontrunner going into the election    leads that pack with   of the vote currently  in post election remarks  elder conceded the recall was unsuccessful   let s be gracious in defeat   elder said  after he was met with boos when he referenced newsom by name   we may have lost the battle  but we are going to win the war   this is the fourth time in the nation s history that voters have had an election to recall their governor  and only one governor has been recalled in the last century  in   democratic california gov  gray davis  facing extremely low approval ratings  was recalled and replaced with former gov  arnold schwarzenegger  this time  republicans have a crowded primary field and  before nationally syndicated conservative radio host larry elder s entrance into the race  the field was without a clear leader  former san diego mayor kevin faulconer was once thought to be the front runner and is seen as the moderate in the race  businessman john cox  who was the gop s gubernatorial nominee in   campaigned across the state with a live bear and an  foot ball of trash  reality star and olympic gold medalist caitlyn jenner entered the recall field  although she spent some time out of the country in australia  reportedly filming a celebrity edition of a reality show  going into the election  numbers appeared to be in the incumbent s favor  but newsom still recruited some of the biggest democratic heavy hitters to stump for him  including vice president kamala harris and sens  elizabeth warren and bernie sanders  president joe biden hit the trail with newsom to close out his campaign in long beach  california  on monday night   this is not hyperbole  the eyes of the nation are on california because the decision you re about to make isn t just going to have a huge impact on california  it s going to reverberate around the nation  and quite frankly not a joke around the world   biden said monday  according to preliminary exit polls    of voters participating in this election approved of how newsom is handling his job as governor  in   exit polls showed davis  approval rating at      a stark difference from how the voters perceive the current governor  historically  gubernatorial recalls produce similar vote margins for the governor holding office as they had in their last election  according to recall expert and senior fellow at wagner college  joshua spivak  gray davis got   of the vote in   and   in when he was recalled  in wisconsin in   scott walker was elected with    of the vote  and defeated his recall with     in   newsom won the state with    of the vote to gop nominee john cox s     in   biden carried with a similar margin     of the vote to trump s     democratic voter registration in the golden state largely outpaces that of both republicans and independents  putting newsom at an advantage  so far  democrats are leading both groups combined when it comes to returning their ballots  democrats have returned nearly   million compared to the   million republican and independent ballots that have been returned  according monday data from political data inc  democrats have attempted to nationalize the race to increase enthusiasm  warning of lawmaking similar to that of republican led states  harris  a native of the bay area  rallied with newsom on thursday and warned of the national consequences the recall could have if it was successful  referencing the recent change in abortion laws in texas  among other things   what s happening in texas  what s happening in georgia  what s happening around our country with these policies that are about attacking women s rights  reproductive rights  voting rights  workers rights  they think if they can win in california they can do this anywhere  but we re gonna show them they can t   harris said  in preliminary exit polls  a plurality     of voters said the pandemic was the most important issue facing the golden state  and newsom spent the campaign warning voters about potential policy changes surrounding the coronavirus if the recall passed  his team released an ad painting the election as  life or death   and the governor singled out elder s promises that he would immediately end mask mandates and testing for state employees  preliminary exit polls also showed support for newsom s coronavirus policies  only about in voters feel that mitigation measures put in place by the governor are too strict  and in support the state requiring students wear masks in schools additionally  the vast majority of voters feel the pandemic is either getting better     or staying the same      rather than getting worse      ahead of the election  republicans  including former president donald trump  were already baselessly raising the alarm about the potential for voter fraud  based on conspiracies about the election  trump claimed that the election was  totally rigged   even though the state has been reliably democratic for decades  voting against republican presidential candidates in every election since   elder warned of  shenanigans  last week    though he told abc news saturday   so many people are going to vote to have it recalled  i m not worried about fraud   elder previously said he believed biden won the election  fairly and squarely   but he was encouraging his supporters to call a hotline to report issues of voter fraud for litigation purposes in the recall  saying he fears there will be integrity issues similar to those of the election    despite there being no widespread evidence of voter fraud in november  even before results were released  elder had a link on his website    which has seemingly since been removed    asking visitors to sign a petition  demanding a special session of the california legislature to investigate and ameliorate the twisted results of this recall election of governor gavin newsom  \n",
      "congressional democrats are calling top executives at exxonmobil and other oil giants to testify about what lawmakers say is a long running  industry wide campaign to spread disinformation about the role of fossil fuels in causing global warming washington    congressional democrats are calling top executives at exxonmobil and other oil giants to testify at a house hearing as lawmakers investigate what they say is a long running  industry wide campaign to spread disinformation about the role of fossil fuels in causing global warming  the house oversight committee on thursday requested that executives at exxonmobil  bp  chevron and shell testify at a hearing next month  along with leaders of the american petroleum institute  the oil industry s top lobbying group  and the u s  chamber of commerce   we are deeply concerned that the fossil fuel industry has reaped massive profits for decades while contributing to climate change that is devastating american communities  costing taxpayers billions of dollars and ravaging the natural world   oversight chairwoman carolyn maloney  d n y   and rep  ro khanna  d calif   wrote in a letter to oil executives   we are also concerned that to protect those profits  the industry has reportedly led a coordinated effort to spread disinformation to mislead the public and prevent crucial action to address climate change   they wrote  khanna  chairman of oversight s environment subcommittee  has been pressing the oil industry for months for documents and other information on its role in stopping climate action  khanna has been focusing on exxon after a senior lobbyist for the company was caught in a secret video bragging that exxon had fought climate science through  shadow groups  and had targeted influential senators in an effort to weaken president joe bidens climate agenda  including a bipartisan infrastructure bill and a massive    trillion spending bill currently moving through congress  washington based lobbyist keith mccoy also dismissed exxons public expressions of support for a proposed carbon tax on fossil fuel emissions as a  talking point   mccoy s comments were made public in june by the environmental group greenpeace uk  which secretly recorded mccoy and another lobbyist in zoom interviews  darren woods  exxons chairman and chief executive  condemned mccoy s statements and said the company stands by its commitment to work on finding solutions to climate change  woods is among the executives the house panel hopes to question at an oct  hearing  along with bp america ceo david lawler  chevron ceo michael wirth and shell president gretchen watkins  the committee also has said it will formally question mccoy about his comments  although timing of that interview has not been set  maloney and khanna said in a statement that exxonmobil and other oil companies  have worked to prevent serious action on global warming by generating doubt about the documented dangers of fossil fuels and misrepresenting the scale of their efforts to develop alternative energy technologies    they compared the tactics to those deployed by the tobacco industry to resist regulation  while selling products that kill hundreds of thousands of americans    the oil industry s  strategies of obfuscation and distraction span decades and still continue today    khanna and maloney said  the five largest publicly traded oil and gas companies reportedly spent at least   billion from to  to promote climate disinformation through  branding and lobbying     the lawmakers wrote  the committee gave oil executives until sept  to respond and said additional steps  including issuing subpoenas  are possible  a spokesman for exxon said the company had received the letter and would respond to the committee  he declined further comment  bethany aronhalt  a spokeswoman for api  said the group  welcomes the opportunity to testify again before the house oversight committee and advance our priorities of pricing carbon  regulating methane and reliably producing american energy   api president mike sommers was among those invited to testify next month  exxon and other oil companies frequently boast about efforts they say they are making to produce clean energy in social media posts accompanied by sleek videos or pictures of wind turbines   we power progress together by providing more and cleaner energy solutions for the world   says shells facebook profile  which is followed by more than million people         associated press writer amanda seitz in columbus  ohio contributed to this story \n",
      "former white house press secretary sarah sanders might be running for governor of arkansas  but she s not talking much about the state cabot  ark     she s toured the state in an rv emblazoned with her name  launched a tv ad that s airing during arkansas razorbacks football games and spoken to packed rooms at restaurants  former white house press secretary sarah sanders  introduction as a candidate for governor hasn t strayed from most campaigns here  except for the crowds  which are far beyond what people have seen in this mostly rural place  and the campaign talk  which often isn t about the state   as i travel around the state  i keep hearing this criticism   oh  there s that sarah sanders  nationalizing the race    sanders told hundreds of people packed at a colton s steak house in cabot  a half hour drive from the state capital of little rock   and my answer to those people is   you bet i am  because if you re not paying attention to what is happening in this country  you re missing what is going on   sanders  celebrity as former president donald trump s spokesperson granted her immediate front runner status in one of the nation s most trump friendly states  it s also transforming politics in a place where voters in state races are used to hearing overwhelmingly about arkansas taxes  arkansas roads and arkansas schools  this is hardly the only state where local politics isn t local anymore  republican candidates for governor elsewhere also are focused more on president joe biden than their own opponents and on federal  rather than state  issues  and many democrats would rather talk about trump than about their rivals   her approach suggests she understands the contemporary electorate in arkansas and everywhere   said janine parry  a political science professor at the university of arkansas  politics  parry said   is in a period of profound nationalization   it s a sharp contrast with past races for governor in arkansas  where republican gov  asa hutchinson campaigned on requiring computer science education in schools  his predecessor  democratic gov  mike beebe  ran on phasing out the sales tax on groceries  sanders    announced her bid in january with a promise to fight the  radical left   something that s awfully hard to find in solidly red arkansas  on twitter and elsewhere  she rails against biden on his coronavirus pandemic response  immigration and the withdrawal from afghanistan   sarah sanders is not running for governor of arkansas  she is running on a national stage   said michael john gray  a former chair of the state democratic party  who s now heading an independent committee focused primarily on defeating sanders  bid  sanders  approach reflects just how polarized the country has become in recent years  invoking unpopular national democratic figures is seen as the best voter motivating tactic  even in local races  in iowa  republican gov  kim reynolds  who is expected to run for reelection  is criticizing biden on numerous issues including federal spending  in oklahoma  republican gov  kevin stitt  who faces reelection next year  has had little to say about his states battle with covid     which hit the grim milestone of   deaths this week    but issued a slick video on biden s afghanistan performance  some democrats are also leaning national  california gov  gavin newsom defeated a recall attempt earlier this month with a campaign that railed against  trumpism   new jersey gov  phil murphy is campaigning on abortion rights and gun control  and at a recent rally  he criticized states like florida and texas for their right wing policies  when sanders does talk about arkansas  she does so only in broad strokes  she says she s tired of the state being at the bottom of many rankings  she said she wants to eliminate the state s income tax  though she offers no hints on how  she also mentions doing something on education and workforce training  which she said hasn t changed substantially since her father  mike huckabee  was governor from to    we have to stop just trying to push kids through the system and actually focus on how are we preparing them to go into the workforce   she told the associated press  though best known for her white house briefings  during which she sparred with reporters and faced questions about her truthfulness  sanders is no stranger to the state s politics  she appeared in tv ads for her dad s campaigns in the s and early s and chaired arkansas sen  john boozman s campaign  she s mostly steered clear of referring to the current governor  hutchinson  whom trump has branded as a rino  or republican in name only  after he vetoed an anti transgender bill  hutchinson is barred by the state s term limits from running for governor again  her first tv ad features footage of her dad and former president bill clinton as they marked the th anniversary of little rock central high school s desegregation  it quickly pivots to a favorite target  claiming that the  radical left wants to teach our kids america is a racist and evil country   sanders embarked on a statewide tour this month that included a rally with country singer john rich that drew   people and a parade on lake ouachita that her campaign said included more than   boats  at her stop in cabot    a city of about      sanders got the loudest applause when she talked about trump   i m proud of the fact i worked with a president who did exactly what he said he was going to do   she said  sanders  only rival in the republican primary  attorney general leslie rutledge  has lagged far behind in fundraising  sanders in july reported raising   million since she announced her candidacy  with the majority of the money coming from out of state  rutledge says there s little accomplishment behind sanders  rhetoric   while my opponent talks about the liberal left in washington  d c   she has done nothing to effectively combat them in the last several years   rutledge told the ap  democrats  who face an uphill climb  are trying to highlight sanders  white house stint as a sign she can t bring people together  but in arkansas  where trump won with more than   of the vote  her hyperpartisan past is an asset to many  in cabot  some in the mostly unmasked audience donned red trump hats and shirts depicting the former president   everything she stands for is just maintaining the american way  the conservative way of life  keeping our rights alive   said kristen harrington  who works at a honey company in cabot and who wore a shirt that read  mean tweets    harold glenn earnest  a  year old veteran from tiny romance  about miles north of cabot  whom sanders talked with at the eatery  said he s already thinking beyond the governor s mansion for sanders   she ll be the governor  there s no question about that   earnest said   i want to see her run for president        associated press writers kathleen ronayne  david pitt  marc levy  michael catalini and sean murphy contributed to this report \n",
      "former u s  rep  todd akin  a conservative missouri republican whose comment that women s bodies have a way of avoiding pregnancies in cases of  legitimate rape  sunk his bid for the u s  senate and became a cautionary tale for other gop candidates  has died  he was   akin had cancer for several years  his son perry said in a statement  he died late sunday at his home in wildwood  a st  louis suburb   as my fathers death approached  we had people from all different walks of life share story after story of the personal impact he had on them   perry akin said in a statement to the associated press   he was a devout christian  a great father  and a friend to many  we cherish many fond memories from him driving the tractor at our annual hayride  to his riveting delivery of the freedom story at th of july parties dressed in the full uniform of a colonial minuteman  the family is thankful for his legacy  a man with a servants heart who stood for truth   akin represented a republican leaning eastern missouri district that included st  louis area suburbs for years  giving up a safe seat to run for the u s  senate in   he emerged from a crowded gop primary to challenge then incumbent democratic u s  sen  claire mccaskill  only to seriously hurt republicans  chances of recapturing a senate majority less than two weeks later  akin  a strong abortion opponent  was asked during an interview by a st  louis television station whether he supported allowing abortions for women who have been raped  he answered that  from what i understand from doctors  that such pregnancies are  really rare   he added   if its a legitimate rape  the female body has ways to try to shut that whole thing down   his comments sparked an outcry  the republican presidential candidate  mitt romney  immediately rebuked akin and said his campaign would allow abortions in such cases  criticism of akin s remarks clouded his u s  senate bid until the end  making him a symbol of how republicans could fumble away races they had a good chance of winning with a candidate deemed too far to the right  akin s campaign initially said he  misspoke   and akin later said he was wrong  akin faced pressure from the national gop to withdraw and allow the state party to pick a replacement  he refused and ended up losing the race by nearly percentage points  receiving   of the vote  yet other republican officials and officeholders across the u s  occasionally echoed his remarks    signaling how conservative some of the party s base had become on the issue  two years later  akin published a book   firing back   in which he accused gop leaders of abandoning him and letting mccaskill win and labeling news organizations as bullies  in the book  he also retracted his public apology for his  legitimate rape  remark  akin never ran for office again  though early in   he briefly fueled speculation about a primary challenge to gop u s  sen  roy blunt with remarks that tea party republicans wanted  new blood   akin was born july     in new york city  but grew up in the st  louis area  he received a bachelor s degree in engineering and management from worcester polytechnic institute in massachusetts in   served in the u s  army and worked for ibm  he worked in corporate management at the st  louis based laclede steel co  he won a seat in the missouri house in and served in the legislature for years  he won missouri s nd congressional district seat in and was reelected five times  he also served on the board of the anti abortion group missouri right to life  republican u s  rep  ann wagner  who has represented missouri s nd district since winning election in   said in a statement that akin  was a man of great faith and an unwavering conservative  he was deeply devoted to god  his country  and family   another republican congressman from eastern missouri  blaine luetkemeyer  called akin  a dedicated husband  father  grandfather and public servant  serving the show me state for decades at both the state and federal level   in the u s  senate primary  akin faced two formidable opponents  former state treasurer sarah steelman and businessman john brunner  many democrats thought mccaskill s best shot at winning reelection would be with akin as the gop nominee  her campaign aired television ads suggesting akin was too conservative  brunner was not a reliable conservative and steelman represented  more politics as usual   republicans took the ads as mccaskill s attempt to help akin win the gop primary  an autobiography that mccaskill published in said she also tried to boost akin s campaign by urging it through back channels to resume airing a television ad featuring an endorsement from former conservative gop presidential candidate and ex arkansas gov  mike huckabee  mccaskill s moves paid off  akin prevailed in the eight person gop field with only   of the vote  funeral information has not been announced  survivors include akin s wife  lulli boe akin  his mother  nancy bigelow akin  four sons  two daughters and grandchildren         hanna reported from topeka  kansas  salter reported from o fallon  missouri \n"
     ]
    }
   ],
   "source": [
    "for d in most_representative_docs[:10]:\n",
    "    print(docs[d])"
   ]
  },
  {
   "cell_type": "code",
   "execution_count": 25,
   "metadata": {},
   "outputs": [],
   "source": [
    "cluster_21_tsne = list(set([item for sublist in cluster_21 for item in sublist]))"
   ]
  },
  {
   "cell_type": "code",
   "execution_count": 52,
   "metadata": {},
   "outputs": [
    {
     "data": {
      "text/plain": [
       "['minute',\n",
       " 'trump',\n",
       " 'davis',\n",
       " 'tweet',\n",
       " 'watkins',\n",
       " 'exxon',\n",
       " 'st',\n",
       " 'week',\n",
       " 'advance',\n",
       " 'monday',\n",
       " 'josh',\n",
       " 'zero',\n",
       " 'boe',\n",
       " 'million',\n",
       " 'budget',\n",
       " 'decade',\n",
       " 'psaki',\n",
       " 'rutledge',\n",
       " 'blunt',\n",
       " 'republicans',\n",
       " 'joe',\n",
       " 'janine',\n",
       " 'luetkemeyer',\n",
       " 'harris',\n",
       " 'months',\n",
       " 'kansas',\n",
       " 'sanders',\n",
       " 'lawler',\n",
       " 'sarah',\n",
       " 'khanna',\n",
       " 'political',\n",
       " 'oklahoma',\n",
       " 'bill',\n",
       " 'energy',\n",
       " 'taylor',\n",
       " 'phil',\n",
       " 'roughly',\n",
       " 'mcauliffe',\n",
       " 'earlier',\n",
       " 'gov',\n",
       " 'four',\n",
       " 'mike',\n",
       " 'huckabee',\n",
       " 'five',\n",
       " 'columbus',\n",
       " 'calif',\n",
       " 'michigan',\n",
       " 'chuck',\n",
       " 'terry',\n",
       " 'marc',\n",
       " 'akin',\n",
       " 'trillion',\n",
       " 'years',\n",
       " 'sunday',\n",
       " 'december',\n",
       " 'murphy',\n",
       " 'boozman',\n",
       " 'york',\n",
       " 'jen',\n",
       " 'martinez',\n",
       " 'republican',\n",
       " 'commonwealth',\n",
       " 'remark',\n",
       " 'echo',\n",
       " 'tomorrow',\n",
       " 'israel',\n",
       " 'polytechnic',\n",
       " 'billion',\n",
       " 'bernie',\n",
       " 'moran',\n",
       " 'television',\n",
       " 'today',\n",
       " 'kristen',\n",
       " 'diego',\n",
       " 'face',\n",
       " 'area',\n",
       " 'hundreds',\n",
       " 'one',\n",
       " 'thursday',\n",
       " 'month',\n",
       " 'virginia',\n",
       " 'gomez',\n",
       " 'california',\n",
       " 'tour',\n",
       " 'afternoon',\n",
       " 'levy',\n",
       " 'strong',\n",
       " 'key',\n",
       " 'several',\n",
       " 'warren',\n",
       " 'californians',\n",
       " 'century',\n",
       " 'moment',\n",
       " 'kim',\n",
       " 'brunner',\n",
       " 'less',\n",
       " 'cox',\n",
       " 'democratic',\n",
       " 'roy',\n",
       " 'florida',\n",
       " 'ore',\n",
       " 'must',\n",
       " 'appropriations',\n",
       " 'ten',\n",
       " 'wagner',\n",
       " 'native',\n",
       " 'bay',\n",
       " 'call',\n",
       " 'dollar',\n",
       " 'leslie',\n",
       " 'july',\n",
       " 'bp',\n",
       " 'recent',\n",
       " 'wyden',\n",
       " 'day',\n",
       " 'party',\n",
       " 'annual',\n",
       " 'billions',\n",
       " 'arkansas',\n",
       " 'first',\n",
       " 'amanda',\n",
       " 'faulconer',\n",
       " 'november',\n",
       " 'afghan',\n",
       " 'august',\n",
       " 'september',\n",
       " 'david',\n",
       " 'signal',\n",
       " 'fiscal',\n",
       " 'later',\n",
       " 'michael',\n",
       " 'committee',\n",
       " 'irs',\n",
       " 'priorities',\n",
       " 'ky',\n",
       " 'dodge',\n",
       " 'america',\n",
       " 'donald',\n",
       " 'congress',\n",
       " 'democrat',\n",
       " 'blaine',\n",
       " 'vt',\n",
       " 'washington',\n",
       " 'arizona',\n",
       " 'last',\n",
       " 'mark',\n",
       " 'two',\n",
       " 'massachusetts',\n",
       " 'connecticut',\n",
       " 'gretchen',\n",
       " 'days',\n",
       " 'hold',\n",
       " 'petroleum',\n",
       " 'rich',\n",
       " 'louis',\n",
       " 'uk',\n",
       " 'ibm',\n",
       " 'mornings',\n",
       " 'reynolds',\n",
       " 'glenn',\n",
       " 'spivak',\n",
       " 'dollars',\n",
       " 'decades',\n",
       " 'past',\n",
       " 'kentucky',\n",
       " 'hours',\n",
       " 'next',\n",
       " 'exxonmobil',\n",
       " 'city',\n",
       " 'district',\n",
       " 'wednesday',\n",
       " 'compare',\n",
       " 'saturday',\n",
       " 'mitch',\n",
       " 'fourth',\n",
       " 'trillions',\n",
       " 'capitol',\n",
       " 'afghanistan',\n",
       " 'ron',\n",
       " 'kevin',\n",
       " 'rachel',\n",
       " 'respond',\n",
       " 'sen',\n",
       " 'weekly',\n",
       " 'klein',\n",
       " 'iowa',\n",
       " 'eight',\n",
       " 'abc',\n",
       " 'youngkin',\n",
       " 'schumer',\n",
       " 'patrick',\n",
       " 'china',\n",
       " 'press',\n",
       " 'couple',\n",
       " 'bidens',\n",
       " 'white',\n",
       " 'house',\n",
       " 'department',\n",
       " 'half',\n",
       " 'late',\n",
       " 'year',\n",
       " 'ohio',\n",
       " 'alaska',\n",
       " 'margolin',\n",
       " 'weeks',\n",
       " 'tuesday',\n",
       " 'oversight',\n",
       " 'lisa',\n",
       " 'trojan',\n",
       " 'morning',\n",
       " 'maloney',\n",
       " 'clinton',\n",
       " 'harold',\n",
       " 'hill',\n",
       " 'kamala',\n",
       " 'institute',\n",
       " 'friday',\n",
       " 'joshua',\n",
       " 'beebe',\n",
       " 'daily',\n",
       " 'wisconsin',\n",
       " 'murkowski',\n",
       " 'tea',\n",
       " 'larry',\n",
       " 'shell',\n",
       " 'yellen',\n",
       " 'night',\n",
       " 'gop',\n",
       " 'san',\n",
       " 'democrats',\n",
       " 'leave',\n",
       " 'john',\n",
       " 'carolyn',\n",
       " 'scott',\n",
       " 'june',\n",
       " 'parry',\n",
       " 'harrington',\n",
       " 'todd',\n",
       " 'american',\n",
       " 'thousands',\n",
       " 'rick',\n",
       " 'gray',\n",
       " 'oct',\n",
       " 'eastern',\n",
       " 'missouri',\n",
       " 'midday',\n",
       " 'mccoy',\n",
       " 'nearly',\n",
       " 'oliveri',\n",
       " 'warner',\n",
       " 'catalini',\n",
       " 'texas',\n",
       " 'tonight',\n",
       " 'judiciary',\n",
       " 'treasury',\n",
       " 'americans',\n",
       " 'senate',\n",
       " 'conservative',\n",
       " 'keith',\n",
       " 'west',\n",
       " 'janet',\n",
       " 'millions',\n",
       " 'justin',\n",
       " 'pitt',\n",
       " 'christian',\n",
       " 'biden',\n",
       " 'elizabeth',\n",
       " 'january',\n",
       " 'mcconnell',\n",
       " 'wirth',\n",
       " 'hour',\n",
       " 'six',\n",
       " 'forty']"
      ]
     },
     "execution_count": 52,
     "metadata": {},
     "output_type": "execute_result"
    }
   ],
   "source": [
    "cluster_21_tsne"
   ]
  },
  {
   "cell_type": "code",
   "execution_count": 66,
   "metadata": {},
   "outputs": [],
   "source": [
    "cluster_23=[]\n",
    "test_cluster = 23\n",
    "most_representative_docs = np.argsort(\n",
    "    np.linalg.norm(vectorized_docs - clustering.cluster_centers_[test_cluster], axis=1)\n",
    ")\n",
    "for d in most_representative_docs[:10]:\n",
    "    cluster_23.append(numbered_ners[d])"
   ]
  },
  {
   "cell_type": "code",
   "execution_count": 67,
   "metadata": {},
   "outputs": [
    {
     "name": "stdout",
     "output_type": "stream",
     "text": [
      "to celebrate the recent premieres of two new series on disney junior    spidey and his amazing friends  and  mickey mouse funhouse   guests at disney springs are able to team up with mickey and spidey and strike a pose in front of these colorful photo walls now through september   if your weekend plans include other magical destinations  ill tell you one more way to make funhouse photo magic for a limited time  both new series feature beloved iconic characters starring in brand new stories for kids and families to enjoy  the whimsical animated series  mickey mouse funhouse  introduces preschoolers first pal  mickey mouse  and his friends   minnie  goofy  donald  daisy and pluto   to funny  an enchanted talking playhouse  who takes the sensational six on adventures of all types to unique worlds that inspire the imagination   spidey and his amazing friends  follows peter parker  gwen stacy and miles morales and their adventures as the young heroes team up with hulk  ms  marvel and black panther to defeat foes like rhino  doc ock and green goblin and learn that teamwork is the best way to save the day  while the disney junior displays located near the orange garage and amc dine in theaters at disney springs are leaving after september   mickeys funhouse friends will be waiting for you all month long on this colorful photo wall located outside of disneys days of christmas  be sure to scan the qr code for a special surprise when youre there  watch mickey mouse funhouse and spidey and his amazing friends on disney channel  disney junior and anytime in disneynow \n",
      "walt disney once famously said  you can dream  create  design and build the most wonderful place in the world   but it takes people to make the dream a reality   as we prepare to celebrate magical years of walt disney world resort  were also celebrating the role our cast members have played in carrying on the legacy of walt disney world for five decades and counting  from the original cast members and imagineers who opened walt disney world resort years ago to the cast members just beginning their disney careers today to everyone in between  every cast member has made lasting memories for guests and fellow magic makers alike  to honor our cast members and the unforgettable magic they make  walt disney world president jeff vahle and global ambassador for  the worlds most magical celebration  george a  kalogridis joined cast members from areas across walt disney world and revealed a special message dedicating the disney fab golden sculptures of mickey mouse and minnie mouse in front of cinderella castle to cast members of past  present and future  these very special sculptures provide a physical reminder of the impact and magical moments cast members have created since walt disney world resort first began years ago  and are an inspiration to future generations of cast members still to come  to the cast members  crew members  and imagineers across walt disney world and around the globe    this moment is yours  and we are so grateful to you for making the dream a reality  next time you visit magic kingdom park  be sure to snap a photo with the disney fab golden sculptures of mickey mouse and minnie mouse and join us in sharing a heartfelt message to cast members using  disneycastlife and  disneyworld  you can even add some extra pizzazz with special giphy stickers commemorating the occasion    just search  wdwcast  in instagram stickers \n",
      "we have some exciting   you might say lofty   news to share   the worlds most magical celebration  honoring the past  present and future of walt disney world resort on its th anniversary  is taking to the skies  this afternoon  before media and special guests in houston  southwest airlines unveiled a very special      dramatically pixie dusted  nose to tail  in colorful graphics commemorating the th anniversary celebration of walt disney world resort  fanciful disney accents also brighten the cabin space   down to the pulldown shades  awesome  isnt it  todays surprise reveal at hobby airport filled the hangar with the joyful sounds of music and included mickey mouse and minnie mouse in the earidescent fashions theyll wear throughout the  month celebration in florida  beginning oct    southwest also celebrates years of flying in   so this special aircraft is a double scoop of festive for two great brands  to underscore the collaboration  the decorated plane flew its maiden flight to orlando international airport  where the arrival experience has been transformed with fantastical walt disney world resort th anniversary celebration decor  so now  the worlds most magical celebration  extends to the land and the sky  let the celebration begin  and congrats to southwest airlines for years  be sure to check out the latest stories and experiences for  the worlds most magical celebration  in our new special section here on the disney parks blog  also  visit southwestvacations com wdw to learn more about a walt disney world resort vacation package to the th anniversary celebration   disneyworld    waltdisneyworld    southwest\n",
      "wish you could take some of the walt disney world resort th anniversary celebration magic with you on the go  well  look no further as disney magic kingdoms  a fun mobile game where players can build their own disney inspired park  goes all out starting october   join over million players worldwide who have embraced their inner child by playing this magical game  witness the castle and main street transformations inspired by walt disney world resort th anniversary earidescent logo and banners  create the disney park of your dreams filled with beloved disney  pixar  and star wars characters  by unlocking the newest attraction  spaceship earth  complete with earidescent silver and blue stardust effects  style mickey mouse and minnie mouse in their special walt disney world resort th anniversary celebration looks  adorn your park with the exclusive walt disney world resort th anniversary celebration hat stand  th anniversary cupcake concession stand  and the th anniversary gold trophy and cake decorations  participate in the upcoming tapper event with figment the dragon taking place oct      tapper events require you to tap on small items that pop up throughout your kingdom  be sure to search your kingdom for figment hanging around  the more figment the dragon you collect  the more prizes you can win  from concessions chests to the mickey topiary decoration  at the same time from oct      players can partake in the  striking gold  collection event  during this event  players must find gold trophies hidden throughout the kingdom by collecting them from attractions and character activities  players will be able to win everything from the walt disney world resort th anniversary hat stand to the walt disney world resort th anniversary gold trophy  last but not least  from oct    there will be another figment tapper event where players can win resource chests and the mickey mouse walt disney world resort th anniversary celebration look  disney magic kingdoms is a free to play game with in app purchases available on your phone or tablet  click here to install today \n",
      "are you looking forward to immersing yourself in the holiday season this year  look no further because magic is here with holidays at the disneyland resort  and this year weve added a new separate ticket  limited capacity offering  disney merriest nites  since mickey mouse adores the holidays and celebrating with friends  hes invited some of them to help host six themed parties in one throughout disneyland park  you can join mickey mouse and his friends on one of five select nights during november and december with the purchase of a ticket  as the host of the party  mickey mouse will welcome you to the party on main street  u s a  with victorian flair  and kermit the frog  miss piggy and their friends join in the fun  traveling in a special coach with christmas carol sing alongs  muppet antics  and a few chickens  over in new orleans square  princess tiana plans to ring in noel with guests at her bayou inspired celebration  in frontierland  miguel from the disney and pixar film  coco  will be wishing everyone feliz navidad while you kick up your heels during a jolly dance filled fiesta  three more character hosted holiday parties await you with a tropical party hosted by lilo   stitch in adventureland  a wintertime celebration with elsa in fantasyland  and buzz lightyear taking the holidays to new heights over in tomorrowland  your friends and family will enjoy enhanced entertainment such as themed photo backdrops and character sightings  and themed specialty food and beverage offerings within the event  attendance at this separately ticketed holiday event offers you limited capacity  after hours access to disneyland park attractions  and entertainment  select attractions will be available  including the seasonal transformations  its a small world  holiday and haunted mansion holiday  along with a special viewing of  a christmas fantasy  parade    with unlimited disney photopass    digital downloads from the night  you may want to wear your favorite holiday attire  disney merriest nites tickets will be sold for events on nov    nov    nov    dec    and dec    tickets will be available for purchase beginning sept      no earlier than a m   on disneyland com and the disneyland app  for event highlights and additional details  please visit disneyland com merriestnites  we look forward to celebrating the holidays and disney merriest nites with you soon at the disneyland resort   star wars  galaxys edge  mickeys toontown and critter country will not be accessible during the party    entertainment  experiences  attractions  and offerings may be modified  limited in availability  or unavailable  and are subject to restrictions  and change or cancellation without notice     disney photopass is subject to the disney photopass terms and expiration policy found at disneyland com photopass terms conditions   online registration required  some images may not represent current operational or health and safety guidelines  visit disneyland com updates for important information to know before visiting the disneyland resort  including the latest updates on required face coverings \n",
      "if youre like me and cant wait until oct  to celebrate the th anniversary of walt disney world resort  then you are in luck  our friends at mcdonalds are helping us celebrate magical years with an impressive lineup of unique happy meal r  toys and an exclusive happy meal box  this one of a kind collection goes deep into the vault of some of our favorite disney characters  while  the worlds most magical celebration  will continue for months  these toys are only available for a limited time  so be sure to grab some while supplies last  if you head to your local golden arches r  starting this week  youll find the earidescent characters sporting their th anniversary celebration fashions in addition to other beloved characters  all of the toys come on one of four colorful bases  each representing one of the four walt disney world theme parks  great for playing or displaying  each base comes with a lenticular backdrop depicting a day to night scene in magic kingdom park  epcot  disneys hollywood studios  or disneys animal kingdom theme park  ready for another reason to celebrate  from sept  through oct    mcdonalds is giving guests the opportunity to enter for a chance to win one of vacations for four to walt disney world resort to experience the th anniversary of walt disney world resort  guests can purchase a happy meal via mcdonalds digital app and automatically be entered  families can also enjoy fun and engaging games at home as part of this happy meal program through mcdonalds happy meal app  the full list of character toys includes celebration mickey mouse  flounder  timothy mouse  abu  genie  bambi  celebration dale  r d  celebration minnie mouse  sebastian  bruni  tinker bell  bo peep  cheshire cat  miguel  joe gardner  celebration daisy duck  celebration goofy  piglet  lumiere  frozone  dory  dante  bb   celebration pluto  lady tramp  jaq  rocket  edna mode  jiminy cricket  simba  winnie the pooh  cogsworth  gus  hei hei  mad hatter  stitch  woody  groot  olaf  pua  pinocchio  celebration donald duck  dumbo  pumbaa  thumper  celebration chip  nemo  and timon  no purchase necessary to enter win a prize  a purchase will not increase chances of winning  celebrate the magic sweepstakes at mcdonalds is open only to residents of the united states and district of columbia who are eighteen years of age or older  subject to official rules in the mcdonalds app  enter with the purchase of any happy meal using mobile order   pay via the mcdonalds app during the entry period beginning on september     at    a m  local time and ending on october     at    p m  local time  or enter without purchase via the amoe link and follow instructions to complete and submit the amoe form with all required information beginning on september     at    a m  eastern time   et   and ending on october     at    a m  et  limit entry per day  regardless of method   void where prohibited  prizes  a trip for to walt disney world resort near orlando  fl  arv      total arv of all prizes      odds of winning determined by number of entries received  limit prize participant  potential winners will need a valid email associated with their mcdonalds app account entry in order to receive winner notification  sponsor  mcdonalds usa  llc  n  carpenter st   chicago  il     c  mcdonalds the happy meal box design is the trademark of the mcdonalds corporation and its affiliates   c disney\n",
      "disneyland resort cast members were treated to a special  sneek peek  of oogie boogie bash   a disney halloween party on sept    exploring eight treat trails featuring disney villains    including the infamous bag of bugs himself    and enjoying the frightfully fun parade and villains grove  the special ticketed  sold out event at disney california adventure park opened to guests on sept    and runs on select nights through oct    this year  the bash includes new trails featuring agatha harkness from  wandavision  in avengers campus  sid from  toy story  at pixar pier and cruella de vil at hollywood backlot   this event is very spooky    its magical   said tomorrowland attractions cast member jenna withers   its a wonderful time of the year   tomorrowland attractions cast members jenna withers and colton tracey enjoy the spooky offerings at the oogie boogie bash cast preview  cast members enjoyed performances of  mickeys trick   treat   a live show with mickey mouse and friends  and the frightfully fun parade  featuring jack skellington  sally and everyones favorite villains  for those brave souls ready for a bewitching journey  villains grove provided the opportunity to explore the worlds of disney villains through a transformed redwood creek challenge trail   villains grove is definitely my favorite area   said colton tracey  tomorrowland attractions   i love the alice in wonderland section with the roses that light up and change colors   cast in need of an extra scare had a screaming good time on guardians of the galaxy   monsters after dark  and enjoyed maters graveyard jambooree and luigis honkin haul o ween in radiator screams   cars land with a twisted seasonal makeover   its very rewarding to be here   jenna said   its a cool perk to come out after hours  hang out with everyone  see friends and relax  \n",
      "plan your escape now for a halloween getaway to the hotels of the disneyland resort  spook tacular displays  tasty treats and new hotel offers will entice you to stay for a spell  disneys grand californian hotel   spa  disneys paradise pier hotel and the disneyland hotel invite you to stay in the magic  just steps from the downtown disney district  disneyland park and disney california adventure park  the resort is brimming with halloween festivities you wont want to miss  oooh  oogie boogie  oogie boogie is quite the sight in the lobby of disneys grand californian hotel   spa  his cauldron is over  feet tall  the pastry shop shared what goes into creating this confectionary masterpiece  pounds of powdered sugar eggs pounds of rice cereal pounds of marshmallow pounds of butter pounds of dark chocolate pounds of white chocolate pounds of fondant hours of planning and hands on work hidden mickeys  happy halloween treats  to satisfy your sweet tooth  pop by the bakery cart in the lobby of disneys grand californian hotel   spa for mickey shaped monster cookies  jack skellington cookies  oogie boogie cupcakes  skull faced cookies  mickey whoopie pies and chocolate chip cookie shot glasses with milk  wickedly fabulous decor  ursula and her  poor unfortunate souls  have taken over disneys paradise pier hotel with her tentacles enveloping the lobby  while the disneyland hotel welcomes  foolish mortals  with haunted mansion stretching room art in its lobby  trick or treating for hotel guests  on oct      overnight guests of the hotels of the disneyland resort are invited to enjoy exclusive  complimentary trick or treating  each hotel will have a treat map of locations  so little ghosts and goblins  and their parents  can visit all three hotels  hotel guests are encouraged to sign up at the front desk upon check in  stay in the magic and save  save up to percent off select stays at disneyland resort hotels most sunday through thursday nights from oct      to dec      book now through dec        savings based on the non discounted price for the same room at the same hotel for most sunday through thursday nights from    to     book from    through     travel must be completed by     premium room types included in offer are premium  deluxe and woods garden courtyard rooms  select concierge rooms  and artisan  paradise  junior and family suites  not valid on previously booked rooms  advance reservations required  subject to availability as the number of rooms allocated for this offer is limited  excludes applicable fees and taxes  limit two    rooms per reservation and occupancy restrictions apply per room  not valid in combination with any other hotel discounts or offers  subject to restrictions and change or cancellation without notice  separate theme park admission and theme park reservation for same date and same park required to enter a theme park  and a hotel reservation does not guarantee theme park access  visit disneyland com updates for important information to know before visiting the disneylandresort \n",
      "today  hong kong disneyland is celebrating its th anniversary   a milestone which each and every one of our cast members can be immensely proud of reaching together  during a year of unprecedented change and uncertainty  there were extraordinary accomplishments at the resort  including the launch of our brand new reimagined castle of magical dreams  the reopening of our park  the introduction of the new inclusion key and the debut of our first live outdoor musical stage show follow your dreams  each milestone was a monumental achievement and so much credit goes to our disney cast members who have been the true heroes behind the scenes  check out this special cast video from our th anniversary that celebrates some of the years highlights and shares a look at the magic ahead \n",
      "since introducing mobile order service several years ago  weve been continuously expanding the service to additional dining locations and adding new options like table service to go for even more convenience  now available at disneyland resort and coming soon to walt disney world resort  you can also use mobile order service to order your favorite confections from select merchandise locations with candy kitchens  satisfy your sweet tooth and save time in line when you use mobile order service at the following locations  and pick up treats from cupcakes and cookies to chocolate covered marshmallows and elaborately decorated candy apples  disneyland resort   now available  marcelines confectionery  located at downtown disney district candy palace and candy kitchen  located at disneyland park pooh corner  located at disneyland park trolley treats  located at disney california adventure park walt disney world resort candy cauldron  located at disney springs   available sept  karamell kuche featuring werthers original caramel  located at epcot   available sept  zuris sweets shop  located at disneys animal kingdom theme park   available sept  goofys candy company  located at disney springs   available sept  main street confectionery at magic kingdom park also plans to offer mobile order service after it reopens from its current refurbishment  just tap  order food  in the disneyland or my disney experience app and look for these locations as they add mobile order service in the coming weeks  then  select your arrival time and bypass the line to pick up your treats  another sweet tip  eligible merchandise discounts apply when you use mobile order service at these locations  just make sure your valid annual passholder  magic key or disney vacation club membership is affiliated to your disney account  and your discount will be automatically applied \n"
     ]
    }
   ],
   "source": [
    "for d in most_representative_docs[:10]:\n",
    "    print(docs[d])"
   ]
  },
  {
   "cell_type": "code",
   "execution_count": 70,
   "metadata": {},
   "outputs": [],
   "source": [
    "cluster_23_tsne = list(set([item for sublist in cluster_23 for item in sublist]))"
   ]
  },
  {
   "cell_type": "markdown",
   "metadata": {},
   "source": [
    "### Visualize NEs per cluster using t-SNE"
   ]
  },
  {
   "cell_type": "code",
   "execution_count": 45,
   "metadata": {},
   "outputs": [],
   "source": [
    "from sklearn.manifold import TSNE \n",
    "import matplotlib.pyplot as plt\n",
    "import matplotlib.cm as cm  \n",
    "import numpy as np"
   ]
  },
  {
   "cell_type": "code",
   "execution_count": 46,
   "metadata": {},
   "outputs": [],
   "source": [
    "def tsne_plot(model,words):\n",
    "    labels = []\n",
    "    tokens = []\n",
    "\n",
    "    #for word in list(model.wv.index_to_key):\n",
    "    for word in words:\n",
    "        if word in list(model.wv.index_to_key):\n",
    "            tokens.append(model.wv[word])\n",
    "            labels.append(word)\n",
    "    \n",
    "    tsne_model = TSNE(perplexity=40, n_components=2, init='pca', n_iter=2500, random_state=23)\n",
    "    new_values = tsne_model.fit_transform(tokens)\n",
    "\n",
    "    x = []\n",
    "    y = []\n",
    "    for value in new_values:\n",
    "        x.append(value[0])\n",
    "        y.append(value[1])\n",
    "        \n",
    "    plt.figure(figsize=(8, 8)) \n",
    "    for i in range(50):\n",
    "        plt.scatter(x[i],y[i])\n",
    "        plt.annotate(labels[i],\n",
    "                     xy=(x[i], y[i]),\n",
    "                     xytext=(5, 2),\n",
    "                     textcoords='offset points',\n",
    "                     ha='right',\n",
    "                     va='bottom')\n",
    "    plt.show()"
   ]
  },
  {
   "cell_type": "code",
   "execution_count": 47,
   "metadata": {},
   "outputs": [
    {
     "name": "stderr",
     "output_type": "stream",
     "text": [
      "/Users/saumyaashah/.pyenv/versions/3.8.10/lib/python3.8/site-packages/sklearn/manifold/_t_sne.py:790: FutureWarning: The default learning rate in TSNE will change from 200.0 to 'auto' in 1.2.\n",
      "  warnings.warn(\n",
      "/Users/saumyaashah/.pyenv/versions/3.8.10/lib/python3.8/site-packages/sklearn/manifold/_t_sne.py:982: FutureWarning: The PCA initialization in TSNE will change to have the standard deviation of PC1 equal to 1e-4 in 1.2. This will ensure better convergence.\n",
      "  warnings.warn(\n"
     ]
    },
    {
     "data": {
      "image/png": "[encoded data removed]",
      "text/plain": [
       "<Figure size 576x576 with 1 Axes>"
      ]
     },
     "metadata": {
      "needs_background": "light"
     },
     "output_type": "display_data"
    }
   ],
   "source": [
    "tsne_plot(model,cluster_21_tsne)"
   ]
  },
  {
   "cell_type": "code",
   "execution_count": 71,
   "metadata": {},
   "outputs": [
    {
     "name": "stderr",
     "output_type": "stream",
     "text": [
      "/Users/saumyaashah/.pyenv/versions/3.8.10/lib/python3.8/site-packages/sklearn/manifold/_t_sne.py:790: FutureWarning: The default learning rate in TSNE will change from 200.0 to 'auto' in 1.2.\n",
      "  warnings.warn(\n",
      "/Users/saumyaashah/.pyenv/versions/3.8.10/lib/python3.8/site-packages/sklearn/manifold/_t_sne.py:982: FutureWarning: The PCA initialization in TSNE will change to have the standard deviation of PC1 equal to 1e-4 in 1.2. This will ensure better convergence.\n",
      "  warnings.warn(\n"
     ]
    },
    {
     "data": {
      "image/png": "[encoded data removed]",
      "text/plain": [
       "<Figure size 576x576 with 1 Axes>"
      ]
     },
     "metadata": {
      "needs_background": "light"
     },
     "output_type": "display_data"
    }
   ],
   "source": [
    "tsne_plot(model,cluster_23_tsne)"
   ]
  },
  {
   "cell_type": "code",
   "execution_count": 65,
   "metadata": {},
   "outputs": [],
   "source": [
    "f = open('cluster_9.txt', 'w')\n",
    "for d in most_representative_docs[:10]:\n",
    "    f.write(docs[d])\n",
    "    f.write('\\n')\n",
    "    f.write('\\n')\n",
    "f.close()"
   ]
  },
  {
   "cell_type": "code",
   "execution_count": 53,
   "metadata": {},
   "outputs": [],
   "source": [
    "cluster_21_tsne = list(set([item for sublist in cluster_21 for item in sublist]))"
   ]
  },
  {
   "cell_type": "code",
   "execution_count": 58,
   "metadata": {},
   "outputs": [
    {
     "name": "stdout",
     "output_type": "stream",
     "text": [
      "['abc', 'advance', 'afghan', 'afghanistan', 'afternoon', 'akin', 'alaska', 'amanda', 'america', 'american', 'americans', 'annual', 'appropriations', 'area', 'arizona', 'arkansas', 'august', 'bay', 'beebe', 'bernie', 'biden', 'bidens', 'bill', 'billion', 'billions', 'blaine', 'blunt', 'boe', 'boozman', 'bp', 'brunner', 'budget', 'calif', 'california', 'californians', 'call', 'capitol', 'carolyn', 'catalini', 'century', 'china', 'christian', 'chuck', 'city', 'clinton', 'columbus', 'committee', 'commonwealth', 'compare', 'congress', 'connecticut', 'conservative', 'couple', 'cox', 'daily', 'david', 'davis', 'day', 'days', 'decade', 'decades', 'december', 'democrat', 'democratic', 'democrats', 'department', 'diego', 'district', 'dodge', 'dollar', 'dollars', 'donald', 'earlier', 'eastern', 'echo', 'eight', 'elizabeth', 'energy', 'exxon', 'exxonmobil', 'face', 'faulconer', 'first', 'fiscal', 'five', 'florida', 'forty', 'four', 'fourth', 'friday', 'glenn', 'gomez', 'gop', 'gov', 'gray', 'gretchen', 'half', 'harold', 'harrington', 'harris', 'hill', 'hold', 'hour', 'hours', 'house', 'huckabee', 'hundreds', 'ibm', 'institute', 'iowa', 'irs', 'israel', 'janet', 'janine', 'january', 'jen', 'joe', 'john', 'josh', 'joshua', 'judiciary', 'july', 'june', 'justin', 'kamala', 'kansas', 'keith', 'kentucky', 'kevin', 'key', 'khanna', 'kim', 'klein', 'kristen', 'ky', 'larry', 'last', 'late', 'later', 'lawler', 'leave', 'leslie', 'less', 'levy', 'lisa', 'louis', 'luetkemeyer', 'maloney', 'marc', 'margolin', 'mark', 'martinez', 'massachusetts', 'mcauliffe', 'mcconnell', 'mccoy', 'michael', 'michigan', 'midday', 'mike', 'million', 'millions', 'minute', 'missouri', 'mitch', 'moment', 'monday', 'month', 'months', 'moran', 'morning', 'mornings', 'murkowski', 'murphy', 'must', 'native', 'nearly', 'next', 'night', 'november', 'oct', 'ohio', 'oklahoma', 'oliveri', 'one', 'ore', 'oversight', 'parry', 'party', 'past', 'patrick', 'petroleum', 'phil', 'pitt', 'political', 'polytechnic', 'press', 'priorities', 'psaki', 'rachel', 'recent', 'remark', 'republican', 'republicans', 'respond', 'reynolds', 'rich', 'rick', 'ron', 'roughly', 'roy', 'rutledge', 'san', 'sanders', 'sarah', 'saturday', 'schumer', 'scott', 'sen', 'senate', 'september', 'several', 'shell', 'signal', 'six', 'spivak', 'st', 'strong', 'sunday', 'taylor', 'tea', 'television', 'ten', 'terry', 'texas', 'thousands', 'thursday', 'today', 'todd', 'tomorrow', 'tonight', 'tour', 'treasury', 'trillion', 'trillions', 'trojan', 'trump', 'tuesday', 'tweet', 'two', 'uk', 'virginia', 'vt', 'wagner', 'warner', 'warren', 'washington', 'watkins', 'wednesday', 'week', 'weekly', 'weeks', 'west', 'white', 'wirth', 'wisconsin', 'wyden', 'year', 'years', 'yellen', 'york', 'youngkin', 'zero']\n"
     ]
    }
   ],
   "source": [
    "print(sorted(cluster_21_tsne))"
   ]
  },
  {
   "cell_type": "code",
   "execution_count": 55,
   "metadata": {},
   "outputs": [],
   "source": [
    "cluster_9_tsne = list(set([item for sublist in cluster_9 for item in sublist]))"
   ]
  },
  {
   "cell_type": "code",
   "execution_count": 72,
   "metadata": {},
   "outputs": [
    {
     "name": "stdout",
     "output_type": "stream",
     "text": [
      "['abu', 'afternoon', 'age', 'ago', 'annual', 'bb', 'california', 'caramel', 'cauldron', 'chicago', 'cookies', 'cruella', 'daisy', 'dante', 'day', 'de', 'dec', 'decades', 'december', 'disneyland', 'donald', 'duck', 'earlier', 'eight', 'eighteen', 'feet', 'first', 'five', 'florida', 'four', 'funhouse', 'gardner', 'genie', 'global', 'goofy', 'goofys', 'halloween', 'hei', 'holiday', 'hollywood', 'hong', 'hours', 'houston', 'il', 'jack', 'jeff', 'jenna', 'joe', 'karamell', 'kong', 'kuche', 'last', 'least', 'leave', 'mad', 'mcdonalds', 'mickey', 'miguel', 'minnie', 'monster', 'month', 'months', 'mouse', 'night', 'nights', 'nov', 'november', 'oct', 'october', 'one', 'orlando', 'season', 'select', 'sept', 'september', 'several', 'shape', 'six', 'skellington', 'spidey', 'spring', 'st', 'sunday', 'three', 'thursday', 'timothy', 'today', 'two', 'vahle', 'vil', 'week', 'weekend', 'weeks', 'year', 'years', 'zuris']\n"
     ]
    }
   ],
   "source": [
    "print(sorted(cluster_23_tsne))"
   ]
  },
  {
   "cell_type": "code",
   "execution_count": 75,
   "metadata": {},
   "outputs": [],
   "source": [
    "most_representative = model.wv.most_similar(positive=[clustering.cluster_centers_[21]], topn=20)"
   ]
  },
  {
   "cell_type": "code",
   "execution_count": 76,
   "metadata": {},
   "outputs": [
    {
     "data": {
      "text/plain": [
       "[('tuesday', 0.9996969699859619),\n",
       " ('republican', 0.9996862411499023),\n",
       " ('congress', 0.9996764063835144),\n",
       " ('committee', 0.9996463060379028),\n",
       " ('thursday', 0.9996263980865479),\n",
       " ('washington', 0.999625027179718),\n",
       " ('democratic', 0.999610960483551),\n",
       " ('gop', 0.9996098875999451),\n",
       " ('monday', 0.9996064305305481),\n",
       " ('wednesday', 0.9995877742767334),\n",
       " ('scott', 0.9995808601379395),\n",
       " ('american', 0.9995768070220947),\n",
       " ('joe', 0.9995742440223694),\n",
       " ('biden', 0.9995537400245667),\n",
       " ('week', 0.9995455741882324),\n",
       " ('abc', 0.9995253086090088),\n",
       " ('virginia', 0.9994936585426331),\n",
       " ('national', 0.9994819164276123),\n",
       " ('earlier', 0.9994667172431946),\n",
       " ('zero', 0.9994475841522217)]"
      ]
     },
     "execution_count": 76,
     "metadata": {},
     "output_type": "execute_result"
    }
   ],
   "source": [
    "most_representative"
   ]
  },
  {
   "cell_type": "code",
   "execution_count": 77,
   "metadata": {},
   "outputs": [],
   "source": [
    "most_representative = model.wv.most_similar(positive=[clustering.cluster_centers_[9]], topn=20)"
   ]
  },
  {
   "cell_type": "code",
   "execution_count": 78,
   "metadata": {},
   "outputs": [
    {
     "data": {
      "text/plain": [
       "[('abc', 0.9998254179954529),\n",
       " ('one', 0.9998136758804321),\n",
       " ('five', 0.9998037219047546),\n",
       " ('july', 0.9997876286506653),\n",
       " ('three', 0.9997854232788086),\n",
       " ('sunday', 0.9997815489768982),\n",
       " ('first', 0.9997755885124207),\n",
       " ('two', 0.9997754693031311),\n",
       " ('week', 0.9997726082801819),\n",
       " ('national', 0.9997645616531372),\n",
       " ('month', 0.9997615218162537),\n",
       " ('half', 0.9997601509094238),\n",
       " ('de', 0.9997574687004089),\n",
       " ('john', 0.9997533559799194),\n",
       " ('sept', 0.999750554561615),\n",
       " ('hours', 0.9997477531433105),\n",
       " ('saturday', 0.9997468590736389),\n",
       " ('days', 0.9997467994689941),\n",
       " ('months', 0.9997464418411255),\n",
       " ('day', 0.9997437000274658)]"
      ]
     },
     "execution_count": 78,
     "metadata": {},
     "output_type": "execute_result"
    }
   ],
   "source": [
    "most_representative"
   ]
  },
  {
   "cell_type": "code",
   "execution_count": 79,
   "metadata": {},
   "outputs": [],
   "source": [
    "most_representative = model.wv.most_similar(positive=[clustering.cluster_centers_[23]], topn=20)"
   ]
  },
  {
   "cell_type": "code",
   "execution_count": 80,
   "metadata": {},
   "outputs": [
    {
     "data": {
      "text/plain": [
       "[('today', 0.9990912079811096),\n",
       " ('jack', 0.9990651607513428),\n",
       " ('oct', 0.9989615082740784),\n",
       " ('first', 0.9989088177680969),\n",
       " ('sept', 0.998812735080719),\n",
       " ('several', 0.998741626739502),\n",
       " ('hours', 0.9987406730651855),\n",
       " ('two', 0.9987292289733887),\n",
       " ('de', 0.9987131357192993),\n",
       " ('hollywood', 0.9986940622329712),\n",
       " ('four', 0.9986838698387146),\n",
       " ('six', 0.998679518699646),\n",
       " ('years', 0.9986721873283386),\n",
       " ('one', 0.9986623525619507),\n",
       " ('september', 0.9986444711685181),\n",
       " ('later', 0.9986360669136047),\n",
       " ('ago', 0.9986298680305481),\n",
       " ('five', 0.9986258149147034),\n",
       " ('year', 0.9986227750778198),\n",
       " ('june', 0.9986218214035034)]"
      ]
     },
     "execution_count": 80,
     "metadata": {},
     "output_type": "execute_result"
    }
   ],
   "source": [
    "most_representative"
   ]
  },
  {
   "cell_type": "code",
   "execution_count": null,
   "metadata": {},
   "outputs": [],
   "source": []
  }
 ],
 "metadata": {
  "interpreter": {
   "hash": "88685c02d7179f8a0efe8dc037c0f831e3cf85f6b3b9d37e237c2190ea9297e8"
  },
  "kernelspec": {
   "display_name": "Python 3.8.10 64-bit ('3.8.10': pyenv)",
   "name": "python3"
  },
  "language_info": {
   "codemirror_mode": {
    "name": "ipython",
    "version": 3
   },
   "file_extension": ".py",
   "mimetype": "text/x-python",
   "name": "python",
   "nbconvert_exporter": "python",
   "pygments_lexer": "ipython3",
   "version": "3.8.10"
  },
  "orig_nbformat": 4
 },
 "nbformat": 4,
 "nbformat_minor": 2
}
