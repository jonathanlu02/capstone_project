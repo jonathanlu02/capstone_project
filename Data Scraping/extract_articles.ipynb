{
 "cells": [
  {
   "cell_type": "markdown",
   "source": [
    "### Import Libraries"
   ],
   "metadata": {}
  },
  {
   "cell_type": "code",
   "execution_count": 1,
   "source": [
    "import pandas as pd\n",
    "import numpy as np\n",
    "from newsfetch.news import newspaper\n",
    "from tqdm import tqdm"
   ],
   "outputs": [],
   "metadata": {}
  },
  {
   "cell_type": "code",
   "execution_count": 2,
   "source": [
    "articles_df_org = pd.read_json('news_articles_abc_aftenposten.json')"
   ],
   "outputs": [],
   "metadata": {}
  },
  {
   "cell_type": "code",
   "execution_count": 3,
   "source": [
    "articles_df_org.shape"
   ],
   "outputs": [
    {
     "output_type": "execute_result",
     "data": {
      "text/plain": [
       "(1500, 8)"
      ]
     },
     "metadata": {},
     "execution_count": 3
    }
   ],
   "metadata": {}
  },
  {
   "cell_type": "markdown",
   "source": [
    "### Drop Unused Columns"
   ],
   "metadata": {}
  },
  {
   "cell_type": "code",
   "execution_count": 4,
   "source": [
    "articles_df_org = articles_df_org.drop(columns=['description', 'urlToImage','content'])"
   ],
   "outputs": [],
   "metadata": {}
  },
  {
   "cell_type": "code",
   "execution_count": 5,
   "source": [
    "articles_df_org.columns"
   ],
   "outputs": [
    {
     "output_type": "execute_result",
     "data": {
      "text/plain": [
       "Index(['source', 'author', 'title', 'url', 'publishedAt'], dtype='object')"
      ]
     },
     "metadata": {},
     "execution_count": 5
    }
   ],
   "metadata": {}
  },
  {
   "cell_type": "code",
   "execution_count": 6,
   "source": [
    "articles_df_org.head()"
   ],
   "outputs": [
    {
     "output_type": "execute_result",
     "data": {
      "text/html": [
       "<div>\n",
       "<style scoped>\n",
       "    .dataframe tbody tr th:only-of-type {\n",
       "        vertical-align: middle;\n",
       "    }\n",
       "\n",
       "    .dataframe tbody tr th {\n",
       "        vertical-align: top;\n",
       "    }\n",
       "\n",
       "    .dataframe thead th {\n",
       "        text-align: right;\n",
       "    }\n",
       "</style>\n",
       "<table border=\"1\" class=\"dataframe\">\n",
       "  <thead>\n",
       "    <tr style=\"text-align: right;\">\n",
       "      <th></th>\n",
       "      <th>source</th>\n",
       "      <th>author</th>\n",
       "      <th>title</th>\n",
       "      <th>url</th>\n",
       "      <th>publishedAt</th>\n",
       "    </tr>\n",
       "  </thead>\n",
       "  <tbody>\n",
       "    <tr>\n",
       "      <th>0</th>\n",
       "      <td>{'id': 'abc-news', 'name': 'ABC News'}</td>\n",
       "      <td>MARIAM FAM, DEEPTI HAJELA and LUIS ANDRES HENA...</td>\n",
       "      <td>Two decades after 9/11, Muslim Americans still...</td>\n",
       "      <td>https://abcnews.go.com/Lifestyle/wireStory/dec...</td>\n",
       "      <td>2021-09-07T07:27:55Z</td>\n",
       "    </tr>\n",
       "    <tr>\n",
       "      <th>1</th>\n",
       "      <td>{'id': 'abc-news', 'name': 'ABC News'}</td>\n",
       "      <td>TERESA M. WALKER AP Pro Football Writer</td>\n",
       "      <td>Titans' outbreak nears end, other NFL teams de...</td>\n",
       "      <td>https://abcnews.go.com/Sports/wireStory/titans...</td>\n",
       "      <td>2021-09-07T03:31:36Z</td>\n",
       "    </tr>\n",
       "    <tr>\n",
       "      <th>2</th>\n",
       "      <td>{'id': 'abc-news', 'name': 'ABC News'}</td>\n",
       "      <td>Dr. Priscilla Hanudel</td>\n",
       "      <td>COVID-19 infection after vaccination and what ...</td>\n",
       "      <td>https://abcnews.go.com/Health/covid-19-infecti...</td>\n",
       "      <td>2021-09-07T14:28:39Z</td>\n",
       "    </tr>\n",
       "    <tr>\n",
       "      <th>3</th>\n",
       "      <td>{'id': 'abc-news', 'name': 'ABC News'}</td>\n",
       "      <td>Alisa Wiersema</td>\n",
       "      <td>Texas governor signs GOP-backed 'election inte...</td>\n",
       "      <td>https://abcnews.go.com/Politics/texas-governor...</td>\n",
       "      <td>2021-09-07T17:34:12Z</td>\n",
       "    </tr>\n",
       "    <tr>\n",
       "      <th>4</th>\n",
       "      <td>{'id': 'abc-news', 'name': 'ABC News'}</td>\n",
       "      <td>The Associated Press</td>\n",
       "      <td>Spanish hospital baby switch discovered two de...</td>\n",
       "      <td>https://abcnews.go.com/Lifestyle/wireStory/spa...</td>\n",
       "      <td>2021-09-07T17:07:13Z</td>\n",
       "    </tr>\n",
       "  </tbody>\n",
       "</table>\n",
       "</div>"
      ],
      "text/plain": [
       "                                   source  \\\n",
       "0  {'id': 'abc-news', 'name': 'ABC News'}   \n",
       "1  {'id': 'abc-news', 'name': 'ABC News'}   \n",
       "2  {'id': 'abc-news', 'name': 'ABC News'}   \n",
       "3  {'id': 'abc-news', 'name': 'ABC News'}   \n",
       "4  {'id': 'abc-news', 'name': 'ABC News'}   \n",
       "\n",
       "                                              author  \\\n",
       "0  MARIAM FAM, DEEPTI HAJELA and LUIS ANDRES HENA...   \n",
       "1            TERESA M. WALKER AP Pro Football Writer   \n",
       "2                              Dr. Priscilla Hanudel   \n",
       "3                                     Alisa Wiersema   \n",
       "4                               The Associated Press   \n",
       "\n",
       "                                               title  \\\n",
       "0  Two decades after 9/11, Muslim Americans still...   \n",
       "1  Titans' outbreak nears end, other NFL teams de...   \n",
       "2  COVID-19 infection after vaccination and what ...   \n",
       "3  Texas governor signs GOP-backed 'election inte...   \n",
       "4  Spanish hospital baby switch discovered two de...   \n",
       "\n",
       "                                                 url           publishedAt  \n",
       "0  https://abcnews.go.com/Lifestyle/wireStory/dec...  2021-09-07T07:27:55Z  \n",
       "1  https://abcnews.go.com/Sports/wireStory/titans...  2021-09-07T03:31:36Z  \n",
       "2  https://abcnews.go.com/Health/covid-19-infecti...  2021-09-07T14:28:39Z  \n",
       "3  https://abcnews.go.com/Politics/texas-governor...  2021-09-07T17:34:12Z  \n",
       "4  https://abcnews.go.com/Lifestyle/wireStory/spa...  2021-09-07T17:07:13Z  "
      ]
     },
     "metadata": {},
     "execution_count": 6
    }
   ],
   "metadata": {}
  },
  {
   "cell_type": "markdown",
   "source": [
    "### Pull Article Text Using URL Column"
   ],
   "metadata": {}
  },
  {
   "cell_type": "code",
   "execution_count": 6,
   "source": [
    "news_text = []\n",
    "for i in tqdm(range(articles_df_org.shape[0])):\n",
    "    news = newspaper(articles_df_org['url'][i])\n",
    "    news_text.append(news.article)"
   ],
   "outputs": [
    {
     "output_type": "stream",
     "name": "stderr",
     "text": [
      " 29%|██▊       | 430/1500 [11:11<39:08,  2.19s/it]connection/timeout error: https://disneyparks.disney.go.com/blog/2021/09/experience-star-wars-rise-of-the-resistance-like-never-before-at-disneys-hollywood-studios/ HTTPSConnectionPool(host='disneyparks.disney.go.com', port=443): Read timed out. (read timeout=6)\n",
      " 29%|██▉       | 432/1500 [11:21<1:00:24,  3.39s/it]connection/timeout error: https://disneyparks.disney.go.com/blog/2021/09/bringing-the-global-music-of-harmonious-to-spectacular-life-on-world-showcase-lagoon-at-epcot/ ('Connection aborted.', RemoteDisconnected('Remote end closed connection without response'))\n",
      " 59%|█████▉    | 885/1500 [24:30<16:11,  1.58s/it]not a 200 response: 404\n",
      "100%|██████████| 1500/1500 [40:34<00:00,  1.62s/it]\n"
     ]
    }
   ],
   "metadata": {}
  },
  {
   "cell_type": "markdown",
   "source": [
    "### Save only the articles"
   ],
   "metadata": {}
  },
  {
   "cell_type": "code",
   "execution_count": 8,
   "source": [
    "textfile = open(\"articles_3_sources.txt\", \"w\")\n",
    "for element in news_text:\n",
    "    textfile.write(element + \"\\n\")\n",
    "textfile.close()"
   ],
   "outputs": [],
   "metadata": {}
  },
  {
   "cell_type": "markdown",
   "source": [
    "### Save the article along with metadata"
   ],
   "metadata": {}
  },
  {
   "cell_type": "code",
   "execution_count": 9,
   "source": [
    "articles_df_org['article_text'] = news_text"
   ],
   "outputs": [],
   "metadata": {}
  },
  {
   "cell_type": "code",
   "execution_count": 13,
   "source": [
    "articles_df_org.to_json('news_articles_with_text_3_sources.json')"
   ],
   "outputs": [],
   "metadata": {}
  },
  {
   "cell_type": "code",
   "execution_count": null,
   "source": [],
   "outputs": [],
   "metadata": {}
  }
 ],
 "metadata": {
  "orig_nbformat": 4,
  "language_info": {
   "name": "python",
   "version": "3.8.10",
   "mimetype": "text/x-python",
   "codemirror_mode": {
    "name": "ipython",
    "version": 3
   },
   "pygments_lexer": "ipython3",
   "nbconvert_exporter": "python",
   "file_extension": ".py"
  },
  "kernelspec": {
   "name": "python3",
   "display_name": "Python 3.8.10 64-bit ('3.8.10': pyenv)"
  },
  "interpreter": {
   "hash": "3c50298a6cd8637dc5be37cd1f58589b776fed233ef5d6cd701fc376c52bb812"
  }
 },
 "nbformat": 4,
 "nbformat_minor": 2
}