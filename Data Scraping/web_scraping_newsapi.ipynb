{
 "cells": [
  {
   "cell_type": "markdown",
   "source": [
    "### Import Libraries"
   ],
   "metadata": {}
  },
  {
   "cell_type": "code",
   "execution_count": 1,
   "source": [
    "from newsapi import NewsApiClient\n",
    "import json\n",
    "import pandas as pd\n",
    "import datetime"
   ],
   "outputs": [],
   "metadata": {}
  },
  {
   "cell_type": "markdown",
   "source": [
    "### Initialize NewsAPI CLient"
   ],
   "metadata": {}
  },
  {
   "cell_type": "code",
   "execution_count": 2,
   "source": [
    "newsapi = NewsApiClient(api_key='ENTER_API_KEY_HERE')"
   ],
   "outputs": [],
   "metadata": {}
  },
  {
   "cell_type": "markdown",
   "source": [
    "### Explore News Sources"
   ],
   "metadata": {}
  },
  {
   "cell_type": "code",
   "execution_count": 3,
   "source": [
    "sources = newsapi.get_sources()"
   ],
   "outputs": [],
   "metadata": {}
  },
  {
   "cell_type": "code",
   "execution_count": 4,
   "source": [
    "len(sources['sources'])"
   ],
   "outputs": [
    {
     "output_type": "execute_result",
     "data": {
      "text/plain": [
       "128"
      ]
     },
     "metadata": {},
     "execution_count": 4
    }
   ],
   "metadata": {}
  },
  {
   "cell_type": "markdown",
   "source": [
    "### Concatenate Sources To Scrape To A String"
   ],
   "metadata": {}
  },
  {
   "cell_type": "code",
   "execution_count": 8,
   "source": [
    "all_sources = [d['id'] for d in sources['sources']]\n",
    "all_sources_str = ','.join(all_sources[14:16])"
   ],
   "outputs": [],
   "metadata": {}
  },
  {
   "cell_type": "code",
   "execution_count": 9,
   "source": [
    "all_sources_str"
   ],
   "outputs": [
    {
     "output_type": "execute_result",
     "data": {
      "text/plain": [
       "'blasting-news-br,bleacher-report'"
      ]
     },
     "metadata": {},
     "execution_count": 9
    }
   ],
   "metadata": {}
  },
  {
   "cell_type": "markdown",
   "source": [
    "### Initialize start_date and end_date according to API restrictions"
   ],
   "metadata": {}
  },
  {
   "cell_type": "code",
   "execution_count": 12,
   "source": [
    "y = 18\n",
    "start_date = datetime.datetime(2021, 9, y).strftime('%Y-%m-%d')\n",
    "end_date = datetime.datetime(2021, 9, y).strftime('%Y-%m-%d')"
   ],
   "outputs": [],
   "metadata": {}
  },
  {
   "cell_type": "code",
   "execution_count": 13,
   "source": [
    "start_date,end_date"
   ],
   "outputs": [
    {
     "output_type": "execute_result",
     "data": {
      "text/plain": [
       "('2021-09-18', '2021-09-18')"
      ]
     },
     "metadata": {},
     "execution_count": 13
    }
   ],
   "metadata": {}
  },
  {
   "cell_type": "markdown",
   "source": [
    "### Pull articles from news sources"
   ],
   "metadata": {}
  },
  {
   "cell_type": "code",
   "execution_count": 14,
   "source": [
    "all_articles = newsapi.get_everything(sources=all_sources_str,\n",
    "                                      from_param=start_date,\n",
    "                                      to=end_date,\n",
    "                                      sort_by='relevancy',\n",
    "                                      page_size = 100,\n",
    "                                      page=1)"
   ],
   "outputs": [],
   "metadata": {}
  },
  {
   "cell_type": "code",
   "execution_count": 15,
   "source": [
    "all_articles['totalResults']"
   ],
   "outputs": [
    {
     "output_type": "execute_result",
     "data": {
      "text/plain": [
       "41"
      ]
     },
     "metadata": {},
     "execution_count": 15
    }
   ],
   "metadata": {}
  },
  {
   "cell_type": "markdown",
   "source": [
    "### Save results of first request"
   ],
   "metadata": {}
  },
  {
   "cell_type": "code",
   "execution_count": 1022,
   "source": [
    "articles_df = pd.DataFrame.from_dict(all_articles['articles'])"
   ],
   "outputs": [],
   "metadata": {}
  },
  {
   "cell_type": "code",
   "execution_count": 1030,
   "source": [
    "articles_df.to_json('news_articles_enter_name_here.json')"
   ],
   "outputs": [],
   "metadata": {}
  },
  {
   "cell_type": "markdown",
   "source": [
    "### Scrape for multiple dates and sources"
   ],
   "metadata": {}
  },
  {
   "cell_type": "code",
   "execution_count": 10,
   "source": [
    "articles_df_org = pd.read_json('news_articles_enter_name_here.json')"
   ],
   "outputs": [],
   "metadata": {}
  },
  {
   "cell_type": "code",
   "execution_count": 11,
   "source": [
    "#For September\n",
    "# for z in range(y+1,31):\n",
    "#     start_date = datetime.datetime(2021, 9, z).strftime('%Y-%m-%d')\n",
    "#     end_date = datetime.datetime(2021, 9, z).strftime('%Y-%m-%d')\n",
    "#     all_articles = newsapi.get_everything(sources=all_sources_str,\n",
    "#                                       from_param=start_date,\n",
    "#                                       to=end_date,\n",
    "#                                       sort_by='relevancy',\n",
    "#                                       page_size = 100,\n",
    "#                                       page=1)\n",
    "#     print(all_articles['totalResults'])\n",
    "#     articles_df = pd.DataFrame.from_dict(all_articles['articles'])\n",
    "#     articles_df_org = articles_df_org.append(articles_df,ignore_index=True)\n",
    "#     print(articles_df_org.shape)"
   ],
   "outputs": [],
   "metadata": {}
  },
  {
   "cell_type": "code",
   "execution_count": null,
   "source": [
    "#articles_df_org.to_json('news_articles_enter_name_here.json')"
   ],
   "outputs": [],
   "metadata": {}
  }
 ],
 "metadata": {
  "orig_nbformat": 4,
  "language_info": {
   "name": "python",
   "version": "3.8.10",
   "mimetype": "text/x-python",
   "codemirror_mode": {
    "name": "ipython",
    "version": 3
   },
   "pygments_lexer": "ipython3",
   "nbconvert_exporter": "python",
   "file_extension": ".py"
  },
  "kernelspec": {
   "name": "python3",
   "display_name": "Python 3.8.10 64-bit ('3.8.10': pyenv)"
  },
  "interpreter": {
   "hash": "3c50298a6cd8637dc5be37cd1f58589b776fed233ef5d6cd701fc376c52bb812"
  }
 },
 "nbformat": 4,
 "nbformat_minor": 2
}