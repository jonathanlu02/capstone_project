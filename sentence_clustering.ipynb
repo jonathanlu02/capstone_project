{
 "cells": [
  {
   "cell_type": "code",
   "execution_count": 32,
   "metadata": {},
   "outputs": [],
   "source": [
    "import numpy as np\n",
    "import nltk\n",
    "from sentence_transformers import SentenceTransformer\n",
    "import pandas as pd"
   ]
  },
  {
   "cell_type": "code",
   "execution_count": 33,
   "metadata": {},
   "outputs": [],
   "source": [
    "df_raw = pd.read_json('news_articles_with_text_3_sources.json')"
   ]
  },
  {
   "cell_type": "code",
   "execution_count": 34,
   "metadata": {},
   "outputs": [
    {
     "data": {
      "text/html": [
       "<div>\n",
       "<style scoped>\n",
       "    .dataframe tbody tr th:only-of-type {\n",
       "        vertical-align: middle;\n",
       "    }\n",
       "\n",
       "    .dataframe tbody tr th {\n",
       "        vertical-align: top;\n",
       "    }\n",
       "\n",
       "    .dataframe thead th {\n",
       "        text-align: right;\n",
       "    }\n",
       "</style>\n",
       "<table border=\"1\" class=\"dataframe\">\n",
       "  <thead>\n",
       "    <tr style=\"text-align: right;\">\n",
       "      <th></th>\n",
       "      <th>source</th>\n",
       "      <th>author</th>\n",
       "      <th>title</th>\n",
       "      <th>url</th>\n",
       "      <th>publishedAt</th>\n",
       "      <th>article_text</th>\n",
       "    </tr>\n",
       "  </thead>\n",
       "  <tbody>\n",
       "    <tr>\n",
       "      <th>0</th>\n",
       "      <td>{'id': 'abc-news', 'name': 'ABC News'}</td>\n",
       "      <td>MARIAM FAM, DEEPTI HAJELA and LUIS ANDRES HENA...</td>\n",
       "      <td>Two decades after 9/11, Muslim Americans still...</td>\n",
       "      <td>https://abcnews.go.com/Lifestyle/wireStory/dec...</td>\n",
       "      <td>2021-09-07T07:27:55Z</td>\n",
       "      <td>Muslim Americans who grew up under the shadow ...</td>\n",
       "    </tr>\n",
       "    <tr>\n",
       "      <th>1</th>\n",
       "      <td>{'id': 'abc-news', 'name': 'ABC News'}</td>\n",
       "      <td>TERESA M. WALKER AP Pro Football Writer</td>\n",
       "      <td>Titans' outbreak nears end, other NFL teams de...</td>\n",
       "      <td>https://abcnews.go.com/Sports/wireStory/titans...</td>\n",
       "      <td>2021-09-07T03:31:36Z</td>\n",
       "      <td>The Tennessee Titans COVID-19 outbreak is near...</td>\n",
       "    </tr>\n",
       "    <tr>\n",
       "      <th>2</th>\n",
       "      <td>{'id': 'abc-news', 'name': 'ABC News'}</td>\n",
       "      <td>Dr. Priscilla Hanudel</td>\n",
       "      <td>COVID-19 infection after vaccination and what ...</td>\n",
       "      <td>https://abcnews.go.com/Health/covid-19-infecti...</td>\n",
       "      <td>2021-09-07T14:28:39Z</td>\n",
       "      <td>Vaccines work to dramatically reduce the risk ...</td>\n",
       "    </tr>\n",
       "    <tr>\n",
       "      <th>3</th>\n",
       "      <td>{'id': 'abc-news', 'name': 'ABC News'}</td>\n",
       "      <td>Alisa Wiersema</td>\n",
       "      <td>Texas governor signs GOP-backed 'election inte...</td>\n",
       "      <td>https://abcnews.go.com/Politics/texas-governor...</td>\n",
       "      <td>2021-09-07T17:34:12Z</td>\n",
       "      <td>Three months and two special sessions after Te...</td>\n",
       "    </tr>\n",
       "    <tr>\n",
       "      <th>4</th>\n",
       "      <td>{'id': 'abc-news', 'name': 'ABC News'}</td>\n",
       "      <td>The Associated Press</td>\n",
       "      <td>Spanish hospital baby switch discovered two de...</td>\n",
       "      <td>https://abcnews.go.com/Lifestyle/wireStory/spa...</td>\n",
       "      <td>2021-09-07T17:07:13Z</td>\n",
       "      <td>Health authorities in Spain are blaming human ...</td>\n",
       "    </tr>\n",
       "  </tbody>\n",
       "</table>\n",
       "</div>"
      ],
      "text/plain": [
       "                                   source  \\\n",
       "0  {'id': 'abc-news', 'name': 'ABC News'}   \n",
       "1  {'id': 'abc-news', 'name': 'ABC News'}   \n",
       "2  {'id': 'abc-news', 'name': 'ABC News'}   \n",
       "3  {'id': 'abc-news', 'name': 'ABC News'}   \n",
       "4  {'id': 'abc-news', 'name': 'ABC News'}   \n",
       "\n",
       "                                              author  \\\n",
       "0  MARIAM FAM, DEEPTI HAJELA and LUIS ANDRES HENA...   \n",
       "1            TERESA M. WALKER AP Pro Football Writer   \n",
       "2                              Dr. Priscilla Hanudel   \n",
       "3                                     Alisa Wiersema   \n",
       "4                               The Associated Press   \n",
       "\n",
       "                                               title  \\\n",
       "0  Two decades after 9/11, Muslim Americans still...   \n",
       "1  Titans' outbreak nears end, other NFL teams de...   \n",
       "2  COVID-19 infection after vaccination and what ...   \n",
       "3  Texas governor signs GOP-backed 'election inte...   \n",
       "4  Spanish hospital baby switch discovered two de...   \n",
       "\n",
       "                                                 url           publishedAt  \\\n",
       "0  https://abcnews.go.com/Lifestyle/wireStory/dec...  2021-09-07T07:27:55Z   \n",
       "1  https://abcnews.go.com/Sports/wireStory/titans...  2021-09-07T03:31:36Z   \n",
       "2  https://abcnews.go.com/Health/covid-19-infecti...  2021-09-07T14:28:39Z   \n",
       "3  https://abcnews.go.com/Politics/texas-governor...  2021-09-07T17:34:12Z   \n",
       "4  https://abcnews.go.com/Lifestyle/wireStory/spa...  2021-09-07T17:07:13Z   \n",
       "\n",
       "                                        article_text  \n",
       "0  Muslim Americans who grew up under the shadow ...  \n",
       "1  The Tennessee Titans COVID-19 outbreak is near...  \n",
       "2  Vaccines work to dramatically reduce the risk ...  \n",
       "3  Three months and two special sessions after Te...  \n",
       "4  Health authorities in Spain are blaming human ...  "
      ]
     },
     "execution_count": 34,
     "metadata": {},
     "output_type": "execute_result"
    }
   ],
   "source": [
    "df_raw.head()"
   ]
  },
  {
   "cell_type": "code",
   "execution_count": 35,
   "metadata": {},
   "outputs": [],
   "source": [
    "df = df_raw.copy()\n",
    "df[\"article_text\"] = df[\"article_text\"].fillna(\"\")"
   ]
  },
  {
   "cell_type": "code",
   "execution_count": 36,
   "metadata": {},
   "outputs": [],
   "source": [
    "articles_list = df[\"article_text\"].tolist()\n",
    "articles_corpus = \" \"\n",
    "articles_corpus = articles_corpus.join(articles_list[0:50])"
   ]
  },
  {
   "cell_type": "code",
   "execution_count": 38,
   "metadata": {},
   "outputs": [],
   "source": [
    "a_list = nltk.tokenize.sent_tokenize(articles_corpus)"
   ]
  },
  {
   "cell_type": "code",
   "execution_count": 39,
   "metadata": {},
   "outputs": [],
   "source": [
    "sbert_model = SentenceTransformer('bert-base-nli-mean-tokens')"
   ]
  },
  {
   "cell_type": "code",
   "execution_count": 40,
   "metadata": {},
   "outputs": [],
   "source": [
    "sentence_embeddings = sbert_model.encode(a_list)"
   ]
  },
  {
   "cell_type": "code",
   "execution_count": 41,
   "metadata": {},
   "outputs": [],
   "source": [
    "from sklearn.cluster import MiniBatchKMeans\n",
    "from sklearn.metrics import silhouette_samples, silhouette_score"
   ]
  },
  {
   "cell_type": "code",
   "execution_count": 42,
   "metadata": {},
   "outputs": [],
   "source": [
    "def mbkmeans_clusters(X, k, mb, print_silhouette_values):\n",
    "    km = MiniBatchKMeans(n_clusters=k, batch_size=mb).fit(X)\n",
    "    print(f\"For n_clusters = {k}\")\n",
    "    print(f\"Silhouette coefficient: {silhouette_score(X, km.labels_):0.2f}\")\n",
    "    print(f\"Inertia:{km.inertia_}\")\n",
    "\n",
    "    if print_silhouette_values:\n",
    "        sample_silhouette_values = silhouette_samples(X, km.labels_)\n",
    "        print(f\"Silhouette values:\")\n",
    "        silhouette_values = []\n",
    "        for i in range(k):\n",
    "            cluster_silhouette_values = sample_silhouette_values[km.labels_ == i]\n",
    "            silhouette_values.append(\n",
    "                (\n",
    "                    i,\n",
    "                    cluster_silhouette_values.shape[0],\n",
    "                )\n",
    "            )\n",
    "        silhouette_values = sorted(\n",
    "            silhouette_values, key=lambda tup: tup[1], reverse=True\n",
    "        )\n",
    "        for s in silhouette_values:\n",
    "            print(\n",
    "                f\"    Cluster {s[0]}: Size:{s[1]}\"\n",
    "            )\n",
    "    return km, km.labels_"
   ]
  },
  {
   "cell_type": "code",
   "execution_count": 56,
   "metadata": {},
   "outputs": [
    {
     "name": "stdout",
     "output_type": "stream",
     "text": [
      "For n_clusters = 50\n",
      "Silhouette coefficient: 0.03\n",
      "Inertia:129241.0859375\n",
      "Silhouette values:\n",
      "    Cluster 14: Size:58\n",
      "    Cluster 3: Size:49\n",
      "    Cluster 16: Size:46\n",
      "    Cluster 31: Size:42\n",
      "    Cluster 15: Size:41\n",
      "    Cluster 19: Size:41\n",
      "    Cluster 5: Size:40\n",
      "    Cluster 45: Size:39\n",
      "    Cluster 48: Size:38\n",
      "    Cluster 41: Size:37\n",
      "    Cluster 38: Size:36\n",
      "    Cluster 29: Size:35\n",
      "    Cluster 42: Size:35\n",
      "    Cluster 7: Size:34\n",
      "    Cluster 11: Size:32\n",
      "    Cluster 17: Size:31\n",
      "    Cluster 27: Size:31\n",
      "    Cluster 22: Size:29\n",
      "    Cluster 33: Size:29\n",
      "    Cluster 9: Size:28\n",
      "    Cluster 10: Size:26\n",
      "    Cluster 28: Size:26\n",
      "    Cluster 36: Size:26\n",
      "    Cluster 25: Size:25\n",
      "    Cluster 35: Size:25\n",
      "    Cluster 32: Size:24\n",
      "    Cluster 44: Size:24\n",
      "    Cluster 23: Size:23\n",
      "    Cluster 26: Size:20\n",
      "    Cluster 46: Size:20\n",
      "    Cluster 0: Size:18\n",
      "    Cluster 4: Size:18\n",
      "    Cluster 6: Size:17\n",
      "    Cluster 18: Size:17\n",
      "    Cluster 30: Size:17\n",
      "    Cluster 24: Size:16\n",
      "    Cluster 37: Size:15\n",
      "    Cluster 12: Size:14\n",
      "    Cluster 34: Size:14\n",
      "    Cluster 40: Size:14\n",
      "    Cluster 39: Size:11\n",
      "    Cluster 8: Size:10\n",
      "    Cluster 49: Size:9\n",
      "    Cluster 13: Size:8\n",
      "    Cluster 20: Size:8\n",
      "    Cluster 1: Size:5\n",
      "    Cluster 2: Size:4\n",
      "    Cluster 43: Size:4\n",
      "    Cluster 21: Size:3\n",
      "    Cluster 47: Size:2\n"
     ]
    }
   ],
   "source": [
    "clustering, cluster_labels = mbkmeans_clusters(\n",
    "\tX=sentence_embeddings,\n",
    "    k=50,\n",
    "    mb=500,\n",
    "    print_silhouette_values=True,\n",
    ")\n",
    "df_clusters = pd.DataFrame({\n",
    "    \"text\": a_list,\n",
    "    \"cluster\": cluster_labels\n",
    "})"
   ]
  },
  {
   "cell_type": "code",
   "execution_count": 66,
   "metadata": {},
   "outputs": [
    {
     "name": "stdout",
     "output_type": "stream",
     "text": [
      "When they leave, may they take the memory of Tenaya Stone home with them until their next visit.\n",
      "-------------\n",
      "\"You judge your deployments by -- you're missing what holidays.\n",
      "-------------\n",
      "\"Our kids are going to be (here) well after the 9/11 era,\" she says.\n",
      "-------------\n",
      "What do you want guests to come away with after visiting Tenaya Stone Spa?\n",
      "-------------\n",
      "Even as some of the benefits that were provided are set to expire next week, states have the option to extend those benefits and the federal resources from the Rescue Plan to do so.\n",
      "-------------\n",
      "Earlier this year, Peyton Elizabeth Lee took some time off from shooting her Disney+ Original Series, \"Doogie Kamealoha, M.D.\n",
      "-------------\n",
      "After this pretrial phase Sept. 7-17, another pretrial continuation is set for Nov. 1-19.\n",
      "-------------\n",
      "Northam, who watched the work, called it \"hopefully a new day, a new era in Virginia.\"\n",
      "-------------\n",
      "Continuing resolutions typically are approved by Congress to keep the government operating when the annual appropriations/spending bills have not been approved before the fiscal year ends at the end of September.\n",
      "-------------\n",
      "The pretrial proceedings are set to resume the following Monday and potentially carry on through Sept. 17.\n",
      "-------------\n"
     ]
    }
   ],
   "source": [
    "test_cluster = 2\n",
    "most_representative_docs = np.argsort(\n",
    "    np.linalg.norm(sentence_embeddings - clustering.cluster_centers_[test_cluster], axis=1)\n",
    ")\n",
    "for d in most_representative_docs[0:10]:\n",
    "    print(a_list[d])\n",
    "    print(\"-------------\")"
   ]
  },
  {
   "cell_type": "code",
   "execution_count": 67,
   "metadata": {},
   "outputs": [],
   "source": [
    "def cosine(u, v):\n",
    "    return np.dot(u, v) / (np.linalg.norm(u) * np.linalg.norm(v))"
   ]
  },
  {
   "cell_type": "code",
   "execution_count": 58,
   "metadata": {},
   "outputs": [],
   "source": [
    "sent1 = \"Biden has already made significant moves in requiring vaccines among public sector workers\"\n",
    "sent2 = \"Fully vaccinated people who test positive may also be eligible for authorized COVID-19 treatments, if their doctor says it's necessary\""
   ]
  },
  {
   "cell_type": "code",
   "execution_count": 59,
   "metadata": {},
   "outputs": [],
   "source": [
    "sim = cosine(sbert_model.encode([sent1])[0], sbert_model.encode([sent2])[0])"
   ]
  },
  {
   "cell_type": "code",
   "execution_count": 60,
   "metadata": {},
   "outputs": [
    {
     "data": {
      "text/plain": [
       "0.558436"
      ]
     },
     "execution_count": 60,
     "metadata": {},
     "output_type": "execute_result"
    }
   ],
   "source": [
    "sim"
   ]
  },
  {
   "cell_type": "code",
   "execution_count": null,
   "metadata": {},
   "outputs": [],
   "source": []
  }
 ],
 "metadata": {
  "interpreter": {
   "hash": "88685c02d7179f8a0efe8dc037c0f831e3cf85f6b3b9d37e237c2190ea9297e8"
  },
  "kernelspec": {
   "display_name": "Python 3.8.10 64-bit ('3.8.10': pyenv)",
   "name": "python3"
  },
  "language_info": {
   "codemirror_mode": {
    "name": "ipython",
    "version": 3
   },
   "file_extension": ".py",
   "mimetype": "text/x-python",
   "name": "python",
   "nbconvert_exporter": "python",
   "pygments_lexer": "ipython3",
   "version": "3.8.10"
  },
  "orig_nbformat": 4
 },
 "nbformat": 4,
 "nbformat_minor": 2
}
